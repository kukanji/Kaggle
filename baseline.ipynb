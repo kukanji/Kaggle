{
 "cells": [
  {
   "cell_type": "code",
   "execution_count": 1,
   "id": "6b97c22c",
   "metadata": {
    "_cell_guid": "b1076dfc-b9ad-4769-8c92-a6c4dae69d19",
    "_uuid": "8f2839f25d086af736a60e9eeb907d3b93b6e0e5",
    "execution": {
     "iopub.execute_input": "2022-10-23T15:17:17.437155Z",
     "iopub.status.busy": "2022-10-23T15:17:17.436194Z",
     "iopub.status.idle": "2022-10-23T15:17:17.451919Z",
     "shell.execute_reply": "2022-10-23T15:17:17.450664Z"
    },
    "papermill": {
     "duration": 0.028379,
     "end_time": "2022-10-23T15:17:17.454545",
     "exception": false,
     "start_time": "2022-10-23T15:17:17.426166",
     "status": "completed"
    },
    "tags": []
   },
   "outputs": [
    {
     "name": "stdout",
     "output_type": "stream",
     "text": [
      "/kaggle/input/titanic/train.csv\n",
      "/kaggle/input/titanic/test.csv\n",
      "/kaggle/input/titanic/gender_submission.csv\n"
     ]
    }
   ],
   "source": [
    "# This Python 3 environment comes with many helpful analytics libraries installed\n",
    "# It is defined by the kaggle/python Docker image: https://github.com/kaggle/docker-python\n",
    "# For example, here's several helpful packages to load\n",
    "\n",
    "import numpy as np # linear algebra\n",
    "import pandas as pd # data processing, CSV file I/O (e.g. pd.read_csv)\n",
    "\n",
    "# Input data files are available in the read-only \"../input/\" directory\n",
    "# For example, running this (by clicking run or pressing Shift+Enter) will list all files under the input directory\n",
    "\n",
    "import os\n",
    "for dirname, _, filenames in os.walk('/kaggle/input'):\n",
    "    for filename in filenames:\n",
    "        print(os.path.join(dirname, filename))\n",
    "\n",
    "# You can write up to 20GB to the current directory (/kaggle/working/) that gets preserved as output when you create a version using \"Save & Run All\" \n",
    "# You can also write temporary files to /kaggle/temp/, but they won't be saved outside of the current session"
   ]
  },
  {
   "cell_type": "code",
   "execution_count": 2,
   "id": "86e36954",
   "metadata": {
    "execution": {
     "iopub.execute_input": "2022-10-23T15:17:17.470642Z",
     "iopub.status.busy": "2022-10-23T15:17:17.470243Z",
     "iopub.status.idle": "2022-10-23T15:17:21.375558Z",
     "shell.execute_reply": "2022-10-23T15:17:21.374310Z"
    },
    "papermill": {
     "duration": 3.916319,
     "end_time": "2022-10-23T15:17:21.378344",
     "exception": false,
     "start_time": "2022-10-23T15:17:17.462025",
     "status": "completed"
    },
    "tags": []
   },
   "outputs": [
    {
     "data": {
      "text/html": [
       "<style type='text/css'>\n",
       ".datatable table.frame { margin-bottom: 0; }\n",
       ".datatable table.frame thead { border-bottom: none; }\n",
       ".datatable table.frame tr.coltypes td {  color: #FFFFFF;  line-height: 6px;  padding: 0 0.5em;}\n",
       ".datatable .bool    { background: #DDDD99; }\n",
       ".datatable .object  { background: #565656; }\n",
       ".datatable .int     { background: #5D9E5D; }\n",
       ".datatable .float   { background: #4040CC; }\n",
       ".datatable .str     { background: #CC4040; }\n",
       ".datatable .time    { background: #40CC40; }\n",
       ".datatable .row_index {  background: var(--jp-border-color3);  border-right: 1px solid var(--jp-border-color0);  color: var(--jp-ui-font-color3);  font-size: 9px;}\n",
       ".datatable .frame tbody td { text-align: left; }\n",
       ".datatable .frame tr.coltypes .row_index {  background: var(--jp-border-color0);}\n",
       ".datatable th:nth-child(2) { padding-left: 12px; }\n",
       ".datatable .hellipsis {  color: var(--jp-cell-editor-border-color);}\n",
       ".datatable .vellipsis {  background: var(--jp-layout-color0);  color: var(--jp-cell-editor-border-color);}\n",
       ".datatable .na {  color: var(--jp-cell-editor-border-color);  font-size: 80%;}\n",
       ".datatable .sp {  opacity: 0.25;}\n",
       ".datatable .footer { font-size: 9px; }\n",
       ".datatable .frame_dimensions {  background: var(--jp-border-color3);  border-top: 1px solid var(--jp-border-color0);  color: var(--jp-ui-font-color3);  display: inline-block;  opacity: 0.6;  padding: 1px 10px 1px 5px;}\n",
       "</style>\n"
      ],
      "text/plain": [
       "<IPython.core.display.HTML object>"
      ]
     },
     "metadata": {},
     "output_type": "display_data"
    }
   ],
   "source": [
    "import numpy as np\n",
    "import pandas as pd\n",
    "import os\n",
    "import pickle\n",
    "import gc\n",
    "#分布確認\n",
    "import pandas_profiling as pdp\n",
    "#可視化\n",
    "import matplotlib.pyplot as plt\n",
    "#前処理\n",
    "from sklearn.preprocessing import StandardScaler, MinMaxScaler,LabelEncoder, OneHotEncoder\n",
    "#モデリング\n",
    "from sklearn.model_selection import train_test_split, KFold,StratifiedKFold\n",
    "from sklearn.metrics import accuracy_score, roc_auc_score, confusion_matrix\n",
    "import lightgbm as lgb\n",
    "\n",
    "import warnings\n",
    "warnings.filterwarnings(\"ignore\")"
   ]
  },
  {
   "cell_type": "code",
   "execution_count": 3,
   "id": "ae5bb033",
   "metadata": {
    "execution": {
     "iopub.execute_input": "2022-10-23T15:17:21.394400Z",
     "iopub.status.busy": "2022-10-23T15:17:21.393984Z",
     "iopub.status.idle": "2022-10-23T15:17:21.430739Z",
     "shell.execute_reply": "2022-10-23T15:17:21.429480Z"
    },
    "papermill": {
     "duration": 0.047663,
     "end_time": "2022-10-23T15:17:21.433161",
     "exception": false,
     "start_time": "2022-10-23T15:17:21.385498",
     "status": "completed"
    },
    "tags": []
   },
   "outputs": [
    {
     "data": {
      "text/html": [
       "<div>\n",
       "<style scoped>\n",
       "    .dataframe tbody tr th:only-of-type {\n",
       "        vertical-align: middle;\n",
       "    }\n",
       "\n",
       "    .dataframe tbody tr th {\n",
       "        vertical-align: top;\n",
       "    }\n",
       "\n",
       "    .dataframe thead th {\n",
       "        text-align: right;\n",
       "    }\n",
       "</style>\n",
       "<table border=\"1\" class=\"dataframe\">\n",
       "  <thead>\n",
       "    <tr style=\"text-align: right;\">\n",
       "      <th></th>\n",
       "      <th>PassengerId</th>\n",
       "      <th>Survived</th>\n",
       "      <th>Pclass</th>\n",
       "      <th>Name</th>\n",
       "      <th>Sex</th>\n",
       "      <th>Age</th>\n",
       "      <th>SibSp</th>\n",
       "      <th>Parch</th>\n",
       "      <th>Ticket</th>\n",
       "      <th>Fare</th>\n",
       "      <th>Cabin</th>\n",
       "      <th>Embarked</th>\n",
       "    </tr>\n",
       "  </thead>\n",
       "  <tbody>\n",
       "    <tr>\n",
       "      <th>0</th>\n",
       "      <td>1</td>\n",
       "      <td>0</td>\n",
       "      <td>3</td>\n",
       "      <td>Braund, Mr. Owen Harris</td>\n",
       "      <td>male</td>\n",
       "      <td>22.0</td>\n",
       "      <td>1</td>\n",
       "      <td>0</td>\n",
       "      <td>A/5 21171</td>\n",
       "      <td>7.2500</td>\n",
       "      <td>NaN</td>\n",
       "      <td>S</td>\n",
       "    </tr>\n",
       "    <tr>\n",
       "      <th>1</th>\n",
       "      <td>2</td>\n",
       "      <td>1</td>\n",
       "      <td>1</td>\n",
       "      <td>Cumings, Mrs. John Bradley (Florence Briggs Th...</td>\n",
       "      <td>female</td>\n",
       "      <td>38.0</td>\n",
       "      <td>1</td>\n",
       "      <td>0</td>\n",
       "      <td>PC 17599</td>\n",
       "      <td>71.2833</td>\n",
       "      <td>C85</td>\n",
       "      <td>C</td>\n",
       "    </tr>\n",
       "    <tr>\n",
       "      <th>2</th>\n",
       "      <td>3</td>\n",
       "      <td>1</td>\n",
       "      <td>3</td>\n",
       "      <td>Heikkinen, Miss. Laina</td>\n",
       "      <td>female</td>\n",
       "      <td>26.0</td>\n",
       "      <td>0</td>\n",
       "      <td>0</td>\n",
       "      <td>STON/O2. 3101282</td>\n",
       "      <td>7.9250</td>\n",
       "      <td>NaN</td>\n",
       "      <td>S</td>\n",
       "    </tr>\n",
       "    <tr>\n",
       "      <th>3</th>\n",
       "      <td>4</td>\n",
       "      <td>1</td>\n",
       "      <td>1</td>\n",
       "      <td>Futrelle, Mrs. Jacques Heath (Lily May Peel)</td>\n",
       "      <td>female</td>\n",
       "      <td>35.0</td>\n",
       "      <td>1</td>\n",
       "      <td>0</td>\n",
       "      <td>113803</td>\n",
       "      <td>53.1000</td>\n",
       "      <td>C123</td>\n",
       "      <td>S</td>\n",
       "    </tr>\n",
       "    <tr>\n",
       "      <th>4</th>\n",
       "      <td>5</td>\n",
       "      <td>0</td>\n",
       "      <td>3</td>\n",
       "      <td>Allen, Mr. William Henry</td>\n",
       "      <td>male</td>\n",
       "      <td>35.0</td>\n",
       "      <td>0</td>\n",
       "      <td>0</td>\n",
       "      <td>373450</td>\n",
       "      <td>8.0500</td>\n",
       "      <td>NaN</td>\n",
       "      <td>S</td>\n",
       "    </tr>\n",
       "  </tbody>\n",
       "</table>\n",
       "</div>"
      ],
      "text/plain": [
       "   PassengerId  Survived  Pclass  \\\n",
       "0            1         0       3   \n",
       "1            2         1       1   \n",
       "2            3         1       3   \n",
       "3            4         1       1   \n",
       "4            5         0       3   \n",
       "\n",
       "                                                Name     Sex   Age  SibSp  \\\n",
       "0                            Braund, Mr. Owen Harris    male  22.0      1   \n",
       "1  Cumings, Mrs. John Bradley (Florence Briggs Th...  female  38.0      1   \n",
       "2                             Heikkinen, Miss. Laina  female  26.0      0   \n",
       "3       Futrelle, Mrs. Jacques Heath (Lily May Peel)  female  35.0      1   \n",
       "4                           Allen, Mr. William Henry    male  35.0      0   \n",
       "\n",
       "   Parch            Ticket     Fare Cabin Embarked  \n",
       "0      0         A/5 21171   7.2500   NaN        S  \n",
       "1      0          PC 17599  71.2833   C85        C  \n",
       "2      0  STON/O2. 3101282   7.9250   NaN        S  \n",
       "3      0            113803  53.1000  C123        S  \n",
       "4      0            373450   8.0500   NaN        S  "
      ]
     },
     "execution_count": 3,
     "metadata": {},
     "output_type": "execute_result"
    }
   ],
   "source": [
    "df_train = pd.read_csv(\"../input/titanic/train.csv\")\n",
    "df_train.head()"
   ]
  },
  {
   "cell_type": "code",
   "execution_count": 4,
   "id": "ccdae30e",
   "metadata": {
    "execution": {
     "iopub.execute_input": "2022-10-23T15:17:21.450260Z",
     "iopub.status.busy": "2022-10-23T15:17:21.449848Z",
     "iopub.status.idle": "2022-10-23T15:17:21.456757Z",
     "shell.execute_reply": "2022-10-23T15:17:21.455401Z"
    },
    "papermill": {
     "duration": 0.018535,
     "end_time": "2022-10-23T15:17:21.459293",
     "exception": false,
     "start_time": "2022-10-23T15:17:21.440758",
     "status": "completed"
    },
    "tags": []
   },
   "outputs": [
    {
     "name": "stdout",
     "output_type": "stream",
     "text": [
      "(891, 12)\n",
      "レコード数： 891\n",
      "カラム 12\n"
     ]
    }
   ],
   "source": [
    "print(df_train.shape)\n",
    "print(\"レコード数：\", len(df_train))\n",
    "print(\"カラム\", len(df_train.columns))"
   ]
  },
  {
   "cell_type": "code",
   "execution_count": 5,
   "id": "b74c4111",
   "metadata": {
    "execution": {
     "iopub.execute_input": "2022-10-23T15:17:21.476713Z",
     "iopub.status.busy": "2022-10-23T15:17:21.475806Z",
     "iopub.status.idle": "2022-10-23T15:17:21.505878Z",
     "shell.execute_reply": "2022-10-23T15:17:21.504420Z"
    },
    "papermill": {
     "duration": 0.042552,
     "end_time": "2022-10-23T15:17:21.509283",
     "exception": false,
     "start_time": "2022-10-23T15:17:21.466731",
     "status": "completed"
    },
    "tags": []
   },
   "outputs": [
    {
     "name": "stdout",
     "output_type": "stream",
     "text": [
      "<class 'pandas.core.frame.DataFrame'>\n",
      "RangeIndex: 891 entries, 0 to 890\n",
      "Data columns (total 12 columns):\n",
      " #   Column       Non-Null Count  Dtype  \n",
      "---  ------       --------------  -----  \n",
      " 0   PassengerId  891 non-null    int64  \n",
      " 1   Survived     891 non-null    int64  \n",
      " 2   Pclass       891 non-null    int64  \n",
      " 3   Name         891 non-null    object \n",
      " 4   Sex          891 non-null    object \n",
      " 5   Age          714 non-null    float64\n",
      " 6   SibSp        891 non-null    int64  \n",
      " 7   Parch        891 non-null    int64  \n",
      " 8   Ticket       891 non-null    object \n",
      " 9   Fare         891 non-null    float64\n",
      " 10  Cabin        204 non-null    object \n",
      " 11  Embarked     889 non-null    object \n",
      "dtypes: float64(2), int64(5), object(5)\n",
      "memory usage: 83.7+ KB\n"
     ]
    }
   ],
   "source": [
    "df_train.info()"
   ]
  },
  {
   "cell_type": "code",
   "execution_count": 6,
   "id": "93e984f9",
   "metadata": {
    "execution": {
     "iopub.execute_input": "2022-10-23T15:17:21.527068Z",
     "iopub.status.busy": "2022-10-23T15:17:21.526666Z",
     "iopub.status.idle": "2022-10-23T15:17:21.536681Z",
     "shell.execute_reply": "2022-10-23T15:17:21.535160Z"
    },
    "papermill": {
     "duration": 0.021623,
     "end_time": "2022-10-23T15:17:21.539145",
     "exception": false,
     "start_time": "2022-10-23T15:17:21.517522",
     "status": "completed"
    },
    "tags": []
   },
   "outputs": [
    {
     "data": {
      "text/plain": [
       "PassengerId      0\n",
       "Survived         0\n",
       "Pclass           0\n",
       "Name             0\n",
       "Sex              0\n",
       "Age            177\n",
       "SibSp            0\n",
       "Parch            0\n",
       "Ticket           0\n",
       "Fare             0\n",
       "Cabin          687\n",
       "Embarked         2\n",
       "dtype: int64"
      ]
     },
     "execution_count": 6,
     "metadata": {},
     "output_type": "execute_result"
    }
   ],
   "source": [
    "df_train.isnull().sum()"
   ]
  },
  {
   "cell_type": "code",
   "execution_count": 7,
   "id": "223978ee",
   "metadata": {
    "execution": {
     "iopub.execute_input": "2022-10-23T15:17:21.556871Z",
     "iopub.status.busy": "2022-10-23T15:17:21.556216Z",
     "iopub.status.idle": "2022-10-23T15:17:21.566612Z",
     "shell.execute_reply": "2022-10-23T15:17:21.565272Z"
    },
    "papermill": {
     "duration": 0.021979,
     "end_time": "2022-10-23T15:17:21.569028",
     "exception": false,
     "start_time": "2022-10-23T15:17:21.547049",
     "status": "completed"
    },
    "tags": []
   },
   "outputs": [
    {
     "name": "stdout",
     "output_type": "stream",
     "text": [
      "(891, 2) (891, 1) (891, 1)\n"
     ]
    }
   ],
   "source": [
    "x_train, y_train, id_train = df_train[[\"Pclass\", \"Fare\"]], \\\n",
    "df_train[[\"Survived\"]], \\\n",
    "df_train[[\"PassengerId\"]]\n",
    "print(x_train.shape, y_train.shape, id_train.shape)"
   ]
  },
  {
   "cell_type": "code",
   "execution_count": 8,
   "id": "5b7017fe",
   "metadata": {
    "execution": {
     "iopub.execute_input": "2022-10-23T15:17:21.588548Z",
     "iopub.status.busy": "2022-10-23T15:17:21.587893Z",
     "iopub.status.idle": "2022-10-23T15:17:21.606462Z",
     "shell.execute_reply": "2022-10-23T15:17:21.605225Z"
    },
    "papermill": {
     "duration": 0.030381,
     "end_time": "2022-10-23T15:17:21.608903",
     "exception": false,
     "start_time": "2022-10-23T15:17:21.578522",
     "status": "completed"
    },
    "tags": []
   },
   "outputs": [
    {
     "name": "stdout",
     "output_type": "stream",
     "text": [
      "(712, 2) (712, 1)\n",
      "(179, 2) (179, 1)\n",
      "y_train:0.384, y_tr:0.383, y_va:0.385\n"
     ]
    }
   ],
   "source": [
    "x_tr, x_va, y_tr, y_va = train_test_split(x_train,\n",
    "                                          y_train,test_size = 0.2,\n",
    "                                          shuffle = True,\n",
    "                                          stratify = y_train,\n",
    "                                          random_state = 123)\n",
    "print(x_tr.shape, y_tr.shape)\n",
    "print(x_va.shape, y_va.shape)\n",
    "print(\"y_train:{:.3f}, y_tr:{:.3f}, y_va:{:.3f}\".format(\n",
    "y_train[\"Survived\"].mean(),\n",
    "y_tr[\"Survived\"].mean(),\n",
    "y_va[\"Survived\"].mean(),\n",
    "))"
   ]
  },
  {
   "cell_type": "code",
   "execution_count": 9,
   "id": "2475e682",
   "metadata": {
    "execution": {
     "iopub.execute_input": "2022-10-23T15:17:21.626815Z",
     "iopub.status.busy": "2022-10-23T15:17:21.626134Z",
     "iopub.status.idle": "2022-10-23T15:17:21.652031Z",
     "shell.execute_reply": "2022-10-23T15:17:21.650771Z"
    },
    "papermill": {
     "duration": 0.038272,
     "end_time": "2022-10-23T15:17:21.655032",
     "exception": false,
     "start_time": "2022-10-23T15:17:21.616760",
     "status": "completed"
    },
    "tags": []
   },
   "outputs": [
    {
     "name": "stdout",
     "output_type": "stream",
     "text": [
      "-------------------- 0 --------------------\n",
      "(712, 2) (712, 1)\n",
      "(179, 2) (179, 1)\n",
      "y_train:0.384, y_tr:0.383, y_va:0.385\n",
      "-------------------- 1 --------------------\n",
      "(713, 2) (713, 1)\n",
      "(178, 2) (178, 1)\n",
      "y_train:0.384, y_tr:0.384, y_va:0.382\n",
      "-------------------- 2 --------------------\n",
      "(713, 2) (713, 1)\n",
      "(178, 2) (178, 1)\n",
      "y_train:0.384, y_tr:0.384, y_va:0.382\n",
      "-------------------- 3 --------------------\n",
      "(713, 2) (713, 1)\n",
      "(178, 2) (178, 1)\n",
      "y_train:0.384, y_tr:0.384, y_va:0.382\n",
      "-------------------- 4 --------------------\n",
      "(713, 2) (713, 1)\n",
      "(178, 2) (178, 1)\n",
      "y_train:0.384, y_tr:0.383, y_va:0.388\n"
     ]
    }
   ],
   "source": [
    "n_splits = 5\n",
    "cv = list(StratifiedKFold(n_splits = n_splits,\n",
    "                         shuffle = True,\n",
    "                         random_state = 123).split(x_train, y_train))\n",
    "\n",
    "for nfold in np.arange(n_splits):\n",
    "    print(\"-\" * 20, nfold, \"-\" * 20)\n",
    "    idx_tr, idx_va = cv[nfold][0], cv[nfold][1]\n",
    "    x_tr, y_tr = x_train.loc[idx_tr, :], y_train.loc[idx_tr, :]\n",
    "    x_va, y_va = x_train.loc[idx_va, :], y_train.loc[idx_va, :]\n",
    "    print(x_tr.shape, y_tr.shape)\n",
    "    print(x_va.shape, y_va.shape)\n",
    "    print(\"y_train:{:.3f}, y_tr:{:.3f}, y_va:{:.3f}\".format(\n",
    "        y_train[\"Survived\"].mean(),\n",
    "        y_tr[\"Survived\"].mean(),\n",
    "        y_va[\"Survived\"].mean(),\n",
    "        ))"
   ]
  },
  {
   "cell_type": "code",
   "execution_count": 10,
   "id": "d4dee085",
   "metadata": {
    "execution": {
     "iopub.execute_input": "2022-10-23T15:17:21.674899Z",
     "iopub.status.busy": "2022-10-23T15:17:21.673771Z",
     "iopub.status.idle": "2022-10-23T15:17:21.805145Z",
     "shell.execute_reply": "2022-10-23T15:17:21.803613Z"
    },
    "papermill": {
     "duration": 0.143535,
     "end_time": "2022-10-23T15:17:21.807615",
     "exception": false,
     "start_time": "2022-10-23T15:17:21.664080",
     "status": "completed"
    },
    "tags": []
   },
   "outputs": [
    {
     "name": "stdout",
     "output_type": "stream",
     "text": [
      "[10]\ttraining's auc: 0.775008\tvalid_1's auc: 0.745911\n",
      "[20]\ttraining's auc: 0.795725\tvalid_1's auc: 0.749036\n",
      "[30]\ttraining's auc: 0.804937\tvalid_1's auc: 0.751828\n",
      "[40]\ttraining's auc: 0.811443\tvalid_1's auc: 0.749036\n",
      "[50]\ttraining's auc: 0.817045\tvalid_1's auc: 0.747972\n",
      "[60]\ttraining's auc: 0.821208\tvalid_1's auc: 0.745778\n",
      "[70]\ttraining's auc: 0.825062\tvalid_1's auc: 0.740659\n",
      "[80]\ttraining's auc: 0.829433\tvalid_1's auc: 0.739596\n",
      "[90]\ttraining's auc: 0.832413\tvalid_1's auc: 0.738532\n",
      "[100]\ttraining's auc: 0.835177\tvalid_1's auc: 0.735607\n"
     ]
    },
    {
     "data": {
      "text/plain": [
       "LGBMClassifier(importance_type='gain', metric='auc', n_estimators=100000,\n",
       "               num_leaves=16, objective='binary', random_state=123)"
      ]
     },
     "execution_count": 10,
     "metadata": {},
     "output_type": "execute_result"
    }
   ],
   "source": [
    "params = {\n",
    "    'boosting_type': 'gbdt',\n",
    "    'objective': 'binary',\n",
    "    'metric': 'auc',\n",
    "    'learning_rate': 0.1,\n",
    "    'num_leaves': 16,\n",
    "    'n_estimators': 100000,\n",
    "    \"random_state\": 123,\n",
    "    \"importance_type\": \"gain\",\n",
    "}\n",
    "\n",
    "model = lgb.LGBMClassifier(**params)\n",
    "model.fit(x_tr, y_tr, eval_set = [(x_tr, y_tr), (x_va, y_va)], early_stopping_rounds = 100, verbose = 10,)"
   ]
  },
  {
   "cell_type": "code",
   "execution_count": 11,
   "id": "fab70900",
   "metadata": {
    "execution": {
     "iopub.execute_input": "2022-10-23T15:17:21.826308Z",
     "iopub.status.busy": "2022-10-23T15:17:21.825316Z",
     "iopub.status.idle": "2022-10-23T15:17:21.842560Z",
     "shell.execute_reply": "2022-10-23T15:17:21.841356Z"
    },
    "papermill": {
     "duration": 0.029368,
     "end_time": "2022-10-23T15:17:21.845283",
     "exception": false,
     "start_time": "2022-10-23T15:17:21.815915",
     "status": "completed"
    },
    "tags": []
   },
   "outputs": [
    {
     "name": "stdout",
     "output_type": "stream",
     "text": [
      "[accuracy] tr: 0.62, va: 0.61\n"
     ]
    }
   ],
   "source": [
    "y_tr_pred = model.predict(x_tr)\n",
    "y_va_pred = model.predict(x_va)\n",
    "metric_tr = accuracy_score(y_tr, y_tr_pred)\n",
    "metric_va = accuracy_score(y_va, y_va_pred)\n",
    "print(\"[accuracy] tr: {:.2f}, va: {:.2f}\".format(metric_tr, metric_va))"
   ]
  },
  {
   "cell_type": "code",
   "execution_count": 12,
   "id": "1d981ade",
   "metadata": {
    "execution": {
     "iopub.execute_input": "2022-10-23T15:17:21.863338Z",
     "iopub.status.busy": "2022-10-23T15:17:21.862943Z",
     "iopub.status.idle": "2022-10-23T15:17:21.875590Z",
     "shell.execute_reply": "2022-10-23T15:17:21.874433Z"
    },
    "papermill": {
     "duration": 0.024407,
     "end_time": "2022-10-23T15:17:21.877901",
     "exception": false,
     "start_time": "2022-10-23T15:17:21.853494",
     "status": "completed"
    },
    "tags": []
   },
   "outputs": [
    {
     "data": {
      "text/html": [
       "<div>\n",
       "<style scoped>\n",
       "    .dataframe tbody tr th:only-of-type {\n",
       "        vertical-align: middle;\n",
       "    }\n",
       "\n",
       "    .dataframe tbody tr th {\n",
       "        vertical-align: top;\n",
       "    }\n",
       "\n",
       "    .dataframe thead th {\n",
       "        text-align: right;\n",
       "    }\n",
       "</style>\n",
       "<table border=\"1\" class=\"dataframe\">\n",
       "  <thead>\n",
       "    <tr style=\"text-align: right;\">\n",
       "      <th></th>\n",
       "      <th>col</th>\n",
       "      <th>imp</th>\n",
       "    </tr>\n",
       "  </thead>\n",
       "  <tbody>\n",
       "    <tr>\n",
       "      <th>0</th>\n",
       "      <td>Fare</td>\n",
       "      <td>175.473267</td>\n",
       "    </tr>\n",
       "    <tr>\n",
       "      <th>1</th>\n",
       "      <td>Pclass</td>\n",
       "      <td>169.153896</td>\n",
       "    </tr>\n",
       "  </tbody>\n",
       "</table>\n",
       "</div>"
      ],
      "text/plain": [
       "      col         imp\n",
       "0    Fare  175.473267\n",
       "1  Pclass  169.153896"
      ]
     },
     "execution_count": 12,
     "metadata": {},
     "output_type": "execute_result"
    }
   ],
   "source": [
    "imp = pd.DataFrame({\"col\":x_train.columns, \"imp\":model.feature_importances_})\n",
    "imp.sort_values(\"imp\", ascending = False, ignore_index = True)"
   ]
  },
  {
   "cell_type": "code",
   "execution_count": 13,
   "id": "c582eca2",
   "metadata": {
    "execution": {
     "iopub.execute_input": "2022-10-23T15:17:21.896531Z",
     "iopub.status.busy": "2022-10-23T15:17:21.896155Z",
     "iopub.status.idle": "2022-10-23T15:17:22.447354Z",
     "shell.execute_reply": "2022-10-23T15:17:22.445978Z"
    },
    "papermill": {
     "duration": 0.564231,
     "end_time": "2022-10-23T15:17:22.450485",
     "exception": false,
     "start_time": "2022-10-23T15:17:21.886254",
     "status": "completed"
    },
    "tags": []
   },
   "outputs": [
    {
     "name": "stdout",
     "output_type": "stream",
     "text": [
      "-------------------- 0 --------------------\n",
      "(712, 2) (712, 1)\n",
      "(179, 2) (179, 1)\n",
      "y_train:0.384, y_tr:0.383, y_va:0.385\n",
      "[100]\ttraining's auc: 0.844961\tvalid_1's auc: 0.716469\n",
      "[accuracy] tr: 0.72, va: 0.68\n",
      "-------------------- 1 --------------------\n",
      "(713, 2) (713, 1)\n",
      "(178, 2) (178, 1)\n",
      "y_train:0.384, y_tr:0.384, y_va:0.382\n",
      "[100]\ttraining's auc: 0.826717\tvalid_1's auc: 0.753008\n",
      "[accuracy] tr: 0.75, va: 0.68\n",
      "-------------------- 2 --------------------\n",
      "(713, 2) (713, 1)\n",
      "(178, 2) (178, 1)\n",
      "y_train:0.384, y_tr:0.384, y_va:0.382\n",
      "[100]\ttraining's auc: 0.839483\tvalid_1's auc: 0.732687\n",
      "[200]\ttraining's auc: 0.849542\tvalid_1's auc: 0.737233\n",
      "[accuracy] tr: 0.77, va: 0.69\n",
      "-------------------- 3 --------------------\n",
      "(713, 2) (713, 1)\n",
      "(178, 2) (178, 1)\n",
      "y_train:0.384, y_tr:0.384, y_va:0.382\n",
      "[100]\ttraining's auc: 0.831826\tvalid_1's auc: 0.752941\n",
      "[accuracy] tr: 0.75, va: 0.69\n",
      "-------------------- 4 --------------------\n",
      "(713, 2) (713, 1)\n",
      "(178, 2) (178, 1)\n",
      "y_train:0.384, y_tr:0.383, y_va:0.388\n",
      "[100]\ttraining's auc: 0.835177\tvalid_1's auc: 0.735607\n",
      "[accuracy] tr: 0.62, va: 0.61\n",
      "-------------------- result --------------------\n",
      "[[0.         0.72050562 0.67597765]\n",
      " [1.         0.75175316 0.67977528]\n",
      " [2.         0.7713885  0.68539326]\n",
      " [3.         0.74614306 0.69101124]\n",
      " [4.         0.6171108  0.61235955]]\n",
      "[cv ] tr: 0.72 +- 0.05, va: 0.67 +- 0.03\n",
      "Done.\n"
     ]
    }
   ],
   "source": [
    "params = {\n",
    "    'boosting_type': 'gbdt',\n",
    "    'objective': 'binary',\n",
    "    'metric': 'auc',\n",
    "    'learning_rate': 0.1,\n",
    "    'num_leaves': 16,\n",
    "    'n_estimators': 100000,\n",
    "    \"random_state\": 123,\n",
    "    \"importance_type\": \"gain\",\n",
    "}\n",
    "\n",
    "metrics = []\n",
    "imp = pd.DataFrame()\n",
    "\n",
    "n_splits = 5\n",
    "cv = list(StratifiedKFold(n_splits = n_splits,\n",
    "                         shuffle = True,\n",
    "                         random_state = 123).split(x_train, y_train))\n",
    "\n",
    "for nfold in np.arange(n_splits):\n",
    "    print(\"-\" * 20, nfold, \"-\" * 20)\n",
    "    idx_tr, idx_va = cv[nfold][0], cv[nfold][1]\n",
    "    x_tr, y_tr = x_train.loc[idx_tr, :], y_train.loc[idx_tr, :]\n",
    "    x_va, y_va = x_train.loc[idx_va, :], y_train.loc[idx_va, :]\n",
    "    print(x_tr.shape, y_tr.shape)\n",
    "    print(x_va.shape, y_va.shape)\n",
    "    print(\"y_train:{:.3f}, y_tr:{:.3f}, y_va:{:.3f}\".format(\n",
    "        y_train[\"Survived\"].mean(),\n",
    "        y_tr[\"Survived\"].mean(),\n",
    "        y_va[\"Survived\"].mean(),\n",
    "    ))\n",
    "    model = lgb.LGBMClassifier(**params)\n",
    "    model.fit(x_tr,\n",
    "              y_tr,\n",
    "              eval_set = [(x_tr, y_tr),(x_va, y_va)],\n",
    "              early_stopping_rounds = 100, verbose = 100,\n",
    "             )\n",
    "    \n",
    "    y_tr_pred = model.predict(x_tr)\n",
    "    y_va_pred = model.predict(x_va)\n",
    "    metric_tr = accuracy_score(y_tr, y_tr_pred)\n",
    "    metric_va = accuracy_score(y_va, y_va_pred)\n",
    "    print(\"[accuracy] tr: {:.2f}, va: {:.2f}\".format(metric_tr, metric_va))\n",
    "    metrics.append([nfold, metric_tr, metric_va])\n",
    "    \n",
    "    _imp = pd.DataFrame({\"col\":x_train.columns,\n",
    "                         \"imp\":model.feature_importances_,\n",
    "                         \"nfold\":nfold})\n",
    "    imp = pd.concat([imp, _imp], axis = 0, ignore_index = True)\n",
    "    \n",
    "print(\"-\" * 20, \"result\", \"-\" * 20)\n",
    "metrics = np.array(metrics)\n",
    "print(metrics)\n",
    "\n",
    "print(\"[cv ] tr: {:.2f} +- {:.2f}, va: {:.2f} +- {:.2f}\".format(\n",
    "metrics[:, 1].mean(), metrics[:, 1].std(),\n",
    "metrics[:, 2].mean(), metrics[:, 2].std(),\n",
    "))\n",
    "\n",
    "imp = imp.groupby(\"col\")[\"imp\"].agg([\"mean\", \"std\"])\n",
    "imp.columns = [\"imp\", \"imp_std\"]\n",
    "imp = imp.reset_index(drop = False)\n",
    "\n",
    "print(\"Done.\")"
   ]
  },
  {
   "cell_type": "code",
   "execution_count": 14,
   "id": "092fdd25",
   "metadata": {
    "execution": {
     "iopub.execute_input": "2022-10-23T15:17:22.472147Z",
     "iopub.status.busy": "2022-10-23T15:17:22.471128Z",
     "iopub.status.idle": "2022-10-23T15:17:22.482771Z",
     "shell.execute_reply": "2022-10-23T15:17:22.481956Z"
    },
    "papermill": {
     "duration": 0.024622,
     "end_time": "2022-10-23T15:17:22.484904",
     "exception": false,
     "start_time": "2022-10-23T15:17:22.460282",
     "status": "completed"
    },
    "tags": []
   },
   "outputs": [
    {
     "data": {
      "text/html": [
       "<div>\n",
       "<style scoped>\n",
       "    .dataframe tbody tr th:only-of-type {\n",
       "        vertical-align: middle;\n",
       "    }\n",
       "\n",
       "    .dataframe tbody tr th {\n",
       "        vertical-align: top;\n",
       "    }\n",
       "\n",
       "    .dataframe thead th {\n",
       "        text-align: right;\n",
       "    }\n",
       "</style>\n",
       "<table border=\"1\" class=\"dataframe\">\n",
       "  <thead>\n",
       "    <tr style=\"text-align: right;\">\n",
       "      <th></th>\n",
       "      <th>col</th>\n",
       "      <th>imp</th>\n",
       "      <th>imp_std</th>\n",
       "    </tr>\n",
       "  </thead>\n",
       "  <tbody>\n",
       "    <tr>\n",
       "      <th>0</th>\n",
       "      <td>Fare</td>\n",
       "      <td>679.390270</td>\n",
       "      <td>356.992896</td>\n",
       "    </tr>\n",
       "    <tr>\n",
       "      <th>1</th>\n",
       "      <td>Pclass</td>\n",
       "      <td>291.704529</td>\n",
       "      <td>138.843896</td>\n",
       "    </tr>\n",
       "  </tbody>\n",
       "</table>\n",
       "</div>"
      ],
      "text/plain": [
       "      col         imp     imp_std\n",
       "0    Fare  679.390270  356.992896\n",
       "1  Pclass  291.704529  138.843896"
      ]
     },
     "execution_count": 14,
     "metadata": {},
     "output_type": "execute_result"
    }
   ],
   "source": [
    "imp.sort_values(\"imp\", ascending = False, ignore_index = True)"
   ]
  },
  {
   "cell_type": "code",
   "execution_count": 15,
   "id": "4b22b30e",
   "metadata": {
    "execution": {
     "iopub.execute_input": "2022-10-23T15:17:22.505270Z",
     "iopub.status.busy": "2022-10-23T15:17:22.504534Z",
     "iopub.status.idle": "2022-10-23T15:17:22.518263Z",
     "shell.execute_reply": "2022-10-23T15:17:22.516864Z"
    },
    "papermill": {
     "duration": 0.026826,
     "end_time": "2022-10-23T15:17:22.520889",
     "exception": false,
     "start_time": "2022-10-23T15:17:22.494063",
     "status": "completed"
    },
    "tags": []
   },
   "outputs": [
    {
     "name": "stdout",
     "output_type": "stream",
     "text": [
      "(712, 2) (712, 1)\n",
      "(179, 2) (179, 1)\n"
     ]
    }
   ],
   "source": [
    "x_tr, x_va2, y_tr, y_va2 = train_test_split(x_train, y_train, test_size = 0.2, shuffle = True, stratify = y_train, random_state = 123)\n",
    "\n",
    "print(x_tr.shape, y_tr.shape)\n",
    "print(x_va2.shape, y_va2.shape)\n"
   ]
  },
  {
   "cell_type": "code",
   "execution_count": 16,
   "id": "bc208a36",
   "metadata": {
    "execution": {
     "iopub.execute_input": "2022-10-23T15:17:22.541404Z",
     "iopub.status.busy": "2022-10-23T15:17:22.541005Z",
     "iopub.status.idle": "2022-10-23T15:17:22.554521Z",
     "shell.execute_reply": "2022-10-23T15:17:22.553098Z"
    },
    "papermill": {
     "duration": 0.026198,
     "end_time": "2022-10-23T15:17:22.556806",
     "exception": false,
     "start_time": "2022-10-23T15:17:22.530608",
     "status": "completed"
    },
    "tags": []
   },
   "outputs": [
    {
     "name": "stdout",
     "output_type": "stream",
     "text": [
      "(569, 2) (569, 1)\n",
      "(143, 2) (143, 1)\n"
     ]
    }
   ],
   "source": [
    "x_tr1, x_va1, y_tr1, y_va1 = train_test_split(x_tr, \n",
    "                                              y_tr,\n",
    "                                              test_size = 0.2,\n",
    "                                              shuffle = True,\n",
    "                                              stratify = y_tr,\n",
    "                                              random_state = 789)\n",
    "print(x_tr1.shape, y_tr1.shape)\n",
    "print(x_va1.shape, y_va1.shape)"
   ]
  },
  {
   "cell_type": "code",
   "execution_count": 17,
   "id": "29b9e742",
   "metadata": {
    "execution": {
     "iopub.execute_input": "2022-10-23T15:17:22.577581Z",
     "iopub.status.busy": "2022-10-23T15:17:22.576971Z",
     "iopub.status.idle": "2022-10-23T15:17:22.658531Z",
     "shell.execute_reply": "2022-10-23T15:17:22.657475Z"
    },
    "papermill": {
     "duration": 0.094691,
     "end_time": "2022-10-23T15:17:22.661138",
     "exception": false,
     "start_time": "2022-10-23T15:17:22.566447",
     "status": "completed"
    },
    "tags": []
   },
   "outputs": [
    {
     "name": "stdout",
     "output_type": "stream",
     "text": [
      "[10]\ttraining's auc: 0.792153\tvalid_1's auc: 0.72562\n",
      "[20]\ttraining's auc: 0.810025\tvalid_1's auc: 0.712087\n",
      "[30]\ttraining's auc: 0.822545\tvalid_1's auc: 0.72376\n",
      "[40]\ttraining's auc: 0.829204\tvalid_1's auc: 0.719421\n",
      "[50]\ttraining's auc: 0.836699\tvalid_1's auc: 0.720455\n",
      "[60]\ttraining's auc: 0.841808\tvalid_1's auc: 0.716322\n",
      "[70]\ttraining's auc: 0.84684\tvalid_1's auc: 0.71281\n",
      "[80]\ttraining's auc: 0.851009\tvalid_1's auc: 0.716529\n",
      "[90]\ttraining's auc: 0.85472\tvalid_1's auc: 0.720041\n",
      "[100]\ttraining's auc: 0.856354\tvalid_1's auc: 0.722934\n"
     ]
    },
    {
     "data": {
      "text/plain": [
       "LGBMClassifier(importance_type='gain', metric='auc', n_estimators=100000,\n",
       "               num_leaves=16, objective='binary', random_state=123)"
      ]
     },
     "execution_count": 17,
     "metadata": {},
     "output_type": "execute_result"
    }
   ],
   "source": [
    "params = {\n",
    "    'boosting_type': 'gbdt',\n",
    "    'objective': 'binary',\n",
    "    'metric': 'auc',\n",
    "    'learning_rate': 0.1,\n",
    "    'num_leaves': 16,\n",
    "    'n_estimators': 100000,\n",
    "    \"random_state\": 123,\n",
    "    \"importance_type\": \"gain\",\n",
    "}\n",
    "\n",
    "model = lgb.LGBMClassifier(**params)\n",
    "model.fit(x_tr1, y_tr1, eval_set = [(x_tr1, y_tr1), (x_va1, y_va1)], early_stopping_rounds = 100, verbose = 10,)"
   ]
  },
  {
   "cell_type": "code",
   "execution_count": 18,
   "id": "e41d1366",
   "metadata": {
    "execution": {
     "iopub.execute_input": "2022-10-23T15:17:22.682797Z",
     "iopub.status.busy": "2022-10-23T15:17:22.682408Z",
     "iopub.status.idle": "2022-10-23T15:17:22.705810Z",
     "shell.execute_reply": "2022-10-23T15:17:22.704591Z"
    },
    "papermill": {
     "duration": 0.03709,
     "end_time": "2022-10-23T15:17:22.708644",
     "exception": false,
     "start_time": "2022-10-23T15:17:22.671554",
     "status": "completed"
    },
    "tags": []
   },
   "outputs": [],
   "source": [
    "y_va1_pred = model.predict(x_va1)\n",
    "y_va2_pred = model.predict(x_va2)"
   ]
  },
  {
   "cell_type": "code",
   "execution_count": 19,
   "id": "b350ff70",
   "metadata": {
    "execution": {
     "iopub.execute_input": "2022-10-23T15:17:22.730459Z",
     "iopub.status.busy": "2022-10-23T15:17:22.729687Z",
     "iopub.status.idle": "2022-10-23T15:17:22.736992Z",
     "shell.execute_reply": "2022-10-23T15:17:22.735880Z"
    },
    "papermill": {
     "duration": 0.020875,
     "end_time": "2022-10-23T15:17:22.739439",
     "exception": false,
     "start_time": "2022-10-23T15:17:22.718564",
     "status": "completed"
    },
    "tags": []
   },
   "outputs": [
    {
     "name": "stdout",
     "output_type": "stream",
     "text": [
      "[検証データ] acc: 0.7133\n",
      "[ベースライン検証データ] acc: 0.7095\n"
     ]
    }
   ],
   "source": [
    "print(\"[検証データ] acc: {:.4f}\".format(accuracy_score(y_va1, y_va1_pred)))\n",
    "print(\"[ベースライン検証データ] acc: {:.4f}\".format(accuracy_score(y_va2, y_va2_pred)))"
   ]
  },
  {
   "cell_type": "code",
   "execution_count": 20,
   "id": "cc22ff7b",
   "metadata": {
    "execution": {
     "iopub.execute_input": "2022-10-23T15:17:22.760719Z",
     "iopub.status.busy": "2022-10-23T15:17:22.759926Z",
     "iopub.status.idle": "2022-10-23T15:17:22.771204Z",
     "shell.execute_reply": "2022-10-23T15:17:22.770231Z"
    },
    "papermill": {
     "duration": 0.024371,
     "end_time": "2022-10-23T15:17:22.773459",
     "exception": false,
     "start_time": "2022-10-23T15:17:22.749088",
     "status": "completed"
    },
    "tags": []
   },
   "outputs": [
    {
     "name": "stdout",
     "output_type": "stream",
     "text": [
      "検証用データ\n",
      "[[76 12]\n",
      " [29 26]]\n",
      "[[0.53146853 0.08391608]\n",
      " [0.2027972  0.18181818]]\n",
      "ベースライン検証用データ\n",
      "[[92 18]\n",
      " [34 35]]\n",
      "[[0.51396648 0.10055866]\n",
      " [0.18994413 0.19553073]]\n"
     ]
    }
   ],
   "source": [
    "print(\"検証用データ\")\n",
    "print(confusion_matrix(y_va1, y_va1_pred))\n",
    "print(confusion_matrix(y_va1, y_va1_pred, normalize = \"all\"))\n",
    "print(\"ベースライン検証用データ\")\n",
    "print(confusion_matrix(y_va2, y_va2_pred))\n",
    "print(confusion_matrix(y_va2, y_va2_pred, normalize = \"all\"))"
   ]
  },
  {
   "cell_type": "code",
   "execution_count": 21,
   "id": "0f97f538",
   "metadata": {
    "execution": {
     "iopub.execute_input": "2022-10-23T15:17:22.795158Z",
     "iopub.status.busy": "2022-10-23T15:17:22.794443Z",
     "iopub.status.idle": "2022-10-23T15:17:23.067490Z",
     "shell.execute_reply": "2022-10-23T15:17:23.066352Z"
    },
    "papermill": {
     "duration": 0.28759,
     "end_time": "2022-10-23T15:17:23.070887",
     "exception": false,
     "start_time": "2022-10-23T15:17:22.783297",
     "status": "completed"
    },
    "tags": []
   },
   "outputs": [
    {
     "data": {
      "text/plain": [
       "<matplotlib.legend.Legend at 0x7fe8b7a06fd0>"
      ]
     },
     "execution_count": 21,
     "metadata": {},
     "output_type": "execute_result"
    }
   ],
   "source": [
    "#予測値の確率算出\n",
    "y_va1_pred_prob = model.predict_proba(x_va1)[:, 1]\n",
    "y_va2_pred_prob = model.predict_proba(x_va2)[:, 1]\n",
    "#確率値をヒストグラムで可視化\n",
    "fig = plt.figure(figsize = (10, 8))\n",
    "#検証データ\n",
    "fig.add_subplot(2, 1, 1)\n",
    "plt.title(\"検証データ\")\n",
    "plt.hist(y_va1_pred_prob[np.array(y_va1).reshape(-1) == 1], bins = 10, alpha = 0.5, label = \"1\")\n",
    "plt.hist(y_va1_pred_prob[np.array(y_va1).reshape(-1) == 0], bins = 10, alpha = 0.5, label = \"0\")\n",
    "plt.grid()\n",
    "plt.legend()\n",
    "#ベースライン検証用データ\n",
    "fig.add_subplot(2, 1, 2)\n",
    "plt.title(\"ベースライン検証用データ\")\n",
    "plt.hist(y_va2_pred_prob[np.array(y_va2).reshape(-1) == 1], bins = 10, alpha = 0.5, label = \"1\")\n",
    "plt.hist(y_va2_pred_prob[np.array(y_va2).reshape(-1) == 0], bins = 10, alpha = 0.5, label = \"0\")\n",
    "plt.grid()\n",
    "plt.legend()\n"
   ]
  },
  {
   "cell_type": "code",
   "execution_count": 22,
   "id": "8e89c118",
   "metadata": {
    "execution": {
     "iopub.execute_input": "2022-10-23T15:17:23.094071Z",
     "iopub.status.busy": "2022-10-23T15:17:23.093663Z",
     "iopub.status.idle": "2022-10-23T15:17:23.106599Z",
     "shell.execute_reply": "2022-10-23T15:17:23.105587Z"
    },
    "papermill": {
     "duration": 0.026956,
     "end_time": "2022-10-23T15:17:23.109246",
     "exception": false,
     "start_time": "2022-10-23T15:17:23.082290",
     "status": "completed"
    },
    "tags": []
   },
   "outputs": [],
   "source": [
    "#推論用データセットの作成\n",
    "df_test = pd.read_csv(\"../input/titanic/test.csv\")\n",
    "x_test = df_test[[\"Pclass\", \"Fare\"]]\n",
    "id_test = df_test[[\"PassengerId\"]]"
   ]
  },
  {
   "cell_type": "code",
   "execution_count": 23,
   "id": "c8bcdded",
   "metadata": {
    "execution": {
     "iopub.execute_input": "2022-10-23T15:17:23.130438Z",
     "iopub.status.busy": "2022-10-23T15:17:23.130052Z",
     "iopub.status.idle": "2022-10-23T15:17:23.138981Z",
     "shell.execute_reply": "2022-10-23T15:17:23.137987Z"
    },
    "papermill": {
     "duration": 0.022432,
     "end_time": "2022-10-23T15:17:23.141575",
     "exception": false,
     "start_time": "2022-10-23T15:17:23.119143",
     "status": "completed"
    },
    "tags": []
   },
   "outputs": [],
   "source": [
    "#学習モデルによる推論\n",
    "y_test_pred = model.predict(x_test)"
   ]
  },
  {
   "cell_type": "code",
   "execution_count": 24,
   "id": "7dc2bdbd",
   "metadata": {
    "execution": {
     "iopub.execute_input": "2022-10-23T15:17:23.163040Z",
     "iopub.status.busy": "2022-10-23T15:17:23.162532Z",
     "iopub.status.idle": "2022-10-23T15:17:23.176614Z",
     "shell.execute_reply": "2022-10-23T15:17:23.175527Z"
    },
    "papermill": {
     "duration": 0.027249,
     "end_time": "2022-10-23T15:17:23.179059",
     "exception": false,
     "start_time": "2022-10-23T15:17:23.151810",
     "status": "completed"
    },
    "tags": []
   },
   "outputs": [
    {
     "data": {
      "text/html": [
       "<div>\n",
       "<style scoped>\n",
       "    .dataframe tbody tr th:only-of-type {\n",
       "        vertical-align: middle;\n",
       "    }\n",
       "\n",
       "    .dataframe tbody tr th {\n",
       "        vertical-align: top;\n",
       "    }\n",
       "\n",
       "    .dataframe thead th {\n",
       "        text-align: right;\n",
       "    }\n",
       "</style>\n",
       "<table border=\"1\" class=\"dataframe\">\n",
       "  <thead>\n",
       "    <tr style=\"text-align: right;\">\n",
       "      <th></th>\n",
       "      <th>PassengerId</th>\n",
       "      <th>Survived</th>\n",
       "    </tr>\n",
       "  </thead>\n",
       "  <tbody>\n",
       "    <tr>\n",
       "      <th>0</th>\n",
       "      <td>892</td>\n",
       "      <td>0</td>\n",
       "    </tr>\n",
       "    <tr>\n",
       "      <th>1</th>\n",
       "      <td>893</td>\n",
       "      <td>0</td>\n",
       "    </tr>\n",
       "    <tr>\n",
       "      <th>2</th>\n",
       "      <td>894</td>\n",
       "      <td>0</td>\n",
       "    </tr>\n",
       "    <tr>\n",
       "      <th>3</th>\n",
       "      <td>895</td>\n",
       "      <td>0</td>\n",
       "    </tr>\n",
       "    <tr>\n",
       "      <th>4</th>\n",
       "      <td>896</td>\n",
       "      <td>0</td>\n",
       "    </tr>\n",
       "  </tbody>\n",
       "</table>\n",
       "</div>"
      ],
      "text/plain": [
       "   PassengerId  Survived\n",
       "0          892         0\n",
       "1          893         0\n",
       "2          894         0\n",
       "3          895         0\n",
       "4          896         0"
      ]
     },
     "metadata": {},
     "output_type": "display_data"
    }
   ],
   "source": [
    "#提出用ファイルの作成\n",
    "df_submit = pd.DataFrame({\"PassengerId\":id_test[\"PassengerId\"], \"Survived\":y_test_pred})\n",
    "display(df_submit.head(5))\n",
    "df_submit.to_csv(\"submission_baseline.csv\", index = None)"
   ]
  },
  {
   "cell_type": "code",
   "execution_count": 25,
   "id": "92b95385",
   "metadata": {
    "execution": {
     "iopub.execute_input": "2022-10-23T15:17:23.200587Z",
     "iopub.status.busy": "2022-10-23T15:17:23.200191Z",
     "iopub.status.idle": "2022-10-23T15:17:23.217237Z",
     "shell.execute_reply": "2022-10-23T15:17:23.216078Z"
    },
    "papermill": {
     "duration": 0.030551,
     "end_time": "2022-10-23T15:17:23.219642",
     "exception": false,
     "start_time": "2022-10-23T15:17:23.189091",
     "status": "completed"
    },
    "tags": []
   },
   "outputs": [],
   "source": [
    "#スクリプト5－1\n",
    "params = {\n",
    "    'boosting_type': 'gbdt',\n",
    "    'objective': 'binary',\n",
    "    'learning_rate': 0.1,\n",
    "    'num_leaves': 16,\n",
    "    'n_estimators': 100000,\n",
    "    \"random_state\": 123,\n",
    "    \"importance_type\": \"gain\",\n",
    "}\n",
    "\n",
    "def train_cv(input_x,input_y,input_id,params,n_splits = 5,):\n",
    "    metrics = []\n",
    "    imp = pd.DataFrame()\n",
    "    \n",
    "    cv = list(StratifiedKFold(n_splits = n_splits, shuffle = True, random_state = 123).split(input_x, input_y))\n",
    "    \n",
    "    for nfold in np.arange(n_splits):\n",
    "        print(\"-\" * 20, nfold, \"-\" * 20)\n",
    "        idx_tr, idx_va = cv[nfold][0], cv[nfold][1]\n",
    "        x_tr, y_tr = input_x.loc[idx_tr, :], input_y.loc[idx_tr, :]\n",
    "        x_va, y_va = input_x.loc[idx_va, :], input_y.loc[idx_va, :]\n",
    "        print(x_tr.shape, y_tr.shape)\n",
    "        print(x_va.shape, y_va.shape)\n",
    "        print(\"y_train:{:.3f}, y_tr:{:.3f}, y_va:{:.3f}\".format(input_y[\"Survived\"].mean(),y_tr[\"Survived\"].mean(),y_va[\"Survived\"].mean(),))\n",
    "        \n",
    "        model = lgb.LGBMClassifier(**params)\n",
    "        model.fit(x_tr,y_tr,eval_set = [(x_tr, y_tr), (x_va, y_va)],early_stopping_rounds = 100,verbose = 100,)\n",
    "        y_tr_pred = model.predict(x_tr)\n",
    "        y_va_pred = model.predict(x_va)\n",
    "        metric_tr = accuracy_score(y_tr, y_tr_pred)\n",
    "        metric_va = accuracy_score(y_va, y_va_pred)\n",
    "        print(\"[accuracy] tr: {:.2f}, va: {:.2f}\".format(metric_tr, metric_va))\n",
    "        metrics.append([nfold, metric_tr, metric_va])\n",
    "        \n",
    "        _imp = pd.DataFrame({\"col\":input_x.columns, \"imp\":model.feature_importances_,\n",
    "                            \"nfold\": nfold})\n",
    "        imp = pd.concat([imp, _imp], axis = 0, ignore_index = True)\n",
    "        \n",
    "    print(\"-\" * 20, \"result\", \"-\" * 20)\n",
    "    metrics = np.array(metrics)\n",
    "    print(metrics)\n",
    "    \n",
    "    print(\"[cv ] tr: {:.2f} +- {:.2f}, va: {:.2f} +- {:.2f}\".format(\n",
    "        metrics[:, 1].mean(), metrics[:, 1].std(),\n",
    "        metrics[:, 2].mean(), metrics[:, 2].std(),\n",
    "    ))\n",
    "    \n",
    "    imp = imp.groupby(\"col\")[\"imp\"].agg([\"mean\", \"std\"])\n",
    "    imp.columns = [\"imp\", \"imp_std\"]\n",
    "    imp = imp.reset_index(drop = False)\n",
    "    \n",
    "    print(\"Done.\")\n",
    "    \n",
    "    return imp, metrics\n",
    "    "
   ]
  },
  {
   "cell_type": "code",
   "execution_count": 26,
   "id": "e4b8972c",
   "metadata": {
    "execution": {
     "iopub.execute_input": "2022-10-23T15:17:23.241303Z",
     "iopub.status.busy": "2022-10-23T15:17:23.240517Z",
     "iopub.status.idle": "2022-10-23T15:17:23.892720Z",
     "shell.execute_reply": "2022-10-23T15:17:23.891475Z"
    },
    "papermill": {
     "duration": 0.665687,
     "end_time": "2022-10-23T15:17:23.895165",
     "exception": false,
     "start_time": "2022-10-23T15:17:23.229478",
     "status": "completed"
    },
    "tags": []
   },
   "outputs": [
    {
     "name": "stdout",
     "output_type": "stream",
     "text": [
      "-------------------- 0 --------------------\n",
      "(712, 2) (712, 1)\n",
      "(179, 2) (179, 1)\n",
      "y_train:0.384, y_tr:0.383, y_va:0.385\n",
      "[100]\ttraining's binary_logloss: 0.470281\tvalid_1's binary_logloss: 0.605425\n",
      "[accuracy] tr: 0.75, va: 0.70\n",
      "-------------------- 1 --------------------\n",
      "(713, 2) (713, 1)\n",
      "(178, 2) (178, 1)\n",
      "y_train:0.384, y_tr:0.384, y_va:0.382\n",
      "[100]\ttraining's binary_logloss: 0.492136\tvalid_1's binary_logloss: 0.564637\n",
      "[200]\ttraining's binary_logloss: 0.476557\tvalid_1's binary_logloss: 0.567317\n",
      "[accuracy] tr: 0.76, va: 0.67\n",
      "-------------------- 2 --------------------\n",
      "(713, 2) (713, 1)\n",
      "(178, 2) (178, 1)\n",
      "y_train:0.384, y_tr:0.384, y_va:0.382\n",
      "[100]\ttraining's binary_logloss: 0.478738\tvalid_1's binary_logloss: 0.612512\n",
      "[accuracy] tr: 0.74, va: 0.67\n",
      "-------------------- 3 --------------------\n",
      "(713, 2) (713, 1)\n",
      "(178, 2) (178, 1)\n",
      "y_train:0.384, y_tr:0.384, y_va:0.382\n",
      "[100]\ttraining's binary_logloss: 0.490942\tvalid_1's binary_logloss: 0.562039\n",
      "[200]\ttraining's binary_logloss: 0.47477\tvalid_1's binary_logloss: 0.556179\n",
      "[300]\ttraining's binary_logloss: 0.465518\tvalid_1's binary_logloss: 0.553075\n",
      "[400]\ttraining's binary_logloss: 0.459855\tvalid_1's binary_logloss: 0.552582\n",
      "[accuracy] tr: 0.77, va: 0.72\n",
      "-------------------- 4 --------------------\n",
      "(713, 2) (713, 1)\n",
      "(178, 2) (178, 1)\n",
      "y_train:0.384, y_tr:0.383, y_va:0.388\n",
      "[100]\ttraining's binary_logloss: 0.48472\tvalid_1's binary_logloss: 0.592914\n",
      "[accuracy] tr: 0.74, va: 0.71\n",
      "-------------------- result --------------------\n",
      "[[0.         0.75       0.70391061]\n",
      " [1.         0.76297335 0.6741573 ]\n",
      " [2.         0.73913043 0.6741573 ]\n",
      " [3.         0.77419355 0.71910112]\n",
      " [4.         0.73632539 0.71348315]]\n",
      "[cv ] tr: 0.75 +- 0.01, va: 0.70 +- 0.02\n",
      "Done.\n"
     ]
    }
   ],
   "source": [
    "#スクリプト5－2\n",
    "imp, metrics = train_cv(x_train, y_train, id_train, params, n_splits = 5)"
   ]
  }
 ],
 "metadata": {
  "kernelspec": {
   "display_name": "Python 3",
   "language": "python",
   "name": "python3"
  },
  "language_info": {
   "codemirror_mode": {
    "name": "ipython",
    "version": 3
   },
   "file_extension": ".py",
   "mimetype": "text/x-python",
   "name": "python",
   "nbconvert_exporter": "python",
   "pygments_lexer": "ipython3",
   "version": "3.7.12"
  },
  "papermill": {
   "default_parameters": {},
   "duration": 15.827211,
   "end_time": "2022-10-23T15:17:24.827823",
   "environment_variables": {},
   "exception": null,
   "input_path": "__notebook__.ipynb",
   "output_path": "__notebook__.ipynb",
   "parameters": {},
   "start_time": "2022-10-23T15:17:09.000612",
   "version": "2.3.4"
  }
 },
 "nbformat": 4,
 "nbformat_minor": 5
}
