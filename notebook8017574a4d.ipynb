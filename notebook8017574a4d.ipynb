{
 "cells": [
  {
   "cell_type": "code",
   "execution_count": 1,
   "id": "f8f352ae",
   "metadata": {
    "_cell_guid": "b1076dfc-b9ad-4769-8c92-a6c4dae69d19",
    "_uuid": "8f2839f25d086af736a60e9eeb907d3b93b6e0e5",
    "execution": {
     "iopub.execute_input": "2022-11-01T02:11:37.810353Z",
     "iopub.status.busy": "2022-11-01T02:11:37.809040Z",
     "iopub.status.idle": "2022-11-01T02:11:37.824058Z",
     "shell.execute_reply": "2022-11-01T02:11:37.822982Z"
    },
    "papermill": {
     "duration": 0.030378,
     "end_time": "2022-11-01T02:11:37.826303",
     "exception": false,
     "start_time": "2022-11-01T02:11:37.795925",
     "status": "completed"
    },
    "tags": []
   },
   "outputs": [
    {
     "name": "stdout",
     "output_type": "stream",
     "text": [
      "/kaggle/input/home-credit-default-risk/sample_submission.csv\n",
      "/kaggle/input/home-credit-default-risk/bureau_balance.csv\n",
      "/kaggle/input/home-credit-default-risk/POS_CASH_balance.csv\n",
      "/kaggle/input/home-credit-default-risk/application_train.csv\n",
      "/kaggle/input/home-credit-default-risk/HomeCredit_columns_description.csv\n",
      "/kaggle/input/home-credit-default-risk/application_test.csv\n",
      "/kaggle/input/home-credit-default-risk/previous_application.csv\n",
      "/kaggle/input/home-credit-default-risk/credit_card_balance.csv\n",
      "/kaggle/input/home-credit-default-risk/installments_payments.csv\n",
      "/kaggle/input/home-credit-default-risk/bureau.csv\n"
     ]
    }
   ],
   "source": [
    "# This Python 3 environment comes with many helpful analytics libraries installed\n",
    "# It is defined by the kaggle/python Docker image: https://github.com/kaggle/docker-python\n",
    "# For example, here's several helpful packages to load\n",
    "\n",
    "import numpy as np # linear algebra\n",
    "import pandas as pd # data processing, CSV file I/O (e.g. pd.read_csv)\n",
    "\n",
    "# Input data files are available in the read-only \"../input/\" directory\n",
    "# For example, running this (by clicking run or pressing Shift+Enter) will list all files under the input directory\n",
    "\n",
    "import os\n",
    "for dirname, _, filenames in os.walk('/kaggle/input'):\n",
    "    for filename in filenames:\n",
    "        print(os.path.join(dirname, filename))\n",
    "\n",
    "# You can write up to 20GB to the current directory (/kaggle/working/) that gets preserved as output when you create a version using \"Save & Run All\" \n",
    "# You can also write temporary files to /kaggle/temp/, but they won't be saved outside of the current session"
   ]
  },
  {
   "cell_type": "code",
   "execution_count": 2,
   "id": "6e824e67",
   "metadata": {
    "execution": {
     "iopub.execute_input": "2022-11-01T02:11:37.850670Z",
     "iopub.status.busy": "2022-11-01T02:11:37.850265Z",
     "iopub.status.idle": "2022-11-01T02:11:40.013426Z",
     "shell.execute_reply": "2022-11-01T02:11:40.012151Z"
    },
    "papermill": {
     "duration": 2.179009,
     "end_time": "2022-11-01T02:11:40.015978",
     "exception": false,
     "start_time": "2022-11-01T02:11:37.836969",
     "status": "completed"
    },
    "tags": []
   },
   "outputs": [
    {
     "data": {
      "text/html": [
       "<style type='text/css'>\n",
       ".datatable table.frame { margin-bottom: 0; }\n",
       ".datatable table.frame thead { border-bottom: none; }\n",
       ".datatable table.frame tr.coltypes td {  color: #FFFFFF;  line-height: 6px;  padding: 0 0.5em;}\n",
       ".datatable .bool    { background: #DDDD99; }\n",
       ".datatable .object  { background: #565656; }\n",
       ".datatable .int     { background: #5D9E5D; }\n",
       ".datatable .float   { background: #4040CC; }\n",
       ".datatable .str     { background: #CC4040; }\n",
       ".datatable .time    { background: #40CC40; }\n",
       ".datatable .row_index {  background: var(--jp-border-color3);  border-right: 1px solid var(--jp-border-color0);  color: var(--jp-ui-font-color3);  font-size: 9px;}\n",
       ".datatable .frame tbody td { text-align: left; }\n",
       ".datatable .frame tr.coltypes .row_index {  background: var(--jp-border-color0);}\n",
       ".datatable th:nth-child(2) { padding-left: 12px; }\n",
       ".datatable .hellipsis {  color: var(--jp-cell-editor-border-color);}\n",
       ".datatable .vellipsis {  background: var(--jp-layout-color0);  color: var(--jp-cell-editor-border-color);}\n",
       ".datatable .na {  color: var(--jp-cell-editor-border-color);  font-size: 80%;}\n",
       ".datatable .sp {  opacity: 0.25;}\n",
       ".datatable .footer { font-size: 9px; }\n",
       ".datatable .frame_dimensions {  background: var(--jp-border-color3);  border-top: 1px solid var(--jp-border-color0);  color: var(--jp-ui-font-color3);  display: inline-block;  opacity: 0.6;  padding: 1px 10px 1px 5px;}\n",
       "</style>\n"
      ],
      "text/plain": [
       "<IPython.core.display.HTML object>"
      ]
     },
     "metadata": {},
     "output_type": "display_data"
    }
   ],
   "source": [
    "#ライブラリの読み込み\n",
    "import numpy as np\n",
    "import pandas as pd\n",
    "import re\n",
    "import pickle\n",
    "import gc\n",
    "\n",
    "# scikit-learn\n",
    "from sklearn.preprocessing import OneHotEncoder, LabelEncoder\n",
    "from sklearn.model_selection import StratifiedKFold\n",
    "from sklearn.metrics import roc_auc_score\n",
    "\n",
    "# LightGBM\n",
    "import lightgbm as lgb\n",
    "\n",
    "import warnings\n",
    "warnings.filterwarnings(\"ignore\")"
   ]
  },
  {
   "cell_type": "code",
   "execution_count": 3,
   "id": "e21f30c0",
   "metadata": {
    "execution": {
     "iopub.execute_input": "2022-11-01T02:11:40.040339Z",
     "iopub.status.busy": "2022-11-01T02:11:40.038922Z",
     "iopub.status.idle": "2022-11-01T02:11:44.876616Z",
     "shell.execute_reply": "2022-11-01T02:11:44.875320Z"
    },
    "papermill": {
     "duration": 4.852269,
     "end_time": "2022-11-01T02:11:44.879091",
     "exception": false,
     "start_time": "2022-11-01T02:11:40.026822",
     "status": "completed"
    },
    "tags": []
   },
   "outputs": [
    {
     "name": "stdout",
     "output_type": "stream",
     "text": [
      "(307511, 122)\n"
     ]
    },
    {
     "data": {
      "text/html": [
       "<div>\n",
       "<style scoped>\n",
       "    .dataframe tbody tr th:only-of-type {\n",
       "        vertical-align: middle;\n",
       "    }\n",
       "\n",
       "    .dataframe tbody tr th {\n",
       "        vertical-align: top;\n",
       "    }\n",
       "\n",
       "    .dataframe thead th {\n",
       "        text-align: right;\n",
       "    }\n",
       "</style>\n",
       "<table border=\"1\" class=\"dataframe\">\n",
       "  <thead>\n",
       "    <tr style=\"text-align: right;\">\n",
       "      <th></th>\n",
       "      <th>SK_ID_CURR</th>\n",
       "      <th>TARGET</th>\n",
       "      <th>NAME_CONTRACT_TYPE</th>\n",
       "      <th>CODE_GENDER</th>\n",
       "      <th>FLAG_OWN_CAR</th>\n",
       "      <th>FLAG_OWN_REALTY</th>\n",
       "      <th>CNT_CHILDREN</th>\n",
       "      <th>AMT_INCOME_TOTAL</th>\n",
       "      <th>AMT_CREDIT</th>\n",
       "      <th>AMT_ANNUITY</th>\n",
       "      <th>...</th>\n",
       "      <th>FLAG_DOCUMENT_18</th>\n",
       "      <th>FLAG_DOCUMENT_19</th>\n",
       "      <th>FLAG_DOCUMENT_20</th>\n",
       "      <th>FLAG_DOCUMENT_21</th>\n",
       "      <th>AMT_REQ_CREDIT_BUREAU_HOUR</th>\n",
       "      <th>AMT_REQ_CREDIT_BUREAU_DAY</th>\n",
       "      <th>AMT_REQ_CREDIT_BUREAU_WEEK</th>\n",
       "      <th>AMT_REQ_CREDIT_BUREAU_MON</th>\n",
       "      <th>AMT_REQ_CREDIT_BUREAU_QRT</th>\n",
       "      <th>AMT_REQ_CREDIT_BUREAU_YEAR</th>\n",
       "    </tr>\n",
       "  </thead>\n",
       "  <tbody>\n",
       "    <tr>\n",
       "      <th>0</th>\n",
       "      <td>100002</td>\n",
       "      <td>1</td>\n",
       "      <td>Cash loans</td>\n",
       "      <td>M</td>\n",
       "      <td>N</td>\n",
       "      <td>Y</td>\n",
       "      <td>0</td>\n",
       "      <td>202500.0</td>\n",
       "      <td>406597.5</td>\n",
       "      <td>24700.5</td>\n",
       "      <td>...</td>\n",
       "      <td>0</td>\n",
       "      <td>0</td>\n",
       "      <td>0</td>\n",
       "      <td>0</td>\n",
       "      <td>0.0</td>\n",
       "      <td>0.0</td>\n",
       "      <td>0.0</td>\n",
       "      <td>0.0</td>\n",
       "      <td>0.0</td>\n",
       "      <td>1.0</td>\n",
       "    </tr>\n",
       "    <tr>\n",
       "      <th>1</th>\n",
       "      <td>100003</td>\n",
       "      <td>0</td>\n",
       "      <td>Cash loans</td>\n",
       "      <td>F</td>\n",
       "      <td>N</td>\n",
       "      <td>N</td>\n",
       "      <td>0</td>\n",
       "      <td>270000.0</td>\n",
       "      <td>1293502.5</td>\n",
       "      <td>35698.5</td>\n",
       "      <td>...</td>\n",
       "      <td>0</td>\n",
       "      <td>0</td>\n",
       "      <td>0</td>\n",
       "      <td>0</td>\n",
       "      <td>0.0</td>\n",
       "      <td>0.0</td>\n",
       "      <td>0.0</td>\n",
       "      <td>0.0</td>\n",
       "      <td>0.0</td>\n",
       "      <td>0.0</td>\n",
       "    </tr>\n",
       "    <tr>\n",
       "      <th>2</th>\n",
       "      <td>100004</td>\n",
       "      <td>0</td>\n",
       "      <td>Revolving loans</td>\n",
       "      <td>M</td>\n",
       "      <td>Y</td>\n",
       "      <td>Y</td>\n",
       "      <td>0</td>\n",
       "      <td>67500.0</td>\n",
       "      <td>135000.0</td>\n",
       "      <td>6750.0</td>\n",
       "      <td>...</td>\n",
       "      <td>0</td>\n",
       "      <td>0</td>\n",
       "      <td>0</td>\n",
       "      <td>0</td>\n",
       "      <td>0.0</td>\n",
       "      <td>0.0</td>\n",
       "      <td>0.0</td>\n",
       "      <td>0.0</td>\n",
       "      <td>0.0</td>\n",
       "      <td>0.0</td>\n",
       "    </tr>\n",
       "    <tr>\n",
       "      <th>3</th>\n",
       "      <td>100006</td>\n",
       "      <td>0</td>\n",
       "      <td>Cash loans</td>\n",
       "      <td>F</td>\n",
       "      <td>N</td>\n",
       "      <td>Y</td>\n",
       "      <td>0</td>\n",
       "      <td>135000.0</td>\n",
       "      <td>312682.5</td>\n",
       "      <td>29686.5</td>\n",
       "      <td>...</td>\n",
       "      <td>0</td>\n",
       "      <td>0</td>\n",
       "      <td>0</td>\n",
       "      <td>0</td>\n",
       "      <td>NaN</td>\n",
       "      <td>NaN</td>\n",
       "      <td>NaN</td>\n",
       "      <td>NaN</td>\n",
       "      <td>NaN</td>\n",
       "      <td>NaN</td>\n",
       "    </tr>\n",
       "    <tr>\n",
       "      <th>4</th>\n",
       "      <td>100007</td>\n",
       "      <td>0</td>\n",
       "      <td>Cash loans</td>\n",
       "      <td>M</td>\n",
       "      <td>N</td>\n",
       "      <td>Y</td>\n",
       "      <td>0</td>\n",
       "      <td>121500.0</td>\n",
       "      <td>513000.0</td>\n",
       "      <td>21865.5</td>\n",
       "      <td>...</td>\n",
       "      <td>0</td>\n",
       "      <td>0</td>\n",
       "      <td>0</td>\n",
       "      <td>0</td>\n",
       "      <td>0.0</td>\n",
       "      <td>0.0</td>\n",
       "      <td>0.0</td>\n",
       "      <td>0.0</td>\n",
       "      <td>0.0</td>\n",
       "      <td>0.0</td>\n",
       "    </tr>\n",
       "  </tbody>\n",
       "</table>\n",
       "<p>5 rows × 122 columns</p>\n",
       "</div>"
      ],
      "text/plain": [
       "   SK_ID_CURR  TARGET NAME_CONTRACT_TYPE CODE_GENDER FLAG_OWN_CAR  \\\n",
       "0      100002       1         Cash loans           M            N   \n",
       "1      100003       0         Cash loans           F            N   \n",
       "2      100004       0    Revolving loans           M            Y   \n",
       "3      100006       0         Cash loans           F            N   \n",
       "4      100007       0         Cash loans           M            N   \n",
       "\n",
       "  FLAG_OWN_REALTY  CNT_CHILDREN  AMT_INCOME_TOTAL  AMT_CREDIT  AMT_ANNUITY  \\\n",
       "0               Y             0          202500.0    406597.5      24700.5   \n",
       "1               N             0          270000.0   1293502.5      35698.5   \n",
       "2               Y             0           67500.0    135000.0       6750.0   \n",
       "3               Y             0          135000.0    312682.5      29686.5   \n",
       "4               Y             0          121500.0    513000.0      21865.5   \n",
       "\n",
       "   ...  FLAG_DOCUMENT_18 FLAG_DOCUMENT_19 FLAG_DOCUMENT_20 FLAG_DOCUMENT_21  \\\n",
       "0  ...                 0                0                0                0   \n",
       "1  ...                 0                0                0                0   \n",
       "2  ...                 0                0                0                0   \n",
       "3  ...                 0                0                0                0   \n",
       "4  ...                 0                0                0                0   \n",
       "\n",
       "  AMT_REQ_CREDIT_BUREAU_HOUR AMT_REQ_CREDIT_BUREAU_DAY  \\\n",
       "0                        0.0                       0.0   \n",
       "1                        0.0                       0.0   \n",
       "2                        0.0                       0.0   \n",
       "3                        NaN                       NaN   \n",
       "4                        0.0                       0.0   \n",
       "\n",
       "   AMT_REQ_CREDIT_BUREAU_WEEK  AMT_REQ_CREDIT_BUREAU_MON  \\\n",
       "0                         0.0                        0.0   \n",
       "1                         0.0                        0.0   \n",
       "2                         0.0                        0.0   \n",
       "3                         NaN                        NaN   \n",
       "4                         0.0                        0.0   \n",
       "\n",
       "   AMT_REQ_CREDIT_BUREAU_QRT  AMT_REQ_CREDIT_BUREAU_YEAR  \n",
       "0                        0.0                         1.0  \n",
       "1                        0.0                         0.0  \n",
       "2                        0.0                         0.0  \n",
       "3                        NaN                         NaN  \n",
       "4                        0.0                         0.0  \n",
       "\n",
       "[5 rows x 122 columns]"
      ]
     },
     "execution_count": 3,
     "metadata": {},
     "output_type": "execute_result"
    }
   ],
   "source": [
    "# ファイルの読み込み・データ確認\n",
    "application_train = pd.read_csv(\"../input/home-credit-default-risk/application_train.csv\")\n",
    "print(application_train.shape)\n",
    "application_train.head()"
   ]
  },
  {
   "cell_type": "code",
   "execution_count": 4,
   "id": "e4a8570f",
   "metadata": {
    "execution": {
     "iopub.execute_input": "2022-11-01T02:11:44.903279Z",
     "iopub.status.busy": "2022-11-01T02:11:44.902652Z",
     "iopub.status.idle": "2022-11-01T02:11:44.914904Z",
     "shell.execute_reply": "2022-11-01T02:11:44.913349Z"
    },
    "papermill": {
     "duration": 0.026921,
     "end_time": "2022-11-01T02:11:44.917215",
     "exception": false,
     "start_time": "2022-11-01T02:11:44.890294",
     "status": "completed"
    },
    "tags": []
   },
   "outputs": [],
   "source": [
    "# メモリ削減のための関数\n",
    "def reduce_mem_usage(df):\n",
    "    start_mem = df.memory_usage().sum() / 1024 ** 2\n",
    "    print('Memory usage of dataframe is {:.2f} MB'.format(start_mem))\n",
    "    \n",
    "    for col in df.columns:\n",
    "        col_type = df[col].dtype\n",
    "        \n",
    "        if col_type != object:\n",
    "            c_min = df[col].min()\n",
    "            c_max = df[col].max()\n",
    "            if str(col_type)[:3] == 'int':\n",
    "                if c_min > np.iinfo(np.int8).min and c_max < np.iinfo(np.int8).max:\n",
    "                    df[col] = df[col].astype(np.int8)\n",
    "                elif c_min > np.iinfo(np.int16).min and c_max < np.iinfo(np.int16).max:\n",
    "                    df[col] = df[col].astype(np.int16)\n",
    "                elif c_min > np.iinfo(np.int32).min and c_max < np.iinfo(np.int32).max:\n",
    "                    df[col] = df[col].astype(np.int32)\n",
    "                elif c_min > np.iinfo(np.int64).min and c_max < np.iinfo(np.int64).max:\n",
    "                    df[col] = df[col].astype(np.int64)\n",
    "            else:\n",
    "                if c_min > np.finfo(np.float16).min and c_max < np.finfo(np.float16).max:\n",
    "                    df[col] = df[col].astype(np.float16)\n",
    "                elif c_min > np.finfo(np.float32).min and c_max < np.finfo(np.float32).max:\n",
    "                    df[col] = df[col].astype(np.float32)\n",
    "                else:\n",
    "                    df[col] = df[col].astype(np.float64)\n",
    "                    \n",
    "        else:\n",
    "            pass\n",
    "        \n",
    "    end_mem = df.memory_usage().sum() / 1024 ** 2\n",
    "    print('Memory usage after optimization is: {:.2f} MB'.format(end_mem))\n",
    "    print('Decreased by {:.1f}%'.format(100 * (start_mem - end_mem) / start_mem))\n",
    "    \n",
    "    return df"
   ]
  },
  {
   "cell_type": "code",
   "execution_count": 5,
   "id": "35e24d48",
   "metadata": {
    "execution": {
     "iopub.execute_input": "2022-11-01T02:11:44.941975Z",
     "iopub.status.busy": "2022-11-01T02:11:44.941454Z",
     "iopub.status.idle": "2022-11-01T02:11:46.501648Z",
     "shell.execute_reply": "2022-11-01T02:11:46.500548Z"
    },
    "papermill": {
     "duration": 1.574664,
     "end_time": "2022-11-01T02:11:46.503737",
     "exception": false,
     "start_time": "2022-11-01T02:11:44.929073",
     "status": "completed"
    },
    "tags": []
   },
   "outputs": [
    {
     "name": "stdout",
     "output_type": "stream",
     "text": [
      "Memory usage of dataframe is 286.23 MB\n",
      "Memory usage after optimization is: 92.38 MB\n",
      "Decreased by 67.7%\n"
     ]
    }
   ],
   "source": [
    "#メモリ削減の実行\n",
    "application_train = reduce_mem_usage(application_train)"
   ]
  },
  {
   "cell_type": "code",
   "execution_count": 6,
   "id": "7bc78208",
   "metadata": {
    "execution": {
     "iopub.execute_input": "2022-11-01T02:11:46.528026Z",
     "iopub.status.busy": "2022-11-01T02:11:46.526866Z",
     "iopub.status.idle": "2022-11-01T02:11:46.630071Z",
     "shell.execute_reply": "2022-11-01T02:11:46.628683Z"
    },
    "papermill": {
     "duration": 0.117606,
     "end_time": "2022-11-01T02:11:46.632423",
     "exception": false,
     "start_time": "2022-11-01T02:11:46.514817",
     "status": "completed"
    },
    "tags": []
   },
   "outputs": [],
   "source": [
    "#データセットの作成\n",
    "x_train = application_train.drop(columns = [\"TARGET\", \"SK_ID_CURR\"])\n",
    "y_train = application_train[\"TARGET\"]\n",
    "id_train = application_train[[\"SK_ID_CURR\"]]"
   ]
  },
  {
   "cell_type": "code",
   "execution_count": 7,
   "id": "2cb07301",
   "metadata": {
    "execution": {
     "iopub.execute_input": "2022-11-01T02:11:46.656853Z",
     "iopub.status.busy": "2022-11-01T02:11:46.655661Z",
     "iopub.status.idle": "2022-11-01T02:11:47.273482Z",
     "shell.execute_reply": "2022-11-01T02:11:47.271977Z"
    },
    "papermill": {
     "duration": 0.633158,
     "end_time": "2022-11-01T02:11:47.276690",
     "exception": false,
     "start_time": "2022-11-01T02:11:46.643532",
     "status": "completed"
    },
    "tags": []
   },
   "outputs": [],
   "source": [
    "for col in x_train.columns:\n",
    "    if x_train[col].dtype==\"O\":\n",
    "        x_train[col] = x_train[col].astype(\"category\")"
   ]
  },
  {
   "cell_type": "code",
   "execution_count": 8,
   "id": "4c9077e1",
   "metadata": {
    "execution": {
     "iopub.execute_input": "2022-11-01T02:11:47.301366Z",
     "iopub.status.busy": "2022-11-01T02:11:47.300987Z",
     "iopub.status.idle": "2022-11-01T02:11:47.314177Z",
     "shell.execute_reply": "2022-11-01T02:11:47.313055Z"
    },
    "papermill": {
     "duration": 0.027968,
     "end_time": "2022-11-01T02:11:47.316210",
     "exception": false,
     "start_time": "2022-11-01T02:11:47.288242",
     "status": "completed"
    },
    "tags": []
   },
   "outputs": [
    {
     "name": "stdout",
     "output_type": "stream",
     "text": [
      "mean: 0.0807\n"
     ]
    },
    {
     "data": {
      "text/plain": [
       "0    282686\n",
       "1     24825\n",
       "Name: TARGET, dtype: int64"
      ]
     },
     "execution_count": 8,
     "metadata": {},
     "output_type": "execute_result"
    }
   ],
   "source": [
    "# １の割合とそれぞれの件数を確認\n",
    "print(\"mean: {:.4f}\".format(y_train.mean()))\n",
    "y_train.value_counts()"
   ]
  },
  {
   "cell_type": "code",
   "execution_count": 9,
   "id": "2c5536aa",
   "metadata": {
    "execution": {
     "iopub.execute_input": "2022-11-01T02:11:47.339978Z",
     "iopub.status.busy": "2022-11-01T02:11:47.339567Z",
     "iopub.status.idle": "2022-11-01T02:11:47.599175Z",
     "shell.execute_reply": "2022-11-01T02:11:47.597667Z"
    },
    "papermill": {
     "duration": 0.275105,
     "end_time": "2022-11-01T02:11:47.602325",
     "exception": false,
     "start_time": "2022-11-01T02:11:47.327220",
     "status": "completed"
    },
    "tags": []
   },
   "outputs": [
    {
     "name": "stdout",
     "output_type": "stream",
     "text": [
      "(246008, 120) (246008,) (246008, 1)\n",
      "(61503, 120) (61503,) (61503, 1)\n"
     ]
    }
   ],
   "source": [
    "# foldごとのindexのリスト作成\n",
    "cv = list(StratifiedKFold(n_splits = 5, shuffle = True, random_state = 123).split(x_train, y_train))\n",
    "\n",
    "# 0fold目のindexのリスト取得\n",
    "nfold = 0\n",
    "idx_tr, idx_va = cv[nfold][0], cv[nfold][1]\n",
    "\n",
    "# 学習データと検証データに分離\n",
    "x_tr, y_tr, id_tr = x_train.loc[idx_tr, :], y_train[idx_tr], id_train.loc[idx_tr, :]\n",
    "x_va, y_va, id_va = x_train.loc[idx_va, :], y_train[idx_va], id_train.loc[idx_va, :]\n",
    "print(x_tr.shape, y_tr.shape, id_tr.shape)\n",
    "print(x_va.shape, y_va.shape, id_va.shape)\n"
   ]
  },
  {
   "cell_type": "code",
   "execution_count": 10,
   "id": "1e483467",
   "metadata": {
    "execution": {
     "iopub.execute_input": "2022-11-01T02:11:47.627354Z",
     "iopub.status.busy": "2022-11-01T02:11:47.626984Z",
     "iopub.status.idle": "2022-11-01T02:12:15.091018Z",
     "shell.execute_reply": "2022-11-01T02:12:15.090031Z"
    },
    "papermill": {
     "duration": 27.479913,
     "end_time": "2022-11-01T02:12:15.093725",
     "exception": false,
     "start_time": "2022-11-01T02:11:47.613812",
     "status": "completed"
    },
    "tags": []
   },
   "outputs": [
    {
     "name": "stdout",
     "output_type": "stream",
     "text": [
      "[100]\ttraining's auc: 0.782506\tvalid_1's auc: 0.755903\n",
      "[200]\ttraining's auc: 0.808961\tvalid_1's auc: 0.758356\n",
      "[300]\ttraining's auc: 0.829245\tvalid_1's auc: 0.757774\n"
     ]
    }
   ],
   "source": [
    "params = {\n",
    "    'boosting_type': 'gbdt',\n",
    "    'objective': 'binary', \n",
    "    'metric': 'auc',\n",
    "    'learning_rate': 0.05,\n",
    "    'num_leaves': 32,\n",
    "    'n_estimators': 100000,\n",
    "    \"random_state\": 123,\n",
    "    \"importance_type\": \"gain\",\n",
    "}\n",
    "\n",
    "# モデルの学習\n",
    "model = lgb.LGBMClassifier(**params)\n",
    "model.fit(x_tr,\n",
    "          y_tr,\n",
    "          eval_set=[(x_tr, y_tr), (x_va, y_va)],\n",
    "          early_stopping_rounds=100,\n",
    "          verbose=100\n",
    "         )\n",
    "\n",
    "# モデルの保存\n",
    "with open(\"model_lgb_fold0.pickle\", \"wb\") as f:\n",
    "    pickle.dump(model, f, protocol=4)"
   ]
  },
  {
   "cell_type": "code",
   "execution_count": 11,
   "id": "9afa427b",
   "metadata": {
    "execution": {
     "iopub.execute_input": "2022-11-01T02:12:15.122235Z",
     "iopub.status.busy": "2022-11-01T02:12:15.121872Z",
     "iopub.status.idle": "2022-11-01T02:12:17.079958Z",
     "shell.execute_reply": "2022-11-01T02:12:17.079185Z"
    },
    "papermill": {
     "duration": 1.975431,
     "end_time": "2022-11-01T02:12:17.082051",
     "exception": false,
     "start_time": "2022-11-01T02:12:15.106620",
     "status": "completed"
    },
    "tags": []
   },
   "outputs": [
    {
     "name": "stdout",
     "output_type": "stream",
     "text": [
      "[auc] tr:0.8126, va:0.7586\n"
     ]
    }
   ],
   "source": [
    "# 学習データの推論値取得とROC計算\n",
    "y_tr_pred = model.predict_proba(x_tr)[:, 1]\n",
    "metric_tr = roc_auc_score(y_tr, y_tr_pred)\n",
    "\n",
    "# 検証データの推論値取得とROC計算\n",
    "y_va_pred = model.predict_proba(x_va)[:, 1]\n",
    "metric_va = roc_auc_score(y_va, y_va_pred)\n",
    "\n",
    "# 評価値を入れる変数の作成\n",
    "metrics = []\n",
    "\n",
    "# 評価値を格納\n",
    "metrics.append([nfold, metric_tr, metric_va])\n",
    "\n",
    "# 結果の表示\n",
    "print(\"[auc] tr:{:.4f}, va:{:.4f}\".format(metric_tr, metric_va))"
   ]
  },
  {
   "cell_type": "code",
   "execution_count": 12,
   "id": "2f125bdf",
   "metadata": {
    "execution": {
     "iopub.execute_input": "2022-11-01T02:12:17.107246Z",
     "iopub.status.busy": "2022-11-01T02:12:17.106812Z",
     "iopub.status.idle": "2022-11-01T02:12:17.111863Z",
     "shell.execute_reply": "2022-11-01T02:12:17.111013Z"
    },
    "papermill": {
     "duration": 0.019778,
     "end_time": "2022-11-01T02:12:17.113588",
     "exception": false,
     "start_time": "2022-11-01T02:12:17.093810",
     "status": "completed"
    },
    "tags": []
   },
   "outputs": [],
   "source": [
    "# OOFの推論値を入れる変数の作成\n",
    "train_oof = np.zeros(len(x_train))\n",
    "\n",
    "# 検証データのindexに推論値を格納\n",
    "train_oof[idx_va] = y_va_pred"
   ]
  },
  {
   "cell_type": "code",
   "execution_count": 13,
   "id": "3f5494b9",
   "metadata": {
    "execution": {
     "iopub.execute_input": "2022-11-01T02:12:17.139578Z",
     "iopub.status.busy": "2022-11-01T02:12:17.139212Z",
     "iopub.status.idle": "2022-11-01T02:12:17.151984Z",
     "shell.execute_reply": "2022-11-01T02:12:17.151143Z"
    },
    "papermill": {
     "duration": 0.028037,
     "end_time": "2022-11-01T02:12:17.153859",
     "exception": false,
     "start_time": "2022-11-01T02:12:17.125822",
     "status": "completed"
    },
    "tags": []
   },
   "outputs": [
    {
     "data": {
      "text/html": [
       "<div>\n",
       "<style scoped>\n",
       "    .dataframe tbody tr th:only-of-type {\n",
       "        vertical-align: middle;\n",
       "    }\n",
       "\n",
       "    .dataframe tbody tr th {\n",
       "        vertical-align: top;\n",
       "    }\n",
       "\n",
       "    .dataframe thead th {\n",
       "        text-align: right;\n",
       "    }\n",
       "</style>\n",
       "<table border=\"1\" class=\"dataframe\">\n",
       "  <thead>\n",
       "    <tr style=\"text-align: right;\">\n",
       "      <th></th>\n",
       "      <th>col</th>\n",
       "      <th>imp</th>\n",
       "      <th>nfold</th>\n",
       "    </tr>\n",
       "  </thead>\n",
       "  <tbody>\n",
       "    <tr>\n",
       "      <th>41</th>\n",
       "      <td>EXT_SOURCE_3</td>\n",
       "      <td>66225.020483</td>\n",
       "      <td>0</td>\n",
       "    </tr>\n",
       "    <tr>\n",
       "      <th>40</th>\n",
       "      <td>EXT_SOURCE_2</td>\n",
       "      <td>52568.833805</td>\n",
       "      <td>0</td>\n",
       "    </tr>\n",
       "    <tr>\n",
       "      <th>38</th>\n",
       "      <td>ORGANIZATION_TYPE</td>\n",
       "      <td>20218.523523</td>\n",
       "      <td>0</td>\n",
       "    </tr>\n",
       "    <tr>\n",
       "      <th>39</th>\n",
       "      <td>EXT_SOURCE_1</td>\n",
       "      <td>19776.252288</td>\n",
       "      <td>0</td>\n",
       "    </tr>\n",
       "    <tr>\n",
       "      <th>6</th>\n",
       "      <td>AMT_CREDIT</td>\n",
       "      <td>8111.321247</td>\n",
       "      <td>0</td>\n",
       "    </tr>\n",
       "    <tr>\n",
       "      <th>8</th>\n",
       "      <td>AMT_GOODS_PRICE</td>\n",
       "      <td>7120.960365</td>\n",
       "      <td>0</td>\n",
       "    </tr>\n",
       "    <tr>\n",
       "      <th>15</th>\n",
       "      <td>DAYS_BIRTH</td>\n",
       "      <td>7042.223005</td>\n",
       "      <td>0</td>\n",
       "    </tr>\n",
       "    <tr>\n",
       "      <th>7</th>\n",
       "      <td>AMT_ANNUITY</td>\n",
       "      <td>6992.551795</td>\n",
       "      <td>0</td>\n",
       "    </tr>\n",
       "    <tr>\n",
       "      <th>16</th>\n",
       "      <td>DAYS_EMPLOYED</td>\n",
       "      <td>5236.514120</td>\n",
       "      <td>0</td>\n",
       "    </tr>\n",
       "    <tr>\n",
       "      <th>26</th>\n",
       "      <td>OCCUPATION_TYPE</td>\n",
       "      <td>4376.651746</td>\n",
       "      <td>0</td>\n",
       "    </tr>\n",
       "  </tbody>\n",
       "</table>\n",
       "</div>"
      ],
      "text/plain": [
       "                  col           imp  nfold\n",
       "41       EXT_SOURCE_3  66225.020483      0\n",
       "40       EXT_SOURCE_2  52568.833805      0\n",
       "38  ORGANIZATION_TYPE  20218.523523      0\n",
       "39       EXT_SOURCE_1  19776.252288      0\n",
       "6          AMT_CREDIT   8111.321247      0\n",
       "8     AMT_GOODS_PRICE   7120.960365      0\n",
       "15         DAYS_BIRTH   7042.223005      0\n",
       "7         AMT_ANNUITY   6992.551795      0\n",
       "16      DAYS_EMPLOYED   5236.514120      0\n",
       "26    OCCUPATION_TYPE   4376.651746      0"
      ]
     },
     "metadata": {},
     "output_type": "display_data"
    }
   ],
   "source": [
    "# 重要度の取得\n",
    "imp_fold = pd.DataFrame({\"col\": x_train.columns, \"imp\": model.feature_importances_,\n",
    "                        \"nfold\": nfold})\n",
    "\n",
    "# 確認\n",
    "display(imp_fold.sort_values(\"imp\", ascending = False)[:10])\n",
    "\n",
    "# 重要度を格納する5-fold用データフレームの作成\n",
    "imp = pd.DataFrame()\n",
    "# imp_foldを5fold用データフレームに結合\n",
    "imp = pd.concat([imp, imp_fold])"
   ]
  },
  {
   "cell_type": "code",
   "execution_count": 14,
   "id": "edb12723",
   "metadata": {
    "execution": {
     "iopub.execute_input": "2022-11-01T02:12:17.179974Z",
     "iopub.status.busy": "2022-11-01T02:12:17.178257Z",
     "iopub.status.idle": "2022-11-01T02:12:17.237233Z",
     "shell.execute_reply": "2022-11-01T02:12:17.235146Z"
    },
    "papermill": {
     "duration": 0.074748,
     "end_time": "2022-11-01T02:12:17.240260",
     "exception": false,
     "start_time": "2022-11-01T02:12:17.165512",
     "status": "completed"
    },
    "tags": []
   },
   "outputs": [
    {
     "name": "stdout",
     "output_type": "stream",
     "text": [
      "[[0.         0.81257796 0.75859528]]\n",
      "[cv] tr:0.8126 +- 0.0000, va:0.7586 +- 0.0000\n",
      "[oof] 0.5103\n"
     ]
    }
   ],
   "source": [
    "# モデル評価\n",
    "# リスト型をarray型に変換\n",
    "metrics = np.array(metrics)\n",
    "print(metrics)\n",
    "\n",
    "# 学習/検証データの評価値の平均値と標準偏差を算出\n",
    "print(\"[cv] tr:{:.4f} +- {:.4f}, va:{:.4f} +- {:.4f}\".format(\n",
    "metrics[:, 1].mean(), metrics[:, 1].std(),\n",
    "metrics[:, 2].mean(), metrics[:, 2].std(),\n",
    "))\n",
    "\n",
    "# oofの評価値を算出\n",
    "print(\"[oof] {:.4f}\".format(\n",
    "roc_auc_score(y_train, train_oof)\n",
    "))"
   ]
  },
  {
   "cell_type": "code",
   "execution_count": 15,
   "id": "46ffb501",
   "metadata": {
    "execution": {
     "iopub.execute_input": "2022-11-01T02:12:17.266548Z",
     "iopub.status.busy": "2022-11-01T02:12:17.265416Z",
     "iopub.status.idle": "2022-11-01T02:12:17.277747Z",
     "shell.execute_reply": "2022-11-01T02:12:17.276773Z"
    },
    "papermill": {
     "duration": 0.02769,
     "end_time": "2022-11-01T02:12:17.279941",
     "exception": false,
     "start_time": "2022-11-01T02:12:17.252251",
     "status": "completed"
    },
    "tags": []
   },
   "outputs": [
    {
     "data": {
      "text/html": [
       "<div>\n",
       "<style scoped>\n",
       "    .dataframe tbody tr th:only-of-type {\n",
       "        vertical-align: middle;\n",
       "    }\n",
       "\n",
       "    .dataframe tbody tr th {\n",
       "        vertical-align: top;\n",
       "    }\n",
       "\n",
       "    .dataframe thead th {\n",
       "        text-align: right;\n",
       "    }\n",
       "</style>\n",
       "<table border=\"1\" class=\"dataframe\">\n",
       "  <thead>\n",
       "    <tr style=\"text-align: right;\">\n",
       "      <th></th>\n",
       "      <th>SK_ID_CURR</th>\n",
       "      <th>true</th>\n",
       "      <th>pred</th>\n",
       "    </tr>\n",
       "  </thead>\n",
       "  <tbody>\n",
       "    <tr>\n",
       "      <th>0</th>\n",
       "      <td>100002</td>\n",
       "      <td>1</td>\n",
       "      <td>0.000000</td>\n",
       "    </tr>\n",
       "    <tr>\n",
       "      <th>1</th>\n",
       "      <td>100003</td>\n",
       "      <td>0</td>\n",
       "      <td>0.000000</td>\n",
       "    </tr>\n",
       "    <tr>\n",
       "      <th>2</th>\n",
       "      <td>100004</td>\n",
       "      <td>0</td>\n",
       "      <td>0.031866</td>\n",
       "    </tr>\n",
       "    <tr>\n",
       "      <th>3</th>\n",
       "      <td>100006</td>\n",
       "      <td>0</td>\n",
       "      <td>0.000000</td>\n",
       "    </tr>\n",
       "    <tr>\n",
       "      <th>4</th>\n",
       "      <td>100007</td>\n",
       "      <td>0</td>\n",
       "      <td>0.000000</td>\n",
       "    </tr>\n",
       "  </tbody>\n",
       "</table>\n",
       "</div>"
      ],
      "text/plain": [
       "   SK_ID_CURR  true      pred\n",
       "0      100002     1  0.000000\n",
       "1      100003     0  0.000000\n",
       "2      100004     0  0.031866\n",
       "3      100006     0  0.000000\n",
       "4      100007     0  0.000000"
      ]
     },
     "execution_count": 15,
     "metadata": {},
     "output_type": "execute_result"
    }
   ],
   "source": [
    "# oofの推論値取得\n",
    "train_oof = pd.concat([\n",
    "    id_train,\n",
    "    pd.DataFrame({\"true\": y_train, \"pred\": train_oof}),\n",
    "], axis = 1)\n",
    "train_oof.head()"
   ]
  },
  {
   "cell_type": "code",
   "execution_count": 16,
   "id": "f1388f7c",
   "metadata": {
    "execution": {
     "iopub.execute_input": "2022-11-01T02:12:17.305637Z",
     "iopub.status.busy": "2022-11-01T02:12:17.305223Z",
     "iopub.status.idle": "2022-11-01T02:12:17.323515Z",
     "shell.execute_reply": "2022-11-01T02:12:17.322499Z"
    },
    "papermill": {
     "duration": 0.033936,
     "end_time": "2022-11-01T02:12:17.326027",
     "exception": false,
     "start_time": "2022-11-01T02:12:17.292091",
     "status": "completed"
    },
    "tags": []
   },
   "outputs": [
    {
     "data": {
      "text/html": [
       "<div>\n",
       "<style scoped>\n",
       "    .dataframe tbody tr th:only-of-type {\n",
       "        vertical-align: middle;\n",
       "    }\n",
       "\n",
       "    .dataframe tbody tr th {\n",
       "        vertical-align: top;\n",
       "    }\n",
       "\n",
       "    .dataframe thead th {\n",
       "        text-align: right;\n",
       "    }\n",
       "</style>\n",
       "<table border=\"1\" class=\"dataframe\">\n",
       "  <thead>\n",
       "    <tr style=\"text-align: right;\">\n",
       "      <th></th>\n",
       "      <th>col</th>\n",
       "      <th>imp</th>\n",
       "      <th>imp_std</th>\n",
       "    </tr>\n",
       "  </thead>\n",
       "  <tbody>\n",
       "    <tr>\n",
       "      <th>0</th>\n",
       "      <td>AMT_ANNUITY</td>\n",
       "      <td>6992.551795</td>\n",
       "      <td>NaN</td>\n",
       "    </tr>\n",
       "    <tr>\n",
       "      <th>1</th>\n",
       "      <td>AMT_CREDIT</td>\n",
       "      <td>8111.321247</td>\n",
       "      <td>NaN</td>\n",
       "    </tr>\n",
       "    <tr>\n",
       "      <th>2</th>\n",
       "      <td>AMT_GOODS_PRICE</td>\n",
       "      <td>7120.960365</td>\n",
       "      <td>NaN</td>\n",
       "    </tr>\n",
       "    <tr>\n",
       "      <th>3</th>\n",
       "      <td>AMT_INCOME_TOTAL</td>\n",
       "      <td>1595.740609</td>\n",
       "      <td>NaN</td>\n",
       "    </tr>\n",
       "    <tr>\n",
       "      <th>4</th>\n",
       "      <td>AMT_REQ_CREDIT_BUREAU_DAY</td>\n",
       "      <td>128.842901</td>\n",
       "      <td>NaN</td>\n",
       "    </tr>\n",
       "  </tbody>\n",
       "</table>\n",
       "</div>"
      ],
      "text/plain": [
       "                         col          imp  imp_std\n",
       "0                AMT_ANNUITY  6992.551795      NaN\n",
       "1                 AMT_CREDIT  8111.321247      NaN\n",
       "2            AMT_GOODS_PRICE  7120.960365      NaN\n",
       "3           AMT_INCOME_TOTAL  1595.740609      NaN\n",
       "4  AMT_REQ_CREDIT_BUREAU_DAY   128.842901      NaN"
      ]
     },
     "execution_count": 16,
     "metadata": {},
     "output_type": "execute_result"
    }
   ],
   "source": [
    "# 説明変数の重要度取得\n",
    "imp = imp.groupby(\"col\")[\"imp\"].agg([\"mean\", \"std\"]).reset_index(drop = False)\n",
    "imp.columns = [\"col\", \"imp\", \"imp_std\"]\n",
    "imp.head()"
   ]
  },
  {
   "cell_type": "code",
   "execution_count": 17,
   "id": "5a7b4370",
   "metadata": {
    "execution": {
     "iopub.execute_input": "2022-11-01T02:12:17.355885Z",
     "iopub.status.busy": "2022-11-01T02:12:17.355452Z",
     "iopub.status.idle": "2022-11-01T02:12:17.371944Z",
     "shell.execute_reply": "2022-11-01T02:12:17.370416Z"
    },
    "papermill": {
     "duration": 0.033054,
     "end_time": "2022-11-01T02:12:17.374132",
     "exception": false,
     "start_time": "2022-11-01T02:12:17.341078",
     "status": "completed"
    },
    "tags": []
   },
   "outputs": [],
   "source": [
    "# 学習関数の定義\n",
    "def train_lgb(input_x,\n",
    "              input_y,\n",
    "              input_id,\n",
    "              params,\n",
    "              list_nfold=[0,1,2,3,4],\n",
    "              n_splits=5,\n",
    "             ):\n",
    "    train_oof = np.zeros(len(input_x))\n",
    "    metrics = []\n",
    "    imp = pd.DataFrame()\n",
    "\n",
    "    # cross-validation\n",
    "    cv = list(StratifiedKFold(n_splits=n_splits, shuffle=True, random_state=123).split(input_x, input_y))\n",
    "    for nfold in list_nfold:\n",
    "        print(\"-\"*20, nfold, \"-\"*20)\n",
    "        \n",
    "        # make dataset\n",
    "        idx_tr, idx_va = cv[nfold][0], cv[nfold][1]\n",
    "        x_tr, y_tr, id_tr = input_x.loc[idx_tr, :], input_y[idx_tr], input_id.loc[idx_tr, :]\n",
    "        x_va, y_va, id_va = input_x.loc[idx_va, :], input_y[idx_va], input_id.loc[idx_va, :]\n",
    "        print(x_tr.shape, x_va.shape)\n",
    "        \n",
    "        # train\n",
    "        model = lgb.LGBMClassifier(**params)\n",
    "        model.fit(x_tr,\n",
    "                  y_tr,\n",
    "                  eval_set=[(x_tr, y_tr), (x_va, y_va)],\n",
    "                  early_stopping_rounds=100,\n",
    "                  verbose=100\n",
    "                 )\n",
    "        fname_lgb = \"model_lgb_fold{}.pickle\".format(nfold)\n",
    "        with open(fname_lgb, \"wb\") as f:\n",
    "            pickle.dump(model, f, protocol=4)\n",
    "        \n",
    "        # evaluate\n",
    "        y_tr_pred = model.predict_proba(x_tr)[:,1]\n",
    "        y_va_pred = model.predict_proba(x_va)[:,1]\n",
    "        metric_tr = roc_auc_score(y_tr, y_tr_pred)\n",
    "        metric_va = roc_auc_score(y_va, y_va_pred)\n",
    "        metrics.append([nfold, metric_tr, metric_va])\n",
    "        print(\"[auc] tr:{:.4f}, va:{:.4f}\".format(metric_tr, metric_va))\n",
    "        \n",
    "        # oof\n",
    "        train_oof[idx_va] = y_va_pred\n",
    "        \n",
    "        # imp\n",
    "        _imp = pd.DataFrame({\"col\":input_x.columns, \"imp\":model.feature_importances_, \"nfold\":nfold})\n",
    "        imp = pd.concat([imp, _imp])\n",
    "      \n",
    "    print(\"-\"*20, \"result\", \"-\"*20)\n",
    "    # metric\n",
    "    metrics = np.array(metrics)\n",
    "    print(metrics)\n",
    "    print(\"[cv] tr:{:.4f}+-{:.4f}, va:{:.4f}+-{:.4f}\".format(\n",
    "        metrics[:,1].mean(), metrics[:,1].std(),\n",
    "        metrics[:,2].mean(), metrics[:,2].std(),\n",
    "    ))\n",
    "    print(\"[oof] {:.4f}\".format(\n",
    "        roc_auc_score(input_y, train_oof)\n",
    "    ))\n",
    "    \n",
    "    # oof\n",
    "    train_oof = pd.concat([\n",
    "        input_id,\n",
    "        pd.DataFrame({\"pred\":train_oof})\n",
    "    ], axis=1)\n",
    "    \n",
    "    # importance\n",
    "    imp = imp.groupby(\"col\")[\"imp\"].agg([\"mean\", \"std\"]).reset_index(drop=False)\n",
    "    imp.columns = [\"col\", \"imp\", \"imp_std\"]\n",
    "    \n",
    "    return train_oof, imp, metrics"
   ]
  },
  {
   "cell_type": "code",
   "execution_count": 18,
   "id": "f6d44785",
   "metadata": {
    "execution": {
     "iopub.execute_input": "2022-11-01T02:12:17.401186Z",
     "iopub.status.busy": "2022-11-01T02:12:17.400630Z",
     "iopub.status.idle": "2022-11-01T02:14:55.629892Z",
     "shell.execute_reply": "2022-11-01T02:14:55.628582Z"
    },
    "papermill": {
     "duration": 158.24649,
     "end_time": "2022-11-01T02:14:55.632972",
     "exception": false,
     "start_time": "2022-11-01T02:12:17.386482",
     "status": "completed"
    },
    "tags": []
   },
   "outputs": [
    {
     "name": "stdout",
     "output_type": "stream",
     "text": [
      "-------------------- 0 --------------------\n",
      "(246008, 120) (61503, 120)\n",
      "[100]\ttraining's auc: 0.782506\tvalid_1's auc: 0.755903\n",
      "[200]\ttraining's auc: 0.808961\tvalid_1's auc: 0.758356\n",
      "[300]\ttraining's auc: 0.829245\tvalid_1's auc: 0.757774\n",
      "[auc] tr:0.8126, va:0.7586\n",
      "-------------------- 1 --------------------\n",
      "(246009, 120) (61502, 120)\n",
      "[100]\ttraining's auc: 0.782531\tvalid_1's auc: 0.756239\n",
      "[200]\ttraining's auc: 0.808862\tvalid_1's auc: 0.758924\n",
      "[300]\ttraining's auc: 0.829564\tvalid_1's auc: 0.758779\n",
      "[auc] tr:0.8170, va:0.7590\n",
      "-------------------- 2 --------------------\n",
      "(246009, 120) (61502, 120)\n",
      "[100]\ttraining's auc: 0.782101\tvalid_1's auc: 0.758221\n",
      "[200]\ttraining's auc: 0.809587\tvalid_1's auc: 0.760104\n",
      "[300]\ttraining's auc: 0.830474\tvalid_1's auc: 0.760275\n",
      "[400]\ttraining's auc: 0.847388\tvalid_1's auc: 0.759875\n",
      "[auc] tr:0.8362, va:0.7604\n",
      "-------------------- 3 --------------------\n",
      "(246009, 120) (61502, 120)\n",
      "[100]\ttraining's auc: 0.783853\tvalid_1's auc: 0.754567\n",
      "[200]\ttraining's auc: 0.811501\tvalid_1's auc: 0.75659\n",
      "[300]\ttraining's auc: 0.83224\tvalid_1's auc: 0.756854\n",
      "[auc] tr:0.8244, va:0.7571\n",
      "-------------------- 4 --------------------\n",
      "(246009, 120) (61502, 120)\n",
      "[100]\ttraining's auc: 0.783715\tvalid_1's auc: 0.748435\n",
      "[200]\ttraining's auc: 0.81071\tvalid_1's auc: 0.751348\n",
      "[300]\ttraining's auc: 0.830488\tvalid_1's auc: 0.751241\n",
      "[auc] tr:0.8113, va:0.7514\n",
      "-------------------- result --------------------\n",
      "[[0.         0.81257796 0.75859528]\n",
      " [1.         0.8169515  0.7590332 ]\n",
      " [2.         0.83620918 0.7603778 ]\n",
      " [3.         0.82436296 0.7571206 ]\n",
      " [4.         0.81133335 0.75141465]]\n",
      "[cv] tr:0.8203+-0.0092, va:0.7573+-0.0031\n",
      "[oof] 0.7573\n"
     ]
    }
   ],
   "source": [
    "# ハイパーパラメータの設定\n",
    "params = {\n",
    "    'boosting_type': 'gbdt',\n",
    "    'objective': 'binary', \n",
    "    'metric': 'auc',\n",
    "    'learning_rate': 0.05,\n",
    "    'num_leaves': 32,\n",
    "    'n_estimators': 100000,\n",
    "    \"random_state\": 123,\n",
    "    \"importance_type\": \"gain\",\n",
    "}\n",
    "\n",
    "# 学習の実行\n",
    "train_oof, imp, metrics = train_lgb(x_train,\n",
    "                                    y_train,\n",
    "                                    id_train,\n",
    "                                    params,\n",
    "                                    list_nfold=[0,1,2,3,4],\n",
    "                                    n_splits=5,\n",
    "                                   )"
   ]
  },
  {
   "cell_type": "code",
   "execution_count": 19,
   "id": "aaea54ce",
   "metadata": {
    "execution": {
     "iopub.execute_input": "2022-11-01T02:14:55.662685Z",
     "iopub.status.busy": "2022-11-01T02:14:55.662292Z",
     "iopub.status.idle": "2022-11-01T02:14:55.675161Z",
     "shell.execute_reply": "2022-11-01T02:14:55.674014Z"
    },
    "papermill": {
     "duration": 0.030727,
     "end_time": "2022-11-01T02:14:55.678002",
     "exception": false,
     "start_time": "2022-11-01T02:14:55.647275",
     "status": "completed"
    },
    "tags": []
   },
   "outputs": [
    {
     "data": {
      "text/html": [
       "<div>\n",
       "<style scoped>\n",
       "    .dataframe tbody tr th:only-of-type {\n",
       "        vertical-align: middle;\n",
       "    }\n",
       "\n",
       "    .dataframe tbody tr th {\n",
       "        vertical-align: top;\n",
       "    }\n",
       "\n",
       "    .dataframe thead th {\n",
       "        text-align: right;\n",
       "    }\n",
       "</style>\n",
       "<table border=\"1\" class=\"dataframe\">\n",
       "  <thead>\n",
       "    <tr style=\"text-align: right;\">\n",
       "      <th></th>\n",
       "      <th>col</th>\n",
       "      <th>imp</th>\n",
       "      <th>imp_std</th>\n",
       "    </tr>\n",
       "  </thead>\n",
       "  <tbody>\n",
       "    <tr>\n",
       "      <th>38</th>\n",
       "      <td>EXT_SOURCE_3</td>\n",
       "      <td>65353.907478</td>\n",
       "      <td>1558.201212</td>\n",
       "    </tr>\n",
       "    <tr>\n",
       "      <th>37</th>\n",
       "      <td>EXT_SOURCE_2</td>\n",
       "      <td>54545.388309</td>\n",
       "      <td>1251.798934</td>\n",
       "    </tr>\n",
       "    <tr>\n",
       "      <th>102</th>\n",
       "      <td>ORGANIZATION_TYPE</td>\n",
       "      <td>21441.917474</td>\n",
       "      <td>1450.246190</td>\n",
       "    </tr>\n",
       "    <tr>\n",
       "      <th>36</th>\n",
       "      <td>EXT_SOURCE_1</td>\n",
       "      <td>20051.934248</td>\n",
       "      <td>685.852224</td>\n",
       "    </tr>\n",
       "    <tr>\n",
       "      <th>1</th>\n",
       "      <td>AMT_CREDIT</td>\n",
       "      <td>8263.228728</td>\n",
       "      <td>410.384434</td>\n",
       "    </tr>\n",
       "    <tr>\n",
       "      <th>22</th>\n",
       "      <td>DAYS_BIRTH</td>\n",
       "      <td>7645.589110</td>\n",
       "      <td>689.458833</td>\n",
       "    </tr>\n",
       "    <tr>\n",
       "      <th>2</th>\n",
       "      <td>AMT_GOODS_PRICE</td>\n",
       "      <td>7263.054566</td>\n",
       "      <td>405.837031</td>\n",
       "    </tr>\n",
       "    <tr>\n",
       "      <th>0</th>\n",
       "      <td>AMT_ANNUITY</td>\n",
       "      <td>6762.953640</td>\n",
       "      <td>479.302045</td>\n",
       "    </tr>\n",
       "    <tr>\n",
       "      <th>23</th>\n",
       "      <td>DAYS_EMPLOYED</td>\n",
       "      <td>5810.288375</td>\n",
       "      <td>552.937730</td>\n",
       "    </tr>\n",
       "    <tr>\n",
       "      <th>101</th>\n",
       "      <td>OCCUPATION_TYPE</td>\n",
       "      <td>5502.675859</td>\n",
       "      <td>831.872392</td>\n",
       "    </tr>\n",
       "  </tbody>\n",
       "</table>\n",
       "</div>"
      ],
      "text/plain": [
       "                   col           imp      imp_std\n",
       "38        EXT_SOURCE_3  65353.907478  1558.201212\n",
       "37        EXT_SOURCE_2  54545.388309  1251.798934\n",
       "102  ORGANIZATION_TYPE  21441.917474  1450.246190\n",
       "36        EXT_SOURCE_1  20051.934248   685.852224\n",
       "1           AMT_CREDIT   8263.228728   410.384434\n",
       "22          DAYS_BIRTH   7645.589110   689.458833\n",
       "2      AMT_GOODS_PRICE   7263.054566   405.837031\n",
       "0          AMT_ANNUITY   6762.953640   479.302045\n",
       "23       DAYS_EMPLOYED   5810.288375   552.937730\n",
       "101    OCCUPATION_TYPE   5502.675859   831.872392"
      ]
     },
     "execution_count": 19,
     "metadata": {},
     "output_type": "execute_result"
    }
   ],
   "source": [
    "imp.sort_values(\"imp\", ascending = False)[:10]"
   ]
  },
  {
   "cell_type": "code",
   "execution_count": 20,
   "id": "1419c982",
   "metadata": {
    "execution": {
     "iopub.execute_input": "2022-11-01T02:14:55.707850Z",
     "iopub.status.busy": "2022-11-01T02:14:55.707412Z",
     "iopub.status.idle": "2022-11-01T02:14:56.752055Z",
     "shell.execute_reply": "2022-11-01T02:14:56.749491Z"
    },
    "papermill": {
     "duration": 1.063291,
     "end_time": "2022-11-01T02:14:56.755416",
     "exception": false,
     "start_time": "2022-11-01T02:14:55.692125",
     "status": "completed"
    },
    "tags": []
   },
   "outputs": [
    {
     "name": "stdout",
     "output_type": "stream",
     "text": [
      "Memory usage of dataframe is 45.00 MB\n",
      "Memory usage after optimization is: 14.60 MB\n",
      "Decreased by 67.6%\n"
     ]
    }
   ],
   "source": [
    "# ファイルの読み込み\n",
    "application_test = pd.read_csv(\"../input/home-credit-default-risk/application_test.csv\")\n",
    "application_test = reduce_mem_usage(application_test)\n",
    "\n",
    "# データセットの作成\n",
    "x_test = application_test.drop(columns=[\"SK_ID_CURR\" ])\n",
    "id_test = application_test[[\"SK_ID_CURR\"]]\n",
    "\n",
    "# カテゴリ変数をcategory型に変換\n",
    "for col in x_test.columns:\n",
    "    if x_test[col].dtype==\"O\":\n",
    "        x_test[col] = x_test[col].astype(\"category\")"
   ]
  },
  {
   "cell_type": "code",
   "execution_count": 21,
   "id": "a547c8f6",
   "metadata": {
    "execution": {
     "iopub.execute_input": "2022-11-01T02:14:56.785372Z",
     "iopub.status.busy": "2022-11-01T02:14:56.784992Z",
     "iopub.status.idle": "2022-11-01T02:14:56.798179Z",
     "shell.execute_reply": "2022-11-01T02:14:56.797367Z"
    },
    "papermill": {
     "duration": 0.030999,
     "end_time": "2022-11-01T02:14:56.800493",
     "exception": false,
     "start_time": "2022-11-01T02:14:56.769494",
     "status": "completed"
    },
    "tags": []
   },
   "outputs": [],
   "source": [
    "# 学習済みモデルの読み込み\n",
    "with open(\"model_lgb_fold0.pickle\", \"rb\") as f:\n",
    "    model = pickle.load(f)"
   ]
  },
  {
   "cell_type": "code",
   "execution_count": 22,
   "id": "5a246914",
   "metadata": {
    "execution": {
     "iopub.execute_input": "2022-11-01T02:14:56.831767Z",
     "iopub.status.busy": "2022-11-01T02:14:56.831038Z",
     "iopub.status.idle": "2022-11-01T02:14:57.153594Z",
     "shell.execute_reply": "2022-11-01T02:14:57.152739Z"
    },
    "papermill": {
     "duration": 0.341139,
     "end_time": "2022-11-01T02:14:57.156095",
     "exception": false,
     "start_time": "2022-11-01T02:14:56.814956",
     "status": "completed"
    },
    "tags": []
   },
   "outputs": [],
   "source": [
    "# 推論\n",
    "test_pred_fold = model.predict_proba(x_test)[:, 1]\n",
    "\n",
    "# 推論値を格納する変数を作成\n",
    "test_pred = np.zeros((len(x_test), 5))\n",
    "\n",
    "# 1-fold目の推論値を格納\n",
    "test_pred[:, 0] = test_pred_fold"
   ]
  },
  {
   "cell_type": "code",
   "execution_count": 23,
   "id": "ef3bed94",
   "metadata": {
    "execution": {
     "iopub.execute_input": "2022-11-01T02:14:57.188688Z",
     "iopub.status.busy": "2022-11-01T02:14:57.188089Z",
     "iopub.status.idle": "2022-11-01T02:14:57.200350Z",
     "shell.execute_reply": "2022-11-01T02:14:57.199218Z"
    },
    "papermill": {
     "duration": 0.031198,
     "end_time": "2022-11-01T02:14:57.202490",
     "exception": false,
     "start_time": "2022-11-01T02:14:57.171292",
     "status": "completed"
    },
    "tags": []
   },
   "outputs": [
    {
     "data": {
      "text/html": [
       "<div>\n",
       "<style scoped>\n",
       "    .dataframe tbody tr th:only-of-type {\n",
       "        vertical-align: middle;\n",
       "    }\n",
       "\n",
       "    .dataframe tbody tr th {\n",
       "        vertical-align: top;\n",
       "    }\n",
       "\n",
       "    .dataframe thead th {\n",
       "        text-align: right;\n",
       "    }\n",
       "</style>\n",
       "<table border=\"1\" class=\"dataframe\">\n",
       "  <thead>\n",
       "    <tr style=\"text-align: right;\">\n",
       "      <th></th>\n",
       "      <th>SK_ID_CURR</th>\n",
       "      <th>pred</th>\n",
       "    </tr>\n",
       "  </thead>\n",
       "  <tbody>\n",
       "    <tr>\n",
       "      <th>0</th>\n",
       "      <td>100001</td>\n",
       "      <td>0.006572</td>\n",
       "    </tr>\n",
       "    <tr>\n",
       "      <th>1</th>\n",
       "      <td>100005</td>\n",
       "      <td>0.023874</td>\n",
       "    </tr>\n",
       "    <tr>\n",
       "      <th>2</th>\n",
       "      <td>100013</td>\n",
       "      <td>0.004233</td>\n",
       "    </tr>\n",
       "    <tr>\n",
       "      <th>3</th>\n",
       "      <td>100028</td>\n",
       "      <td>0.008966</td>\n",
       "    </tr>\n",
       "    <tr>\n",
       "      <th>4</th>\n",
       "      <td>100038</td>\n",
       "      <td>0.030794</td>\n",
       "    </tr>\n",
       "  </tbody>\n",
       "</table>\n",
       "</div>"
      ],
      "text/plain": [
       "   SK_ID_CURR      pred\n",
       "0      100001  0.006572\n",
       "1      100005  0.023874\n",
       "2      100013  0.004233\n",
       "3      100028  0.008966\n",
       "4      100038  0.030794"
      ]
     },
     "execution_count": 23,
     "metadata": {},
     "output_type": "execute_result"
    }
   ],
   "source": [
    "# 各foldの推論値の平均を算出\n",
    "test_pred_mean = test_pred.mean(axis = 1)\n",
    "\n",
    "# 推論値のデータフレームを作成\n",
    "df_test_pred = pd.concat([\n",
    "    id_test,\n",
    "    pd.DataFrame({\"pred\": test_pred_mean}),\n",
    "], axis = 1)\n",
    "df_test_pred.head()"
   ]
  },
  {
   "cell_type": "code",
   "execution_count": 24,
   "id": "3734c5bc",
   "metadata": {
    "execution": {
     "iopub.execute_input": "2022-11-01T02:14:57.233739Z",
     "iopub.status.busy": "2022-11-01T02:14:57.233365Z",
     "iopub.status.idle": "2022-11-01T02:14:57.241067Z",
     "shell.execute_reply": "2022-11-01T02:14:57.239585Z"
    },
    "papermill": {
     "duration": 0.025585,
     "end_time": "2022-11-01T02:14:57.243129",
     "exception": false,
     "start_time": "2022-11-01T02:14:57.217544",
     "status": "completed"
    },
    "tags": []
   },
   "outputs": [],
   "source": [
    "def predict_lgb(input_x,\n",
    "                input_id,\n",
    "                list_nfold=[0,1,2,3,4],\n",
    "               ):\n",
    "    pred = np.zeros((len(input_x), len(list_nfold)))\n",
    "    for nfold in list_nfold:\n",
    "        print(\"-\"*20, nfold, \"-\"*20)\n",
    "        fname_lgb = \"model_lgb_fold{}.pickle\".format(nfold)\n",
    "        with open(fname_lgb, \"rb\") as f:\n",
    "            model = pickle.load(f)\n",
    "        pred[:, nfold] = model.predict_proba(input_x)[:,1]\n",
    "    \n",
    "    pred = pd.concat([\n",
    "        input_id,\n",
    "        pd.DataFrame({\"pred\": pred.mean(axis=1)}),\n",
    "    ], axis=1)\n",
    "    \n",
    "    print(\"Done.\")\n",
    "    \n",
    "    return pred"
   ]
  },
  {
   "cell_type": "code",
   "execution_count": 25,
   "id": "28cdbc42",
   "metadata": {
    "execution": {
     "iopub.execute_input": "2022-11-01T02:14:57.274292Z",
     "iopub.status.busy": "2022-11-01T02:14:57.273858Z",
     "iopub.status.idle": "2022-11-01T02:14:59.040912Z",
     "shell.execute_reply": "2022-11-01T02:14:59.039851Z"
    },
    "papermill": {
     "duration": 1.785508,
     "end_time": "2022-11-01T02:14:59.042995",
     "exception": false,
     "start_time": "2022-11-01T02:14:57.257487",
     "status": "completed"
    },
    "tags": []
   },
   "outputs": [
    {
     "name": "stdout",
     "output_type": "stream",
     "text": [
      "-------------------- 0 --------------------\n",
      "-------------------- 1 --------------------\n",
      "-------------------- 2 --------------------\n",
      "-------------------- 3 --------------------\n",
      "-------------------- 4 --------------------\n",
      "Done.\n"
     ]
    }
   ],
   "source": [
    "# 推論処理の実行\n",
    "test_pred = predict_lgb(x_test,\n",
    "                        id_test,\n",
    "                        list_nfold = [0,  1, 2, 3, 4],\n",
    "                       )"
   ]
  },
  {
   "cell_type": "code",
   "execution_count": 26,
   "id": "b7e43d45",
   "metadata": {
    "execution": {
     "iopub.execute_input": "2022-11-01T02:14:59.073414Z",
     "iopub.status.busy": "2022-11-01T02:14:59.073070Z",
     "iopub.status.idle": "2022-11-01T02:14:59.173952Z",
     "shell.execute_reply": "2022-11-01T02:14:59.172807Z"
    },
    "papermill": {
     "duration": 0.119196,
     "end_time": "2022-11-01T02:14:59.176781",
     "exception": false,
     "start_time": "2022-11-01T02:14:59.057585",
     "status": "completed"
    },
    "tags": []
   },
   "outputs": [
    {
     "name": "stdout",
     "output_type": "stream",
     "text": [
      "(48744, 2)\n"
     ]
    },
    {
     "data": {
      "text/html": [
       "<div>\n",
       "<style scoped>\n",
       "    .dataframe tbody tr th:only-of-type {\n",
       "        vertical-align: middle;\n",
       "    }\n",
       "\n",
       "    .dataframe tbody tr th {\n",
       "        vertical-align: top;\n",
       "    }\n",
       "\n",
       "    .dataframe thead th {\n",
       "        text-align: right;\n",
       "    }\n",
       "</style>\n",
       "<table border=\"1\" class=\"dataframe\">\n",
       "  <thead>\n",
       "    <tr style=\"text-align: right;\">\n",
       "      <th></th>\n",
       "      <th>SK_ID_CURR</th>\n",
       "      <th>TARGET</th>\n",
       "    </tr>\n",
       "  </thead>\n",
       "  <tbody>\n",
       "    <tr>\n",
       "      <th>0</th>\n",
       "      <td>100001</td>\n",
       "      <td>0.041810</td>\n",
       "    </tr>\n",
       "    <tr>\n",
       "      <th>1</th>\n",
       "      <td>100005</td>\n",
       "      <td>0.126400</td>\n",
       "    </tr>\n",
       "    <tr>\n",
       "      <th>2</th>\n",
       "      <td>100013</td>\n",
       "      <td>0.022495</td>\n",
       "    </tr>\n",
       "    <tr>\n",
       "      <th>3</th>\n",
       "      <td>100028</td>\n",
       "      <td>0.039680</td>\n",
       "    </tr>\n",
       "    <tr>\n",
       "      <th>4</th>\n",
       "      <td>100038</td>\n",
       "      <td>0.156628</td>\n",
       "    </tr>\n",
       "  </tbody>\n",
       "</table>\n",
       "</div>"
      ],
      "text/plain": [
       "   SK_ID_CURR    TARGET\n",
       "0      100001  0.041810\n",
       "1      100005  0.126400\n",
       "2      100013  0.022495\n",
       "3      100028  0.039680\n",
       "4      100038  0.156628"
      ]
     },
     "metadata": {},
     "output_type": "display_data"
    }
   ],
   "source": [
    "# 提出ファイルの作成\n",
    "df_submit = test_pred.rename(columns = {\"pred\": \"TARGET\"})\n",
    "print(df_submit.shape)\n",
    "display(df_submit.head())\n",
    "\n",
    "# ファイル出力\n",
    "df_submit.to_csv(\"submission_baseline.csv\", index = None)"
   ]
  },
  {
   "cell_type": "code",
   "execution_count": 27,
   "id": "b8020a1b",
   "metadata": {
    "execution": {
     "iopub.execute_input": "2022-11-01T02:14:59.210256Z",
     "iopub.status.busy": "2022-11-01T02:14:59.209792Z",
     "iopub.status.idle": "2022-11-01T02:14:59.224045Z",
     "shell.execute_reply": "2022-11-01T02:14:59.223085Z"
    },
    "papermill": {
     "duration": 0.033477,
     "end_time": "2022-11-01T02:14:59.225915",
     "exception": false,
     "start_time": "2022-11-01T02:14:59.192438",
     "status": "completed"
    },
    "tags": []
   },
   "outputs": [
    {
     "data": {
      "text/plain": [
       " 365243    55374\n",
       "-200         156\n",
       "-224         152\n",
       "-230         151\n",
       "-199         151\n",
       "           ...  \n",
       "-13961         1\n",
       "-11827         1\n",
       "-10176         1\n",
       "-9459          1\n",
       "-8694          1\n",
       "Name: DAYS_EMPLOYED, Length: 12574, dtype: int64"
      ]
     },
     "metadata": {},
     "output_type": "display_data"
    },
    {
     "name": "stdout",
     "output_type": "stream",
     "text": [
      "正の値の割合：0.1801\n",
      "正の値の個数：55374\n"
     ]
    }
   ],
   "source": [
    "# データの確認\n",
    "display(application_train[\"DAYS_EMPLOYED\"].value_counts())\n",
    "print(\"正の値の割合：{:.4f}\".format((application_train[\"DAYS_EMPLOYED\"] > 0).mean()))\n",
    "print(\"正の値の個数：{}\".format((application_train[\"DAYS_EMPLOYED\"] > 0).sum()))"
   ]
  },
  {
   "cell_type": "code",
   "execution_count": 28,
   "id": "819f2a82",
   "metadata": {
    "execution": {
     "iopub.execute_input": "2022-11-01T02:14:59.258610Z",
     "iopub.status.busy": "2022-11-01T02:14:59.257325Z",
     "iopub.status.idle": "2022-11-01T02:14:59.264844Z",
     "shell.execute_reply": "2022-11-01T02:14:59.264135Z"
    },
    "papermill": {
     "duration": 0.025643,
     "end_time": "2022-11-01T02:14:59.266557",
     "exception": false,
     "start_time": "2022-11-01T02:14:59.240914",
     "status": "completed"
    },
    "tags": []
   },
   "outputs": [],
   "source": [
    "application_train[\"DAYS_EMPLOYED\"] = application_train[\"DAYS_EMPLOYED\"].replace(365243, np.nan)"
   ]
  },
  {
   "cell_type": "code",
   "execution_count": 29,
   "id": "70e34040",
   "metadata": {
    "execution": {
     "iopub.execute_input": "2022-11-01T02:14:59.298434Z",
     "iopub.status.busy": "2022-11-01T02:14:59.297441Z",
     "iopub.status.idle": "2022-11-01T02:14:59.514599Z",
     "shell.execute_reply": "2022-11-01T02:14:59.513198Z"
    },
    "papermill": {
     "duration": 0.235812,
     "end_time": "2022-11-01T02:14:59.517147",
     "exception": false,
     "start_time": "2022-11-01T02:14:59.281335",
     "status": "completed"
    },
    "tags": []
   },
   "outputs": [],
   "source": [
    "# 特徴量1: 総所得金額を世帯人数で割った値\n",
    "application_train['INCOME_div_PERSON'] = application_train['AMT_INCOME_TOTAL'] / application_train['CNT_FAM_MEMBERS']\n",
    "\n",
    "# 特徴量2: 総所得金額を就労期間で割った値\n",
    "application_train['INCOME_div_EMPLOYED'] = application_train['AMT_INCOME_TOTAL'] / application_train['DAYS_EMPLOYED']\n",
    "\n",
    "# 特徴量3: 外部スコアの平均値など\n",
    "application_train[\"EXT_SOURCE_mean\"] = application_train[[\"EXT_SOURCE_1\", \"EXT_SOURCE_2\", \"EXT_SOURCE_3\"]].mean(axis=1)\n",
    "application_train[\"EXT_SOURCE_max\"] = application_train[[\"EXT_SOURCE_1\", \"EXT_SOURCE_2\", \"EXT_SOURCE_3\"]].max(axis=1)\n",
    "application_train[\"EXT_SOURCE_min\"] = application_train[[\"EXT_SOURCE_1\", \"EXT_SOURCE_2\", \"EXT_SOURCE_3\"]].min(axis=1)\n",
    "application_train[\"EXT_SOURCE_std\"] = application_train[[\"EXT_SOURCE_1\", \"EXT_SOURCE_2\", \"EXT_SOURCE_3\"]].std(axis=1)\n",
    "application_train[\"EXT_SOURCE_count\"] = application_train[[\"EXT_SOURCE_1\", \"EXT_SOURCE_2\", \"EXT_SOURCE_3\"]].notnull().sum(axis=1)\n",
    "\n",
    "# 特徴量4: 就労期間を年齢で割った値 (年齢に占める就労期間の割合)\n",
    "application_train['DAYS_EMPLOYED_div_BIRTH'] = application_train['DAYS_EMPLOYED'] / application_train['DAYS_BIRTH']\n",
    "\n",
    "# 特徴量5: 年金支払額を所得金額で割った値\n",
    "application_train['ANNUITY_div_INCOME'] = application_train['AMT_ANNUITY'] / application_train['AMT_INCOME_TOTAL']\n",
    "\n",
    "# 特徴量6: 年金支払額を借入金で割った値\n",
    "application_train['ANNUITY_div_CREDIT'] = application_train['AMT_ANNUITY'] / application_train['AMT_CREDIT']"
   ]
  },
  {
   "cell_type": "code",
   "execution_count": 30,
   "id": "830b9ed8",
   "metadata": {
    "execution": {
     "iopub.execute_input": "2022-11-01T02:14:59.548296Z",
     "iopub.status.busy": "2022-11-01T02:14:59.547866Z",
     "iopub.status.idle": "2022-11-01T02:15:00.266145Z",
     "shell.execute_reply": "2022-11-01T02:15:00.265066Z"
    },
    "papermill": {
     "duration": 0.73674,
     "end_time": "2022-11-01T02:15:00.268655",
     "exception": false,
     "start_time": "2022-11-01T02:14:59.531915",
     "status": "completed"
    },
    "tags": []
   },
   "outputs": [],
   "source": [
    "x_train = application_train.drop(columns = [\"TARGET\", \"SK_ID_CURR\"])\n",
    "y_train = application_train[\"TARGET\"]\n",
    "id_train = application_train[[\"SK_ID_CURR\"]]\n",
    "for col in x_train.columns:\n",
    "    if x_train[col].dtype == \"O\":\n",
    "        x_train[col] = x_train[col].astype(\"category\")"
   ]
  },
  {
   "cell_type": "code",
   "execution_count": 31,
   "id": "3ae37b2f",
   "metadata": {
    "execution": {
     "iopub.execute_input": "2022-11-01T02:15:00.301186Z",
     "iopub.status.busy": "2022-11-01T02:15:00.300707Z",
     "iopub.status.idle": "2022-11-01T02:18:52.054644Z",
     "shell.execute_reply": "2022-11-01T02:18:52.053551Z"
    },
    "papermill": {
     "duration": 231.773849,
     "end_time": "2022-11-01T02:18:52.057455",
     "exception": false,
     "start_time": "2022-11-01T02:15:00.283606",
     "status": "completed"
    },
    "tags": []
   },
   "outputs": [
    {
     "name": "stdout",
     "output_type": "stream",
     "text": [
      "-------------------- 0 --------------------\n",
      "(246008, 130) (61503, 130)\n",
      "[100]\ttraining's auc: 0.787817\tvalid_1's auc: 0.760032\n",
      "[200]\ttraining's auc: 0.816788\tvalid_1's auc: 0.763696\n",
      "[300]\ttraining's auc: 0.838351\tvalid_1's auc: 0.764008\n",
      "[400]\ttraining's auc: 0.856611\tvalid_1's auc: 0.764045\n",
      "[500]\ttraining's auc: 0.871304\tvalid_1's auc: 0.764075\n",
      "[auc] tr:0.8585, va:0.7641\n",
      "-------------------- 1 --------------------\n",
      "(246009, 130) (61502, 130)\n",
      "[100]\ttraining's auc: 0.788378\tvalid_1's auc: 0.763077\n",
      "[200]\ttraining's auc: 0.816816\tvalid_1's auc: 0.766784\n",
      "[300]\ttraining's auc: 0.838169\tvalid_1's auc: 0.767287\n",
      "[400]\ttraining's auc: 0.856163\tvalid_1's auc: 0.767434\n",
      "[auc] tr:0.8471, va:0.7675\n",
      "-------------------- 2 --------------------\n",
      "(246009, 130) (61502, 130)\n",
      "[100]\ttraining's auc: 0.787655\tvalid_1's auc: 0.764182\n",
      "[200]\ttraining's auc: 0.817121\tvalid_1's auc: 0.767566\n",
      "[300]\ttraining's auc: 0.837872\tvalid_1's auc: 0.767677\n",
      "[400]\ttraining's auc: 0.855451\tvalid_1's auc: 0.76783\n",
      "[auc] tr:0.8519, va:0.7679\n",
      "-------------------- 3 --------------------\n",
      "(246009, 130) (61502, 130)\n",
      "[100]\ttraining's auc: 0.787953\tvalid_1's auc: 0.760392\n",
      "[200]\ttraining's auc: 0.817633\tvalid_1's auc: 0.764592\n",
      "[300]\ttraining's auc: 0.839297\tvalid_1's auc: 0.765105\n",
      "[400]\ttraining's auc: 0.857683\tvalid_1's auc: 0.765196\n",
      "[500]\ttraining's auc: 0.87268\tvalid_1's auc: 0.765068\n",
      "[auc] tr:0.8691, va:0.7653\n",
      "-------------------- 4 --------------------\n",
      "(246009, 130) (61502, 130)\n",
      "[100]\ttraining's auc: 0.789624\tvalid_1's auc: 0.755497\n",
      "[200]\ttraining's auc: 0.818583\tvalid_1's auc: 0.759797\n",
      "[300]\ttraining's auc: 0.839186\tvalid_1's auc: 0.76041\n",
      "[400]\ttraining's auc: 0.856939\tvalid_1's auc: 0.760596\n",
      "[500]\ttraining's auc: 0.87149\tvalid_1's auc: 0.760603\n",
      "[auc] tr:0.8619, va:0.7608\n",
      "-------------------- result --------------------\n",
      "[[0.         0.85845312 0.76414814]\n",
      " [1.         0.8471186  0.76754005]\n",
      " [2.         0.85191008 0.76791531]\n",
      " [3.         0.86911764 0.76531788]\n",
      " [4.         0.86192285 0.76084707]]\n",
      "[cv] tr:0.8577+-0.0077, va:0.7652+-0.0026\n",
      "[oof] 0.7651\n"
     ]
    }
   ],
   "source": [
    "train_oof, imp, metrics = train_lgb(x_train,\n",
    "                                    y_train,\n",
    "                                    id_train,\n",
    "                                    params,\n",
    "                                    list_nfold = [0, 1, 2, 3, 4],\n",
    "                                    n_splits = 5,\n",
    "                                   )"
   ]
  },
  {
   "cell_type": "code",
   "execution_count": 32,
   "id": "d985d44d",
   "metadata": {
    "execution": {
     "iopub.execute_input": "2022-11-01T02:18:52.093266Z",
     "iopub.status.busy": "2022-11-01T02:18:52.092884Z",
     "iopub.status.idle": "2022-11-01T02:18:52.105113Z",
     "shell.execute_reply": "2022-11-01T02:18:52.103971Z"
    },
    "papermill": {
     "duration": 0.03293,
     "end_time": "2022-11-01T02:18:52.107376",
     "exception": false,
     "start_time": "2022-11-01T02:18:52.074446",
     "status": "completed"
    },
    "tags": []
   },
   "outputs": [
    {
     "data": {
      "text/html": [
       "<div>\n",
       "<style scoped>\n",
       "    .dataframe tbody tr th:only-of-type {\n",
       "        vertical-align: middle;\n",
       "    }\n",
       "\n",
       "    .dataframe tbody tr th {\n",
       "        vertical-align: top;\n",
       "    }\n",
       "\n",
       "    .dataframe thead th {\n",
       "        text-align: right;\n",
       "    }\n",
       "</style>\n",
       "<table border=\"1\" class=\"dataframe\">\n",
       "  <thead>\n",
       "    <tr style=\"text-align: right;\">\n",
       "      <th></th>\n",
       "      <th>col</th>\n",
       "      <th>imp</th>\n",
       "      <th>imp_std</th>\n",
       "    </tr>\n",
       "  </thead>\n",
       "  <tbody>\n",
       "    <tr>\n",
       "      <th>44</th>\n",
       "      <td>EXT_SOURCE_mean</td>\n",
       "      <td>114005.214702</td>\n",
       "      <td>1381.645644</td>\n",
       "    </tr>\n",
       "    <tr>\n",
       "      <th>10</th>\n",
       "      <td>ANNUITY_div_CREDIT</td>\n",
       "      <td>23720.301550</td>\n",
       "      <td>805.397477</td>\n",
       "    </tr>\n",
       "    <tr>\n",
       "      <th>112</th>\n",
       "      <td>ORGANIZATION_TYPE</td>\n",
       "      <td>22660.210567</td>\n",
       "      <td>1372.230448</td>\n",
       "    </tr>\n",
       "    <tr>\n",
       "      <th>41</th>\n",
       "      <td>EXT_SOURCE_3</td>\n",
       "      <td>12046.854638</td>\n",
       "      <td>886.653726</td>\n",
       "    </tr>\n",
       "    <tr>\n",
       "      <th>24</th>\n",
       "      <td>DAYS_BIRTH</td>\n",
       "      <td>8108.684084</td>\n",
       "      <td>578.972393</td>\n",
       "    </tr>\n",
       "    <tr>\n",
       "      <th>45</th>\n",
       "      <td>EXT_SOURCE_min</td>\n",
       "      <td>7727.391587</td>\n",
       "      <td>314.203161</td>\n",
       "    </tr>\n",
       "    <tr>\n",
       "      <th>39</th>\n",
       "      <td>EXT_SOURCE_1</td>\n",
       "      <td>7155.619219</td>\n",
       "      <td>472.422492</td>\n",
       "    </tr>\n",
       "    <tr>\n",
       "      <th>2</th>\n",
       "      <td>AMT_GOODS_PRICE</td>\n",
       "      <td>6148.167858</td>\n",
       "      <td>364.159044</td>\n",
       "    </tr>\n",
       "    <tr>\n",
       "      <th>0</th>\n",
       "      <td>AMT_ANNUITY</td>\n",
       "      <td>6091.805210</td>\n",
       "      <td>581.987900</td>\n",
       "    </tr>\n",
       "    <tr>\n",
       "      <th>46</th>\n",
       "      <td>EXT_SOURCE_std</td>\n",
       "      <td>5830.390690</td>\n",
       "      <td>679.963947</td>\n",
       "    </tr>\n",
       "  </tbody>\n",
       "</table>\n",
       "</div>"
      ],
      "text/plain": [
       "                    col            imp      imp_std\n",
       "44      EXT_SOURCE_mean  114005.214702  1381.645644\n",
       "10   ANNUITY_div_CREDIT   23720.301550   805.397477\n",
       "112   ORGANIZATION_TYPE   22660.210567  1372.230448\n",
       "41         EXT_SOURCE_3   12046.854638   886.653726\n",
       "24           DAYS_BIRTH    8108.684084   578.972393\n",
       "45       EXT_SOURCE_min    7727.391587   314.203161\n",
       "39         EXT_SOURCE_1    7155.619219   472.422492\n",
       "2       AMT_GOODS_PRICE    6148.167858   364.159044\n",
       "0           AMT_ANNUITY    6091.805210   581.987900\n",
       "46       EXT_SOURCE_std    5830.390690   679.963947"
      ]
     },
     "execution_count": 32,
     "metadata": {},
     "output_type": "execute_result"
    }
   ],
   "source": [
    "imp.sort_values(\"imp\", ascending = False)[:10]"
   ]
  },
  {
   "cell_type": "code",
   "execution_count": 33,
   "id": "bbfc5446",
   "metadata": {
    "execution": {
     "iopub.execute_input": "2022-11-01T02:18:52.142608Z",
     "iopub.status.busy": "2022-11-01T02:18:52.142210Z",
     "iopub.status.idle": "2022-11-01T02:18:52.306545Z",
     "shell.execute_reply": "2022-11-01T02:18:52.305665Z"
    },
    "papermill": {
     "duration": 0.184684,
     "end_time": "2022-11-01T02:18:52.309053",
     "exception": false,
     "start_time": "2022-11-01T02:18:52.124369",
     "status": "completed"
    },
    "tags": []
   },
   "outputs": [],
   "source": [
    "# nullに置き換え\n",
    "application_test[\"DAYS_EMPLOYED\"] = application_test[\"DAYS_EMPLOYED\"].replace(365243, np.nan)\n",
    "\n",
    "# 特徴量の生成\n",
    "application_test['INCOME_div_PERSON'] = application_test['AMT_INCOME_TOTAL'] / application_test['CNT_FAM_MEMBERS']\n",
    "application_test['INCOME_div_EMPLOYED'] = application_test['AMT_INCOME_TOTAL'] / application_test['DAYS_EMPLOYED']\n",
    "application_test[\"EXT_SOURCE_mean\"] = application_test[[\"EXT_SOURCE_1\", \"EXT_SOURCE_2\", \"EXT_SOURCE_3\"]].mean(axis=1)\n",
    "application_test[\"EXT_SOURCE_max\"] = application_test[[\"EXT_SOURCE_1\", \"EXT_SOURCE_2\", \"EXT_SOURCE_3\"]].max(axis=1)\n",
    "application_test[\"EXT_SOURCE_min\"] = application_test[[\"EXT_SOURCE_1\", \"EXT_SOURCE_2\", \"EXT_SOURCE_3\"]].min(axis=1)\n",
    "application_test[\"EXT_SOURCE_std\"] = application_test[[\"EXT_SOURCE_1\", \"EXT_SOURCE_2\", \"EXT_SOURCE_3\"]].std(axis=1)\n",
    "application_test[\"EXT_SOURCE_count\"] = application_test[[\"EXT_SOURCE_1\", \"EXT_SOURCE_2\", \"EXT_SOURCE_3\"]].notnull().sum(axis=1)\n",
    "application_test['DAYS_EMPLOYED_div_BIRTH'] = application_test['DAYS_EMPLOYED'] / application_test['DAYS_BIRTH']\n",
    "application_test['ANNUITY_div_INCOME'] = application_test['AMT_ANNUITY'] / application_test['AMT_INCOME_TOTAL']\n",
    "application_test['ANNUITY_div_CREDIT'] = application_test['AMT_ANNUITY'] / application_test['AMT_CREDIT']\n",
    "\n",
    "# データセット作成\n",
    "x_test = application_test.drop(columns=[\"SK_ID_CURR\"])\n",
    "id_test = application_test[[\"SK_ID_CURR\"]]\n",
    "\n",
    "# カテゴリ変数をcategory型へ変換\n",
    "for col in x_test.columns:\n",
    "    if x_test[col].dtype==\"O\":\n",
    "        x_test[col] = x_test[col].astype(\"category\")\n"
   ]
  },
  {
   "cell_type": "code",
   "execution_count": 34,
   "id": "89556ff2",
   "metadata": {
    "execution": {
     "iopub.execute_input": "2022-11-01T02:18:52.343426Z",
     "iopub.status.busy": "2022-11-01T02:18:52.343055Z",
     "iopub.status.idle": "2022-11-01T02:18:55.176997Z",
     "shell.execute_reply": "2022-11-01T02:18:55.176184Z"
    },
    "papermill": {
     "duration": 2.853298,
     "end_time": "2022-11-01T02:18:55.178966",
     "exception": false,
     "start_time": "2022-11-01T02:18:52.325668",
     "status": "completed"
    },
    "tags": []
   },
   "outputs": [
    {
     "name": "stdout",
     "output_type": "stream",
     "text": [
      "-------------------- 0 --------------------\n",
      "-------------------- 1 --------------------\n",
      "-------------------- 2 --------------------\n",
      "-------------------- 3 --------------------\n",
      "-------------------- 4 --------------------\n",
      "Done.\n"
     ]
    }
   ],
   "source": [
    "test_pred = predict_lgb(x_test,\n",
    "                        id_test,\n",
    "                        list_nfold=[0,1,2,3,4],\n",
    "                       )"
   ]
  },
  {
   "cell_type": "code",
   "execution_count": 35,
   "id": "d56804b5",
   "metadata": {
    "execution": {
     "iopub.execute_input": "2022-11-01T02:18:55.214577Z",
     "iopub.status.busy": "2022-11-01T02:18:55.213944Z",
     "iopub.status.idle": "2022-11-01T02:18:55.307882Z",
     "shell.execute_reply": "2022-11-01T02:18:55.306959Z"
    },
    "papermill": {
     "duration": 0.114244,
     "end_time": "2022-11-01T02:18:55.310152",
     "exception": false,
     "start_time": "2022-11-01T02:18:55.195908",
     "status": "completed"
    },
    "tags": []
   },
   "outputs": [
    {
     "name": "stdout",
     "output_type": "stream",
     "text": [
      "(48744, 2)\n"
     ]
    },
    {
     "data": {
      "text/html": [
       "<div>\n",
       "<style scoped>\n",
       "    .dataframe tbody tr th:only-of-type {\n",
       "        vertical-align: middle;\n",
       "    }\n",
       "\n",
       "    .dataframe tbody tr th {\n",
       "        vertical-align: top;\n",
       "    }\n",
       "\n",
       "    .dataframe thead th {\n",
       "        text-align: right;\n",
       "    }\n",
       "</style>\n",
       "<table border=\"1\" class=\"dataframe\">\n",
       "  <thead>\n",
       "    <tr style=\"text-align: right;\">\n",
       "      <th></th>\n",
       "      <th>SK_ID_CURR</th>\n",
       "      <th>TARGET</th>\n",
       "    </tr>\n",
       "  </thead>\n",
       "  <tbody>\n",
       "    <tr>\n",
       "      <th>0</th>\n",
       "      <td>100001</td>\n",
       "      <td>0.029002</td>\n",
       "    </tr>\n",
       "    <tr>\n",
       "      <th>1</th>\n",
       "      <td>100005</td>\n",
       "      <td>0.121782</td>\n",
       "    </tr>\n",
       "    <tr>\n",
       "      <th>2</th>\n",
       "      <td>100013</td>\n",
       "      <td>0.022668</td>\n",
       "    </tr>\n",
       "    <tr>\n",
       "      <th>3</th>\n",
       "      <td>100028</td>\n",
       "      <td>0.044435</td>\n",
       "    </tr>\n",
       "    <tr>\n",
       "      <th>4</th>\n",
       "      <td>100038</td>\n",
       "      <td>0.181940</td>\n",
       "    </tr>\n",
       "  </tbody>\n",
       "</table>\n",
       "</div>"
      ],
      "text/plain": [
       "   SK_ID_CURR    TARGET\n",
       "0      100001  0.029002\n",
       "1      100005  0.121782\n",
       "2      100013  0.022668\n",
       "3      100028  0.044435\n",
       "4      100038  0.181940"
      ]
     },
     "metadata": {},
     "output_type": "display_data"
    }
   ],
   "source": [
    "df_submit = test_pred.rename(columns={\"pred\":\"TARGET\"})\n",
    "print(df_submit.shape)\n",
    "display(df_submit.head())\n",
    "df_submit.to_csv(\"submission_FeatureEngineering1.csv\", index=None)"
   ]
  },
  {
   "cell_type": "code",
   "execution_count": 36,
   "id": "f805c81e",
   "metadata": {
    "execution": {
     "iopub.execute_input": "2022-11-01T02:18:55.346335Z",
     "iopub.status.busy": "2022-11-01T02:18:55.345952Z",
     "iopub.status.idle": "2022-11-01T02:19:04.313945Z",
     "shell.execute_reply": "2022-11-01T02:19:04.312558Z"
    },
    "papermill": {
     "duration": 8.989456,
     "end_time": "2022-11-01T02:19:04.316672",
     "exception": false,
     "start_time": "2022-11-01T02:18:55.327216",
     "status": "completed"
    },
    "tags": []
   },
   "outputs": [
    {
     "name": "stdout",
     "output_type": "stream",
     "text": [
      "Memory usage of dataframe is 610.43 MB\n",
      "Memory usage after optimization is: 238.45 MB\n",
      "Decreased by 60.9%\n",
      "(10001358, 8)\n"
     ]
    },
    {
     "data": {
      "text/html": [
       "<div>\n",
       "<style scoped>\n",
       "    .dataframe tbody tr th:only-of-type {\n",
       "        vertical-align: middle;\n",
       "    }\n",
       "\n",
       "    .dataframe tbody tr th {\n",
       "        vertical-align: top;\n",
       "    }\n",
       "\n",
       "    .dataframe thead th {\n",
       "        text-align: right;\n",
       "    }\n",
       "</style>\n",
       "<table border=\"1\" class=\"dataframe\">\n",
       "  <thead>\n",
       "    <tr style=\"text-align: right;\">\n",
       "      <th></th>\n",
       "      <th>SK_ID_PREV</th>\n",
       "      <th>SK_ID_CURR</th>\n",
       "      <th>MONTHS_BALANCE</th>\n",
       "      <th>CNT_INSTALMENT</th>\n",
       "      <th>CNT_INSTALMENT_FUTURE</th>\n",
       "      <th>NAME_CONTRACT_STATUS</th>\n",
       "      <th>SK_DPD</th>\n",
       "      <th>SK_DPD_DEF</th>\n",
       "    </tr>\n",
       "  </thead>\n",
       "  <tbody>\n",
       "    <tr>\n",
       "      <th>0</th>\n",
       "      <td>1803195</td>\n",
       "      <td>182943</td>\n",
       "      <td>-31</td>\n",
       "      <td>48.0</td>\n",
       "      <td>45.0</td>\n",
       "      <td>Active</td>\n",
       "      <td>0</td>\n",
       "      <td>0</td>\n",
       "    </tr>\n",
       "    <tr>\n",
       "      <th>1</th>\n",
       "      <td>1715348</td>\n",
       "      <td>367990</td>\n",
       "      <td>-33</td>\n",
       "      <td>36.0</td>\n",
       "      <td>35.0</td>\n",
       "      <td>Active</td>\n",
       "      <td>0</td>\n",
       "      <td>0</td>\n",
       "    </tr>\n",
       "    <tr>\n",
       "      <th>2</th>\n",
       "      <td>1784872</td>\n",
       "      <td>397406</td>\n",
       "      <td>-32</td>\n",
       "      <td>12.0</td>\n",
       "      <td>9.0</td>\n",
       "      <td>Active</td>\n",
       "      <td>0</td>\n",
       "      <td>0</td>\n",
       "    </tr>\n",
       "    <tr>\n",
       "      <th>3</th>\n",
       "      <td>1903291</td>\n",
       "      <td>269225</td>\n",
       "      <td>-35</td>\n",
       "      <td>48.0</td>\n",
       "      <td>42.0</td>\n",
       "      <td>Active</td>\n",
       "      <td>0</td>\n",
       "      <td>0</td>\n",
       "    </tr>\n",
       "    <tr>\n",
       "      <th>4</th>\n",
       "      <td>2341044</td>\n",
       "      <td>334279</td>\n",
       "      <td>-35</td>\n",
       "      <td>36.0</td>\n",
       "      <td>35.0</td>\n",
       "      <td>Active</td>\n",
       "      <td>0</td>\n",
       "      <td>0</td>\n",
       "    </tr>\n",
       "  </tbody>\n",
       "</table>\n",
       "</div>"
      ],
      "text/plain": [
       "   SK_ID_PREV  SK_ID_CURR  MONTHS_BALANCE  CNT_INSTALMENT  \\\n",
       "0     1803195      182943             -31            48.0   \n",
       "1     1715348      367990             -33            36.0   \n",
       "2     1784872      397406             -32            12.0   \n",
       "3     1903291      269225             -35            48.0   \n",
       "4     2341044      334279             -35            36.0   \n",
       "\n",
       "   CNT_INSTALMENT_FUTURE NAME_CONTRACT_STATUS  SK_DPD  SK_DPD_DEF  \n",
       "0                   45.0               Active       0           0  \n",
       "1                   35.0               Active       0           0  \n",
       "2                    9.0               Active       0           0  \n",
       "3                   42.0               Active       0           0  \n",
       "4                   35.0               Active       0           0  "
      ]
     },
     "execution_count": 36,
     "metadata": {},
     "output_type": "execute_result"
    }
   ],
   "source": [
    "pos = pd.read_csv(\"../input/home-credit-default-risk/POS_CASH_balance.csv\")\n",
    "pos = reduce_mem_usage(pos)\n",
    "print(pos.shape)\n",
    "pos.head()"
   ]
  },
  {
   "cell_type": "code",
   "execution_count": 37,
   "id": "75b2b3b0",
   "metadata": {
    "execution": {
     "iopub.execute_input": "2022-11-01T02:19:04.353260Z",
     "iopub.status.busy": "2022-11-01T02:19:04.352874Z",
     "iopub.status.idle": "2022-11-01T02:19:05.979465Z",
     "shell.execute_reply": "2022-11-01T02:19:05.978227Z"
    },
    "papermill": {
     "duration": 1.647775,
     "end_time": "2022-11-01T02:19:05.982137",
     "exception": false,
     "start_time": "2022-11-01T02:19:04.334362",
     "status": "completed"
    },
    "tags": []
   },
   "outputs": [
    {
     "name": "stdout",
     "output_type": "stream",
     "text": [
      "10\n"
     ]
    },
    {
     "data": {
      "text/plain": [
       "['NAME_CONTRACT_STATUS_Active',\n",
       " 'NAME_CONTRACT_STATUS_Amortized debt',\n",
       " 'NAME_CONTRACT_STATUS_Approved',\n",
       " 'NAME_CONTRACT_STATUS_Canceled',\n",
       " 'NAME_CONTRACT_STATUS_Completed',\n",
       " 'NAME_CONTRACT_STATUS_Demand',\n",
       " 'NAME_CONTRACT_STATUS_Returned to the store',\n",
       " 'NAME_CONTRACT_STATUS_Signed',\n",
       " 'NAME_CONTRACT_STATUS_XNA',\n",
       " 'NAME_CONTRACT_STATUS_nan']"
      ]
     },
     "execution_count": 37,
     "metadata": {},
     "output_type": "execute_result"
    }
   ],
   "source": [
    "pos_ohe = pd.get_dummies(pos, columns = [\"NAME_CONTRACT_STATUS\"], dummy_na = True)\n",
    "col_ohe = sorted(list(set(pos_ohe.columns) - set(pos.columns)))\n",
    "print(len(col_ohe))\n",
    "col_ohe"
   ]
  },
  {
   "cell_type": "code",
   "execution_count": 38,
   "id": "a5396b02",
   "metadata": {
    "execution": {
     "iopub.execute_input": "2022-11-01T02:19:06.020398Z",
     "iopub.status.busy": "2022-11-01T02:19:06.020043Z",
     "iopub.status.idle": "2022-11-01T02:19:14.550823Z",
     "shell.execute_reply": "2022-11-01T02:19:14.549674Z"
    },
    "papermill": {
     "duration": 8.55232,
     "end_time": "2022-11-01T02:19:14.552816",
     "exception": false,
     "start_time": "2022-11-01T02:19:06.000496",
     "status": "completed"
    },
    "tags": []
   },
   "outputs": [
    {
     "name": "stdout",
     "output_type": "stream",
     "text": [
      "(337252, 33)\n"
     ]
    },
    {
     "data": {
      "text/html": [
       "<div>\n",
       "<style scoped>\n",
       "    .dataframe tbody tr th:only-of-type {\n",
       "        vertical-align: middle;\n",
       "    }\n",
       "\n",
       "    .dataframe tbody tr th {\n",
       "        vertical-align: top;\n",
       "    }\n",
       "\n",
       "    .dataframe thead th {\n",
       "        text-align: right;\n",
       "    }\n",
       "</style>\n",
       "<table border=\"1\" class=\"dataframe\">\n",
       "  <thead>\n",
       "    <tr style=\"text-align: right;\">\n",
       "      <th></th>\n",
       "      <th>SK_ID_CURR</th>\n",
       "      <th>MONTHS_BALANCE_mean</th>\n",
       "      <th>MONTHS_BALANCE_std</th>\n",
       "      <th>MONTHS_BALANCE_min</th>\n",
       "      <th>MONTHS_BALANCE_max</th>\n",
       "      <th>CNT_INSTALMENT_mean</th>\n",
       "      <th>CNT_INSTALMENT_std</th>\n",
       "      <th>CNT_INSTALMENT_min</th>\n",
       "      <th>CNT_INSTALMENT_max</th>\n",
       "      <th>CNT_INSTALMENT_FUTURE_mean</th>\n",
       "      <th>...</th>\n",
       "      <th>NAME_CONTRACT_STATUS_Approved_mean</th>\n",
       "      <th>NAME_CONTRACT_STATUS_Canceled_mean</th>\n",
       "      <th>NAME_CONTRACT_STATUS_Completed_mean</th>\n",
       "      <th>NAME_CONTRACT_STATUS_Demand_mean</th>\n",
       "      <th>NAME_CONTRACT_STATUS_Returned to the store_mean</th>\n",
       "      <th>NAME_CONTRACT_STATUS_Signed_mean</th>\n",
       "      <th>NAME_CONTRACT_STATUS_XNA_mean</th>\n",
       "      <th>NAME_CONTRACT_STATUS_nan_mean</th>\n",
       "      <th>SK_ID_PREV_count</th>\n",
       "      <th>SK_ID_PREV_nunique</th>\n",
       "    </tr>\n",
       "  </thead>\n",
       "  <tbody>\n",
       "    <tr>\n",
       "      <th>0</th>\n",
       "      <td>100001</td>\n",
       "      <td>-72.555556</td>\n",
       "      <td>20.863312</td>\n",
       "      <td>-96</td>\n",
       "      <td>-53</td>\n",
       "      <td>4.000000</td>\n",
       "      <td>0.000000</td>\n",
       "      <td>4.0</td>\n",
       "      <td>4.0</td>\n",
       "      <td>1.444336</td>\n",
       "      <td>...</td>\n",
       "      <td>0.0</td>\n",
       "      <td>0.0</td>\n",
       "      <td>0.222222</td>\n",
       "      <td>0.0</td>\n",
       "      <td>0.0</td>\n",
       "      <td>0.000000</td>\n",
       "      <td>0.0</td>\n",
       "      <td>0.0</td>\n",
       "      <td>9</td>\n",
       "      <td>2</td>\n",
       "    </tr>\n",
       "    <tr>\n",
       "      <th>1</th>\n",
       "      <td>100002</td>\n",
       "      <td>-10.000000</td>\n",
       "      <td>5.627314</td>\n",
       "      <td>-19</td>\n",
       "      <td>-1</td>\n",
       "      <td>24.000000</td>\n",
       "      <td>0.000000</td>\n",
       "      <td>24.0</td>\n",
       "      <td>24.0</td>\n",
       "      <td>15.000000</td>\n",
       "      <td>...</td>\n",
       "      <td>0.0</td>\n",
       "      <td>0.0</td>\n",
       "      <td>0.000000</td>\n",
       "      <td>0.0</td>\n",
       "      <td>0.0</td>\n",
       "      <td>0.000000</td>\n",
       "      <td>0.0</td>\n",
       "      <td>0.0</td>\n",
       "      <td>19</td>\n",
       "      <td>1</td>\n",
       "    </tr>\n",
       "    <tr>\n",
       "      <th>2</th>\n",
       "      <td>100003</td>\n",
       "      <td>-43.785714</td>\n",
       "      <td>24.640162</td>\n",
       "      <td>-77</td>\n",
       "      <td>-18</td>\n",
       "      <td>10.109375</td>\n",
       "      <td>2.806597</td>\n",
       "      <td>6.0</td>\n",
       "      <td>12.0</td>\n",
       "      <td>5.785156</td>\n",
       "      <td>...</td>\n",
       "      <td>0.0</td>\n",
       "      <td>0.0</td>\n",
       "      <td>0.071429</td>\n",
       "      <td>0.0</td>\n",
       "      <td>0.0</td>\n",
       "      <td>0.000000</td>\n",
       "      <td>0.0</td>\n",
       "      <td>0.0</td>\n",
       "      <td>28</td>\n",
       "      <td>3</td>\n",
       "    </tr>\n",
       "    <tr>\n",
       "      <th>3</th>\n",
       "      <td>100004</td>\n",
       "      <td>-25.500000</td>\n",
       "      <td>1.290994</td>\n",
       "      <td>-27</td>\n",
       "      <td>-24</td>\n",
       "      <td>3.750000</td>\n",
       "      <td>0.500000</td>\n",
       "      <td>3.0</td>\n",
       "      <td>4.0</td>\n",
       "      <td>2.250000</td>\n",
       "      <td>...</td>\n",
       "      <td>0.0</td>\n",
       "      <td>0.0</td>\n",
       "      <td>0.250000</td>\n",
       "      <td>0.0</td>\n",
       "      <td>0.0</td>\n",
       "      <td>0.000000</td>\n",
       "      <td>0.0</td>\n",
       "      <td>0.0</td>\n",
       "      <td>4</td>\n",
       "      <td>1</td>\n",
       "    </tr>\n",
       "    <tr>\n",
       "      <th>4</th>\n",
       "      <td>100005</td>\n",
       "      <td>-20.000000</td>\n",
       "      <td>3.316625</td>\n",
       "      <td>-25</td>\n",
       "      <td>-15</td>\n",
       "      <td>11.703125</td>\n",
       "      <td>0.948683</td>\n",
       "      <td>9.0</td>\n",
       "      <td>12.0</td>\n",
       "      <td>7.199219</td>\n",
       "      <td>...</td>\n",
       "      <td>0.0</td>\n",
       "      <td>0.0</td>\n",
       "      <td>0.090909</td>\n",
       "      <td>0.0</td>\n",
       "      <td>0.0</td>\n",
       "      <td>0.090909</td>\n",
       "      <td>0.0</td>\n",
       "      <td>0.0</td>\n",
       "      <td>11</td>\n",
       "      <td>1</td>\n",
       "    </tr>\n",
       "  </tbody>\n",
       "</table>\n",
       "<p>5 rows × 33 columns</p>\n",
       "</div>"
      ],
      "text/plain": [
       "   SK_ID_CURR  MONTHS_BALANCE_mean  MONTHS_BALANCE_std  MONTHS_BALANCE_min  \\\n",
       "0      100001           -72.555556           20.863312                 -96   \n",
       "1      100002           -10.000000            5.627314                 -19   \n",
       "2      100003           -43.785714           24.640162                 -77   \n",
       "3      100004           -25.500000            1.290994                 -27   \n",
       "4      100005           -20.000000            3.316625                 -25   \n",
       "\n",
       "   MONTHS_BALANCE_max  CNT_INSTALMENT_mean  CNT_INSTALMENT_std  \\\n",
       "0                 -53             4.000000            0.000000   \n",
       "1                  -1            24.000000            0.000000   \n",
       "2                 -18            10.109375            2.806597   \n",
       "3                 -24             3.750000            0.500000   \n",
       "4                 -15            11.703125            0.948683   \n",
       "\n",
       "   CNT_INSTALMENT_min  CNT_INSTALMENT_max  CNT_INSTALMENT_FUTURE_mean  ...  \\\n",
       "0                 4.0                 4.0                    1.444336  ...   \n",
       "1                24.0                24.0                   15.000000  ...   \n",
       "2                 6.0                12.0                    5.785156  ...   \n",
       "3                 3.0                 4.0                    2.250000  ...   \n",
       "4                 9.0                12.0                    7.199219  ...   \n",
       "\n",
       "   NAME_CONTRACT_STATUS_Approved_mean  NAME_CONTRACT_STATUS_Canceled_mean  \\\n",
       "0                                 0.0                                 0.0   \n",
       "1                                 0.0                                 0.0   \n",
       "2                                 0.0                                 0.0   \n",
       "3                                 0.0                                 0.0   \n",
       "4                                 0.0                                 0.0   \n",
       "\n",
       "   NAME_CONTRACT_STATUS_Completed_mean  NAME_CONTRACT_STATUS_Demand_mean  \\\n",
       "0                             0.222222                               0.0   \n",
       "1                             0.000000                               0.0   \n",
       "2                             0.071429                               0.0   \n",
       "3                             0.250000                               0.0   \n",
       "4                             0.090909                               0.0   \n",
       "\n",
       "   NAME_CONTRACT_STATUS_Returned to the store_mean  \\\n",
       "0                                              0.0   \n",
       "1                                              0.0   \n",
       "2                                              0.0   \n",
       "3                                              0.0   \n",
       "4                                              0.0   \n",
       "\n",
       "   NAME_CONTRACT_STATUS_Signed_mean  NAME_CONTRACT_STATUS_XNA_mean  \\\n",
       "0                          0.000000                            0.0   \n",
       "1                          0.000000                            0.0   \n",
       "2                          0.000000                            0.0   \n",
       "3                          0.000000                            0.0   \n",
       "4                          0.090909                            0.0   \n",
       "\n",
       "   NAME_CONTRACT_STATUS_nan_mean  SK_ID_PREV_count  SK_ID_PREV_nunique  \n",
       "0                            0.0                 9                   2  \n",
       "1                            0.0                19                   1  \n",
       "2                            0.0                28                   3  \n",
       "3                            0.0                 4                   1  \n",
       "4                            0.0                11                   1  \n",
       "\n",
       "[5 rows x 33 columns]"
      ]
     },
     "execution_count": 38,
     "metadata": {},
     "output_type": "execute_result"
    }
   ],
   "source": [
    "pos_ohe_agg = pos_ohe.groupby(\"SK_ID_CURR\").agg(\n",
    "    {\n",
    "        # 数値の集約\n",
    "        \"MONTHS_BALANCE\": [\"mean\", \"std\", \"min\", \"max\"],\n",
    "        \"CNT_INSTALMENT\": [\"mean\", \"std\", \"min\", \"max\"],\n",
    "        \"CNT_INSTALMENT_FUTURE\": [\"mean\", \"std\", \"min\", \"max\"],\n",
    "        \"SK_DPD\": [\"mean\", \"std\", \"min\", \"max\"],\n",
    "        \"SK_DPD_DEF\": [\"mean\", \"std\", \"min\", \"max\"],\n",
    "        # カテゴリ変数をone-hot-encodingした値の集約\n",
    "        \"NAME_CONTRACT_STATUS_Active\": [\"mean\"],\n",
    "        \"NAME_CONTRACT_STATUS_Amortized debt\": [\"mean\"],\n",
    "        \"NAME_CONTRACT_STATUS_Approved\": [\"mean\"],\n",
    "        \"NAME_CONTRACT_STATUS_Canceled\": [\"mean\"],\n",
    "        \"NAME_CONTRACT_STATUS_Completed\": [\"mean\"],\n",
    "        \"NAME_CONTRACT_STATUS_Demand\": [\"mean\"],\n",
    "        \"NAME_CONTRACT_STATUS_Returned to the store\": [\"mean\"],\n",
    "        \"NAME_CONTRACT_STATUS_Signed\": [\"mean\"],\n",
    "        \"NAME_CONTRACT_STATUS_XNA\": [\"mean\"],\n",
    "        \"NAME_CONTRACT_STATUS_nan\": [\"mean\"],\n",
    "        # IDのユニーク数をカウント (ついでにレコード数もカウント)\n",
    "        \"SK_ID_PREV\":[\"count\", \"nunique\"],\n",
    "    }\n",
    ")\n",
    "\n",
    "# カラム名の付与\n",
    "pos_ohe_agg.columns = [i + \"_\" + j for i,j in pos_ohe_agg.columns]\n",
    "pos_ohe_agg = pos_ohe_agg.reset_index(drop=False)\n",
    "\n",
    "print(pos_ohe_agg.shape)\n",
    "pos_ohe_agg.head()"
   ]
  },
  {
   "cell_type": "code",
   "execution_count": 39,
   "id": "137fc49c",
   "metadata": {
    "execution": {
     "iopub.execute_input": "2022-11-01T02:19:14.589979Z",
     "iopub.status.busy": "2022-11-01T02:19:14.589577Z",
     "iopub.status.idle": "2022-11-01T02:19:17.085675Z",
     "shell.execute_reply": "2022-11-01T02:19:17.084577Z"
    },
    "papermill": {
     "duration": 2.516835,
     "end_time": "2022-11-01T02:19:17.087610",
     "exception": false,
     "start_time": "2022-11-01T02:19:14.570775",
     "status": "completed"
    },
    "tags": []
   },
   "outputs": [
    {
     "name": "stdout",
     "output_type": "stream",
     "text": [
      "(307511, 164)\n"
     ]
    },
    {
     "data": {
      "text/html": [
       "<div>\n",
       "<style scoped>\n",
       "    .dataframe tbody tr th:only-of-type {\n",
       "        vertical-align: middle;\n",
       "    }\n",
       "\n",
       "    .dataframe tbody tr th {\n",
       "        vertical-align: top;\n",
       "    }\n",
       "\n",
       "    .dataframe thead th {\n",
       "        text-align: right;\n",
       "    }\n",
       "</style>\n",
       "<table border=\"1\" class=\"dataframe\">\n",
       "  <thead>\n",
       "    <tr style=\"text-align: right;\">\n",
       "      <th></th>\n",
       "      <th>SK_ID_CURR</th>\n",
       "      <th>TARGET</th>\n",
       "      <th>NAME_CONTRACT_TYPE</th>\n",
       "      <th>CODE_GENDER</th>\n",
       "      <th>FLAG_OWN_CAR</th>\n",
       "      <th>FLAG_OWN_REALTY</th>\n",
       "      <th>CNT_CHILDREN</th>\n",
       "      <th>AMT_INCOME_TOTAL</th>\n",
       "      <th>AMT_CREDIT</th>\n",
       "      <th>AMT_ANNUITY</th>\n",
       "      <th>...</th>\n",
       "      <th>NAME_CONTRACT_STATUS_Approved_mean</th>\n",
       "      <th>NAME_CONTRACT_STATUS_Canceled_mean</th>\n",
       "      <th>NAME_CONTRACT_STATUS_Completed_mean</th>\n",
       "      <th>NAME_CONTRACT_STATUS_Demand_mean</th>\n",
       "      <th>NAME_CONTRACT_STATUS_Returned to the store_mean</th>\n",
       "      <th>NAME_CONTRACT_STATUS_Signed_mean</th>\n",
       "      <th>NAME_CONTRACT_STATUS_XNA_mean</th>\n",
       "      <th>NAME_CONTRACT_STATUS_nan_mean</th>\n",
       "      <th>SK_ID_PREV_count</th>\n",
       "      <th>SK_ID_PREV_nunique</th>\n",
       "    </tr>\n",
       "  </thead>\n",
       "  <tbody>\n",
       "    <tr>\n",
       "      <th>0</th>\n",
       "      <td>100002</td>\n",
       "      <td>1</td>\n",
       "      <td>Cash loans</td>\n",
       "      <td>M</td>\n",
       "      <td>N</td>\n",
       "      <td>Y</td>\n",
       "      <td>0</td>\n",
       "      <td>202500.0</td>\n",
       "      <td>406597.5</td>\n",
       "      <td>24700.5</td>\n",
       "      <td>...</td>\n",
       "      <td>0.0</td>\n",
       "      <td>0.0</td>\n",
       "      <td>0.000000</td>\n",
       "      <td>0.0</td>\n",
       "      <td>0.000000</td>\n",
       "      <td>0.000000</td>\n",
       "      <td>0.0</td>\n",
       "      <td>0.0</td>\n",
       "      <td>19.0</td>\n",
       "      <td>1.0</td>\n",
       "    </tr>\n",
       "    <tr>\n",
       "      <th>1</th>\n",
       "      <td>100003</td>\n",
       "      <td>0</td>\n",
       "      <td>Cash loans</td>\n",
       "      <td>F</td>\n",
       "      <td>N</td>\n",
       "      <td>N</td>\n",
       "      <td>0</td>\n",
       "      <td>270000.0</td>\n",
       "      <td>1293502.5</td>\n",
       "      <td>35698.5</td>\n",
       "      <td>...</td>\n",
       "      <td>0.0</td>\n",
       "      <td>0.0</td>\n",
       "      <td>0.071429</td>\n",
       "      <td>0.0</td>\n",
       "      <td>0.000000</td>\n",
       "      <td>0.000000</td>\n",
       "      <td>0.0</td>\n",
       "      <td>0.0</td>\n",
       "      <td>28.0</td>\n",
       "      <td>3.0</td>\n",
       "    </tr>\n",
       "    <tr>\n",
       "      <th>2</th>\n",
       "      <td>100004</td>\n",
       "      <td>0</td>\n",
       "      <td>Revolving loans</td>\n",
       "      <td>M</td>\n",
       "      <td>Y</td>\n",
       "      <td>Y</td>\n",
       "      <td>0</td>\n",
       "      <td>67500.0</td>\n",
       "      <td>135000.0</td>\n",
       "      <td>6750.0</td>\n",
       "      <td>...</td>\n",
       "      <td>0.0</td>\n",
       "      <td>0.0</td>\n",
       "      <td>0.250000</td>\n",
       "      <td>0.0</td>\n",
       "      <td>0.000000</td>\n",
       "      <td>0.000000</td>\n",
       "      <td>0.0</td>\n",
       "      <td>0.0</td>\n",
       "      <td>4.0</td>\n",
       "      <td>1.0</td>\n",
       "    </tr>\n",
       "    <tr>\n",
       "      <th>3</th>\n",
       "      <td>100006</td>\n",
       "      <td>0</td>\n",
       "      <td>Cash loans</td>\n",
       "      <td>F</td>\n",
       "      <td>N</td>\n",
       "      <td>Y</td>\n",
       "      <td>0</td>\n",
       "      <td>135000.0</td>\n",
       "      <td>312682.5</td>\n",
       "      <td>29686.5</td>\n",
       "      <td>...</td>\n",
       "      <td>0.0</td>\n",
       "      <td>0.0</td>\n",
       "      <td>0.095238</td>\n",
       "      <td>0.0</td>\n",
       "      <td>0.047619</td>\n",
       "      <td>0.000000</td>\n",
       "      <td>0.0</td>\n",
       "      <td>0.0</td>\n",
       "      <td>21.0</td>\n",
       "      <td>3.0</td>\n",
       "    </tr>\n",
       "    <tr>\n",
       "      <th>4</th>\n",
       "      <td>100007</td>\n",
       "      <td>0</td>\n",
       "      <td>Cash loans</td>\n",
       "      <td>M</td>\n",
       "      <td>N</td>\n",
       "      <td>Y</td>\n",
       "      <td>0</td>\n",
       "      <td>121500.0</td>\n",
       "      <td>513000.0</td>\n",
       "      <td>21865.5</td>\n",
       "      <td>...</td>\n",
       "      <td>0.0</td>\n",
       "      <td>0.0</td>\n",
       "      <td>0.045455</td>\n",
       "      <td>0.0</td>\n",
       "      <td>0.000000</td>\n",
       "      <td>0.015152</td>\n",
       "      <td>0.0</td>\n",
       "      <td>0.0</td>\n",
       "      <td>66.0</td>\n",
       "      <td>5.0</td>\n",
       "    </tr>\n",
       "  </tbody>\n",
       "</table>\n",
       "<p>5 rows × 164 columns</p>\n",
       "</div>"
      ],
      "text/plain": [
       "   SK_ID_CURR  TARGET NAME_CONTRACT_TYPE CODE_GENDER FLAG_OWN_CAR  \\\n",
       "0      100002       1         Cash loans           M            N   \n",
       "1      100003       0         Cash loans           F            N   \n",
       "2      100004       0    Revolving loans           M            Y   \n",
       "3      100006       0         Cash loans           F            N   \n",
       "4      100007       0         Cash loans           M            N   \n",
       "\n",
       "  FLAG_OWN_REALTY  CNT_CHILDREN  AMT_INCOME_TOTAL  AMT_CREDIT  AMT_ANNUITY  \\\n",
       "0               Y             0          202500.0    406597.5      24700.5   \n",
       "1               N             0          270000.0   1293502.5      35698.5   \n",
       "2               Y             0           67500.0    135000.0       6750.0   \n",
       "3               Y             0          135000.0    312682.5      29686.5   \n",
       "4               Y             0          121500.0    513000.0      21865.5   \n",
       "\n",
       "   ...  NAME_CONTRACT_STATUS_Approved_mean NAME_CONTRACT_STATUS_Canceled_mean  \\\n",
       "0  ...                                 0.0                                0.0   \n",
       "1  ...                                 0.0                                0.0   \n",
       "2  ...                                 0.0                                0.0   \n",
       "3  ...                                 0.0                                0.0   \n",
       "4  ...                                 0.0                                0.0   \n",
       "\n",
       "  NAME_CONTRACT_STATUS_Completed_mean NAME_CONTRACT_STATUS_Demand_mean  \\\n",
       "0                            0.000000                              0.0   \n",
       "1                            0.071429                              0.0   \n",
       "2                            0.250000                              0.0   \n",
       "3                            0.095238                              0.0   \n",
       "4                            0.045455                              0.0   \n",
       "\n",
       "  NAME_CONTRACT_STATUS_Returned to the store_mean  \\\n",
       "0                                        0.000000   \n",
       "1                                        0.000000   \n",
       "2                                        0.000000   \n",
       "3                                        0.047619   \n",
       "4                                        0.000000   \n",
       "\n",
       "  NAME_CONTRACT_STATUS_Signed_mean  NAME_CONTRACT_STATUS_XNA_mean  \\\n",
       "0                         0.000000                            0.0   \n",
       "1                         0.000000                            0.0   \n",
       "2                         0.000000                            0.0   \n",
       "3                         0.000000                            0.0   \n",
       "4                         0.015152                            0.0   \n",
       "\n",
       "   NAME_CONTRACT_STATUS_nan_mean  SK_ID_PREV_count  SK_ID_PREV_nunique  \n",
       "0                            0.0              19.0                 1.0  \n",
       "1                            0.0              28.0                 3.0  \n",
       "2                            0.0               4.0                 1.0  \n",
       "3                            0.0              21.0                 3.0  \n",
       "4                            0.0              66.0                 5.0  \n",
       "\n",
       "[5 rows x 164 columns]"
      ]
     },
     "execution_count": 39,
     "metadata": {},
     "output_type": "execute_result"
    }
   ],
   "source": [
    "df_train = pd.merge(application_train, pos_ohe_agg, on = \"SK_ID_CURR\", how = \"left\")\n",
    "print(df_train.shape)\n",
    "df_train.head()"
   ]
  },
  {
   "cell_type": "code",
   "execution_count": 40,
   "id": "6b0cfbf4",
   "metadata": {
    "execution": {
     "iopub.execute_input": "2022-11-01T02:19:17.126134Z",
     "iopub.status.busy": "2022-11-01T02:19:17.125753Z",
     "iopub.status.idle": "2022-11-01T02:19:17.967926Z",
     "shell.execute_reply": "2022-11-01T02:19:17.966886Z"
    },
    "papermill": {
     "duration": 0.864252,
     "end_time": "2022-11-01T02:19:17.970433",
     "exception": false,
     "start_time": "2022-11-01T02:19:17.106181",
     "status": "completed"
    },
    "tags": []
   },
   "outputs": [],
   "source": [
    "x_train = df_train.drop(columns = [\"TARGET\", \"SK_ID_CURR\"])\n",
    "y_train = df_train[\"TARGET\"]\n",
    "id_train = df_train[[\"SK_ID_CURR\"]]\n",
    "\n",
    "for col in x_train.columns:\n",
    "    if x_train[col].dtype == \"O\":\n",
    "        x_train[col] = x_train[col].astype(\"category\")"
   ]
  },
  {
   "cell_type": "code",
   "execution_count": 41,
   "id": "5d832ae4",
   "metadata": {
    "execution": {
     "iopub.execute_input": "2022-11-01T02:19:18.009540Z",
     "iopub.status.busy": "2022-11-01T02:19:18.008486Z",
     "iopub.status.idle": "2022-11-01T02:23:30.806703Z",
     "shell.execute_reply": "2022-11-01T02:23:30.804865Z"
    },
    "papermill": {
     "duration": 252.821074,
     "end_time": "2022-11-01T02:23:30.809754",
     "exception": false,
     "start_time": "2022-11-01T02:19:17.988680",
     "status": "completed"
    },
    "tags": []
   },
   "outputs": [
    {
     "name": "stdout",
     "output_type": "stream",
     "text": [
      "-------------------- 0 --------------------\n",
      "(246008, 162) (61503, 162)\n",
      "[100]\ttraining's auc: 0.794548\tvalid_1's auc: 0.76534\n",
      "[200]\ttraining's auc: 0.825571\tvalid_1's auc: 0.77062\n",
      "[300]\ttraining's auc: 0.848468\tvalid_1's auc: 0.771422\n",
      "[400]\ttraining's auc: 0.866087\tvalid_1's auc: 0.771575\n",
      "[auc] tr:0.8578, va:0.7719\n",
      "-------------------- 1 --------------------\n",
      "(246009, 162) (61502, 162)\n",
      "[100]\ttraining's auc: 0.794349\tvalid_1's auc: 0.769227\n",
      "[200]\ttraining's auc: 0.824921\tvalid_1's auc: 0.774694\n",
      "[300]\ttraining's auc: 0.847296\tvalid_1's auc: 0.775643\n",
      "[400]\ttraining's auc: 0.864781\tvalid_1's auc: 0.775882\n",
      "[500]\ttraining's auc: 0.880069\tvalid_1's auc: 0.775861\n",
      "[auc] tr:0.8744, va:0.7761\n",
      "-------------------- 2 --------------------\n",
      "(246009, 162) (61502, 162)\n",
      "[100]\ttraining's auc: 0.794977\tvalid_1's auc: 0.768857\n",
      "[200]\ttraining's auc: 0.82562\tvalid_1's auc: 0.773055\n",
      "[300]\ttraining's auc: 0.847297\tvalid_1's auc: 0.773516\n",
      "[400]\ttraining's auc: 0.865995\tvalid_1's auc: 0.774559\n",
      "[500]\ttraining's auc: 0.881411\tvalid_1's auc: 0.773967\n",
      "[auc] tr:0.8662, va:0.7746\n",
      "-------------------- 3 --------------------\n",
      "(246009, 162) (61502, 162)\n",
      "[100]\ttraining's auc: 0.79487\tvalid_1's auc: 0.766658\n",
      "[200]\ttraining's auc: 0.825555\tvalid_1's auc: 0.771612\n",
      "[300]\ttraining's auc: 0.847639\tvalid_1's auc: 0.772074\n",
      "[auc] tr:0.8474, va:0.7721\n",
      "-------------------- 4 --------------------\n",
      "(246009, 162) (61502, 162)\n",
      "[100]\ttraining's auc: 0.795217\tvalid_1's auc: 0.760459\n",
      "[200]\ttraining's auc: 0.825714\tvalid_1's auc: 0.76484\n",
      "[300]\ttraining's auc: 0.847102\tvalid_1's auc: 0.765433\n",
      "[auc] tr:0.8467, va:0.7655\n",
      "-------------------- result --------------------\n",
      "[[0.         0.85779976 0.77186119]\n",
      " [1.         0.87444951 0.77606599]\n",
      " [2.         0.86623291 0.77456898]\n",
      " [3.         0.84744891 0.7721198 ]\n",
      " [4.         0.84670208 0.76551935]]\n",
      "[cv] tr:0.8585+-0.0107, va:0.7720+-0.0036\n",
      "[oof] 0.7720\n"
     ]
    }
   ],
   "source": [
    "train_oof, imp, metrics = train_lgb(x_train,\n",
    "                                    y_train, \n",
    "                                    id_train,\n",
    "                                    params, \n",
    "                                    list_nfold = [0, 1, 2, 3, 4],\n",
    "                                    n_splits = 5,\n",
    "                                   )"
   ]
  },
  {
   "cell_type": "code",
   "execution_count": 42,
   "id": "39ce9924",
   "metadata": {
    "execution": {
     "iopub.execute_input": "2022-11-01T02:23:30.851426Z",
     "iopub.status.busy": "2022-11-01T02:23:30.851071Z",
     "iopub.status.idle": "2022-11-01T02:23:30.862885Z",
     "shell.execute_reply": "2022-11-01T02:23:30.862192Z"
    },
    "papermill": {
     "duration": 0.034929,
     "end_time": "2022-11-01T02:23:30.865099",
     "exception": false,
     "start_time": "2022-11-01T02:23:30.830170",
     "status": "completed"
    },
    "tags": []
   },
   "outputs": [
    {
     "data": {
      "text/html": [
       "<div>\n",
       "<style scoped>\n",
       "    .dataframe tbody tr th:only-of-type {\n",
       "        vertical-align: middle;\n",
       "    }\n",
       "\n",
       "    .dataframe tbody tr th {\n",
       "        vertical-align: top;\n",
       "    }\n",
       "\n",
       "    .dataframe thead th {\n",
       "        text-align: right;\n",
       "    }\n",
       "</style>\n",
       "<table border=\"1\" class=\"dataframe\">\n",
       "  <thead>\n",
       "    <tr style=\"text-align: right;\">\n",
       "      <th></th>\n",
       "      <th>col</th>\n",
       "      <th>imp</th>\n",
       "      <th>imp_std</th>\n",
       "    </tr>\n",
       "  </thead>\n",
       "  <tbody>\n",
       "    <tr>\n",
       "      <th>52</th>\n",
       "      <td>EXT_SOURCE_mean</td>\n",
       "      <td>112438.907936</td>\n",
       "      <td>1217.139287</td>\n",
       "    </tr>\n",
       "    <tr>\n",
       "      <th>134</th>\n",
       "      <td>ORGANIZATION_TYPE</td>\n",
       "      <td>21573.968751</td>\n",
       "      <td>1044.080966</td>\n",
       "    </tr>\n",
       "    <tr>\n",
       "      <th>10</th>\n",
       "      <td>ANNUITY_div_CREDIT</td>\n",
       "      <td>18349.279658</td>\n",
       "      <td>1039.471604</td>\n",
       "    </tr>\n",
       "    <tr>\n",
       "      <th>49</th>\n",
       "      <td>EXT_SOURCE_3</td>\n",
       "      <td>10710.855987</td>\n",
       "      <td>490.719084</td>\n",
       "    </tr>\n",
       "    <tr>\n",
       "      <th>53</th>\n",
       "      <td>EXT_SOURCE_min</td>\n",
       "      <td>7021.835349</td>\n",
       "      <td>444.955386</td>\n",
       "    </tr>\n",
       "    <tr>\n",
       "      <th>32</th>\n",
       "      <td>DAYS_BIRTH</td>\n",
       "      <td>6666.389282</td>\n",
       "      <td>814.801948</td>\n",
       "    </tr>\n",
       "    <tr>\n",
       "      <th>47</th>\n",
       "      <td>EXT_SOURCE_1</td>\n",
       "      <td>6605.474412</td>\n",
       "      <td>601.782028</td>\n",
       "    </tr>\n",
       "    <tr>\n",
       "      <th>21</th>\n",
       "      <td>CNT_INSTALMENT_FUTURE_mean</td>\n",
       "      <td>6289.278576</td>\n",
       "      <td>365.694448</td>\n",
       "    </tr>\n",
       "    <tr>\n",
       "      <th>0</th>\n",
       "      <td>AMT_ANNUITY</td>\n",
       "      <td>5563.190447</td>\n",
       "      <td>368.625974</td>\n",
       "    </tr>\n",
       "    <tr>\n",
       "      <th>108</th>\n",
       "      <td>MONTHS_BALANCE_std</td>\n",
       "      <td>5340.370365</td>\n",
       "      <td>466.201881</td>\n",
       "    </tr>\n",
       "  </tbody>\n",
       "</table>\n",
       "</div>"
      ],
      "text/plain": [
       "                            col            imp      imp_std\n",
       "52              EXT_SOURCE_mean  112438.907936  1217.139287\n",
       "134           ORGANIZATION_TYPE   21573.968751  1044.080966\n",
       "10           ANNUITY_div_CREDIT   18349.279658  1039.471604\n",
       "49                 EXT_SOURCE_3   10710.855987   490.719084\n",
       "53               EXT_SOURCE_min    7021.835349   444.955386\n",
       "32                   DAYS_BIRTH    6666.389282   814.801948\n",
       "47                 EXT_SOURCE_1    6605.474412   601.782028\n",
       "21   CNT_INSTALMENT_FUTURE_mean    6289.278576   365.694448\n",
       "0                   AMT_ANNUITY    5563.190447   368.625974\n",
       "108          MONTHS_BALANCE_std    5340.370365   466.201881"
      ]
     },
     "execution_count": 42,
     "metadata": {},
     "output_type": "execute_result"
    }
   ],
   "source": [
    "imp.sort_values(\"imp\", ascending=False)[:10]"
   ]
  },
  {
   "cell_type": "code",
   "execution_count": 43,
   "id": "842aa597",
   "metadata": {
    "execution": {
     "iopub.execute_input": "2022-11-01T02:23:30.906949Z",
     "iopub.status.busy": "2022-11-01T02:23:30.906254Z",
     "iopub.status.idle": "2022-11-01T02:23:31.443219Z",
     "shell.execute_reply": "2022-11-01T02:23:31.441939Z"
    },
    "papermill": {
     "duration": 0.560585,
     "end_time": "2022-11-01T02:23:31.445774",
     "exception": false,
     "start_time": "2022-11-01T02:23:30.885189",
     "status": "completed"
    },
    "tags": []
   },
   "outputs": [],
   "source": [
    "# 推論用のデータセットの作成\n",
    "# テーブル結合\n",
    "df_test = pd.merge(application_test, pos_ohe_agg, on=\"SK_ID_CURR\", how=\"left\")\n",
    "\n",
    "# データセット作成\n",
    "x_test = df_test.drop(columns=[\"SK_ID_CURR\"])\n",
    "id_test = df_test[[\"SK_ID_CURR\"]]\n",
    "\n",
    "# カテゴリ変数をcategory型へ変換\n",
    "for col in x_test.columns:\n",
    "    if x_test[col].dtype==\"O\":\n",
    "        x_test[col] = x_test[col].astype(\"category\")"
   ]
  },
  {
   "cell_type": "code",
   "execution_count": 44,
   "id": "4ef3c8a4",
   "metadata": {
    "execution": {
     "iopub.execute_input": "2022-11-01T02:23:31.488003Z",
     "iopub.status.busy": "2022-11-01T02:23:31.487447Z",
     "iopub.status.idle": "2022-11-01T02:23:33.893580Z",
     "shell.execute_reply": "2022-11-01T02:23:33.892761Z"
    },
    "papermill": {
     "duration": 2.429733,
     "end_time": "2022-11-01T02:23:33.895498",
     "exception": false,
     "start_time": "2022-11-01T02:23:31.465765",
     "status": "completed"
    },
    "tags": []
   },
   "outputs": [
    {
     "name": "stdout",
     "output_type": "stream",
     "text": [
      "-------------------- 0 --------------------\n",
      "-------------------- 1 --------------------\n",
      "-------------------- 2 --------------------\n",
      "-------------------- 3 --------------------\n",
      "-------------------- 4 --------------------\n",
      "Done.\n"
     ]
    }
   ],
   "source": [
    "test_pred = predict_lgb(x_test,\n",
    "                        id_test,\n",
    "                        list_nfold=[0,1,2,3,4],\n",
    "                       )"
   ]
  },
  {
   "cell_type": "code",
   "execution_count": 45,
   "id": "233b89ec",
   "metadata": {
    "execution": {
     "iopub.execute_input": "2022-11-01T02:23:33.937505Z",
     "iopub.status.busy": "2022-11-01T02:23:33.936644Z",
     "iopub.status.idle": "2022-11-01T02:23:34.029103Z",
     "shell.execute_reply": "2022-11-01T02:23:34.028240Z"
    },
    "papermill": {
     "duration": 0.115646,
     "end_time": "2022-11-01T02:23:34.031337",
     "exception": false,
     "start_time": "2022-11-01T02:23:33.915691",
     "status": "completed"
    },
    "tags": []
   },
   "outputs": [
    {
     "name": "stdout",
     "output_type": "stream",
     "text": [
      "(48744, 2)\n"
     ]
    },
    {
     "data": {
      "text/html": [
       "<div>\n",
       "<style scoped>\n",
       "    .dataframe tbody tr th:only-of-type {\n",
       "        vertical-align: middle;\n",
       "    }\n",
       "\n",
       "    .dataframe tbody tr th {\n",
       "        vertical-align: top;\n",
       "    }\n",
       "\n",
       "    .dataframe thead th {\n",
       "        text-align: right;\n",
       "    }\n",
       "</style>\n",
       "<table border=\"1\" class=\"dataframe\">\n",
       "  <thead>\n",
       "    <tr style=\"text-align: right;\">\n",
       "      <th></th>\n",
       "      <th>SK_ID_CURR</th>\n",
       "      <th>TARGET</th>\n",
       "    </tr>\n",
       "  </thead>\n",
       "  <tbody>\n",
       "    <tr>\n",
       "      <th>0</th>\n",
       "      <td>100001</td>\n",
       "      <td>0.032163</td>\n",
       "    </tr>\n",
       "    <tr>\n",
       "      <th>1</th>\n",
       "      <td>100005</td>\n",
       "      <td>0.104400</td>\n",
       "    </tr>\n",
       "    <tr>\n",
       "      <th>2</th>\n",
       "      <td>100013</td>\n",
       "      <td>0.025425</td>\n",
       "    </tr>\n",
       "    <tr>\n",
       "      <th>3</th>\n",
       "      <td>100028</td>\n",
       "      <td>0.047522</td>\n",
       "    </tr>\n",
       "    <tr>\n",
       "      <th>4</th>\n",
       "      <td>100038</td>\n",
       "      <td>0.210907</td>\n",
       "    </tr>\n",
       "  </tbody>\n",
       "</table>\n",
       "</div>"
      ],
      "text/plain": [
       "   SK_ID_CURR    TARGET\n",
       "0      100001  0.032163\n",
       "1      100005  0.104400\n",
       "2      100013  0.025425\n",
       "3      100028  0.047522\n",
       "4      100038  0.210907"
      ]
     },
     "metadata": {},
     "output_type": "display_data"
    }
   ],
   "source": [
    "df_submit = test_pred.rename(columns={\"pred\":\"TARGET\"})\n",
    "print(df_submit.shape)\n",
    "display(df_submit.head())\n",
    "df_submit.to_csv(\"submission_FeatureEngineering2.csv\", index=None)"
   ]
  },
  {
   "cell_type": "code",
   "execution_count": 46,
   "id": "9be23f0f",
   "metadata": {
    "execution": {
     "iopub.execute_input": "2022-11-01T02:23:34.072573Z",
     "iopub.status.busy": "2022-11-01T02:23:34.072216Z",
     "iopub.status.idle": "2022-11-01T02:23:34.439205Z",
     "shell.execute_reply": "2022-11-01T02:23:34.437709Z"
    },
    "papermill": {
     "duration": 0.390822,
     "end_time": "2022-11-01T02:23:34.442149",
     "exception": false,
     "start_time": "2022-11-01T02:23:34.051327",
     "status": "completed"
    },
    "tags": []
   },
   "outputs": [],
   "source": [
    "import optuna"
   ]
  },
  {
   "cell_type": "code",
   "execution_count": 47,
   "id": "b7389d59",
   "metadata": {
    "execution": {
     "iopub.execute_input": "2022-11-01T02:23:34.484814Z",
     "iopub.status.busy": "2022-11-01T02:23:34.484470Z",
     "iopub.status.idle": "2022-11-01T02:23:35.147325Z",
     "shell.execute_reply": "2022-11-01T02:23:35.145861Z"
    },
    "papermill": {
     "duration": 0.686414,
     "end_time": "2022-11-01T02:23:35.149584",
     "exception": false,
     "start_time": "2022-11-01T02:23:34.463170",
     "status": "completed"
    },
    "tags": []
   },
   "outputs": [],
   "source": [
    "# 学習用のデータセットの作成\n",
    "x_train = df_train.drop(columns=[\"TARGET\", \"SK_ID_CURR\"])\n",
    "y_train = df_train[\"TARGET\"]\n",
    "id_train = df_train[[\"SK_ID_CURR\"]]\n",
    "\n",
    "for col in x_train.columns:\n",
    "    if x_train[col].dtype==\"O\":\n",
    "        x_train[col] = x_train[col].astype(\"category\")"
   ]
  },
  {
   "cell_type": "code",
   "execution_count": 48,
   "id": "17eb40bc",
   "metadata": {
    "execution": {
     "iopub.execute_input": "2022-11-01T02:23:35.192509Z",
     "iopub.status.busy": "2022-11-01T02:23:35.191920Z",
     "iopub.status.idle": "2022-11-01T02:23:35.202215Z",
     "shell.execute_reply": "2022-11-01T02:23:35.201357Z"
    },
    "papermill": {
     "duration": 0.03452,
     "end_time": "2022-11-01T02:23:35.204657",
     "exception": false,
     "start_time": "2022-11-01T02:23:35.170137",
     "status": "completed"
    },
    "tags": []
   },
   "outputs": [],
   "source": [
    "# 目的関数の定義\n",
    "# 探索しないハイパーパラメータ\n",
    "params_base = {\n",
    "    \"boosting_type\": \"gbdt\",\n",
    "    \"objective\": \"binary\",\n",
    "    \"metric\": \"auc\",\n",
    "    \"verbosity\": -1,\n",
    "    \"learning_rate\": 0.05,\n",
    "    \"n_estimators\": 100000,\n",
    "    \"bagging_freq\": 1,\n",
    "    \"random_state\": 123,\n",
    "}\n",
    "\n",
    "# 目的関数の定義\n",
    "def objective(trial):\n",
    "    # 探索するハイパーパラメータ\n",
    "    params_tuning = {\n",
    "        \"num_leaves\": trial.suggest_int(\"num_leaves\", 8, 256),\n",
    "        \"min_child_samples\": trial.suggest_int(\"min_child_samples\", 5, 200),\n",
    "        \"min_sum_hessian_in_leaf\": trial.suggest_float(\"min_sum_hessian_in_leaf\", 1e-5, 1e-2, log=True),\n",
    "        \"feature_fraction\": trial.suggest_float(\"feature_fraction\", 0.5, 1.0),\n",
    "        \"bagging_fraction\": trial.suggest_float(\"bagging_fraction\", 0.5, 1.0),\n",
    "        \"lambda_l1\": trial.suggest_float(\"lambda_l1\", 1e-2, 1e+2, log=True),\n",
    "        \"lambda_l2\": trial.suggest_float(\"lambda_l2\", 1e-2, 1e+2, log=True),\n",
    "    }\n",
    "    params_tuning.update(params_base)\n",
    "    \n",
    "    # モデル学習・評価\n",
    "    list_metrics = []\n",
    "    cv = list(StratifiedKFold(n_splits=5, shuffle=True, random_state=123).split(x_train, y_train))\n",
    "    list_fold = [0]  # 処理高速化のために1つめのfoldのみとする。\n",
    "    for nfold in list_fold:\n",
    "        idx_tr, idx_va = cv[nfold][0], cv[nfold][1]\n",
    "        x_tr, y_tr = x_train.loc[idx_tr, :], y_train[idx_tr]\n",
    "        x_va, y_va = x_train.loc[idx_va, :], y_train[idx_va]\n",
    "        model = lgb.LGBMClassifier(**params_tuning)\n",
    "        model.fit(x_tr,\n",
    "                  y_tr,\n",
    "                  eval_set=[(x_tr,y_tr), (x_va,y_va)],\n",
    "                  early_stopping_rounds=100,\n",
    "                  verbose=0,\n",
    "                 )\n",
    "        y_va_pred = model.predict_proba(x_va)[:,1]\n",
    "        metric_va = roc_auc_score(y_va, y_va_pred) # 評価指標をAUCにする\n",
    "        list_metrics.append(metric_va)\n",
    "    \n",
    "    # 評価指標の算出\n",
    "    metrics = np.mean(list_metrics)\n",
    "    \n",
    "    return metrics"
   ]
  },
  {
   "cell_type": "code",
   "execution_count": 49,
   "id": "78ef99a0",
   "metadata": {
    "execution": {
     "iopub.execute_input": "2022-11-01T02:23:35.248277Z",
     "iopub.status.busy": "2022-11-01T02:23:35.247886Z",
     "iopub.status.idle": "2022-11-01T03:13:00.365600Z",
     "shell.execute_reply": "2022-11-01T03:13:00.364645Z"
    },
    "papermill": {
     "duration": 2965.169384,
     "end_time": "2022-11-01T03:13:00.395308",
     "exception": false,
     "start_time": "2022-11-01T02:23:35.225924",
     "status": "completed"
    },
    "tags": []
   },
   "outputs": [
    {
     "name": "stderr",
     "output_type": "stream",
     "text": [
      "\u001b[32m[I 2022-11-01 02:23:35,250]\u001b[0m A new study created in memory with name: no-name-9b56e447-9bf9-4803-8edc-d3e7de6cf687\u001b[0m\n"
     ]
    },
    {
     "name": "stdout",
     "output_type": "stream",
     "text": [
      "[LightGBM] [Warning] feature_fraction is set=0.7173862404580059, colsample_bytree=1.0 will be ignored. Current value: feature_fraction=0.7173862404580059\n",
      "[LightGBM] [Warning] lambda_l1 is set=0.03523667998385843, reg_alpha=0.0 will be ignored. Current value: lambda_l1=0.03523667998385843\n",
      "[LightGBM] [Warning] bagging_fraction is set=0.9742570330953388, subsample=1.0 will be ignored. Current value: bagging_fraction=0.9742570330953388\n",
      "[LightGBM] [Warning] min_sum_hessian_in_leaf is set=7.53918706663546e-05, min_child_weight=0.001 will be ignored. Current value: min_sum_hessian_in_leaf=7.53918706663546e-05\n",
      "[LightGBM] [Warning] bagging_freq is set=1, subsample_freq=0 will be ignored. Current value: bagging_freq=1\n",
      "[LightGBM] [Warning] lambda_l2 is set=5.551308877230651, reg_lambda=0.0 will be ignored. Current value: lambda_l2=5.551308877230651\n",
      "[LightGBM] [Warning] feature_fraction is set=0.9623064898719655, colsample_bytree=1.0 will be ignored. Current value: feature_fraction=0.9623064898719655\n",
      "[LightGBM] [Warning] lambda_l1 is set=73.29970063323677, reg_alpha=0.0 will be ignored. Current value: lambda_l1=73.29970063323677\n",
      "[LightGBM] [Warning] bagging_fraction is set=0.8068907818287293, subsample=1.0 will be ignored. Current value: bagging_fraction=0.8068907818287293\n",
      "[LightGBM] [Warning] min_sum_hessian_in_leaf is set=1.0146346600714198e-05, min_child_weight=0.001 will be ignored. Current value: min_sum_hessian_in_leaf=1.0146346600714198e-05\n",
      "[LightGBM] [Warning] bagging_freq is set=1, subsample_freq=0 will be ignored. Current value: bagging_freq=1\n",
      "[LightGBM] [Warning] lambda_l2 is set=1.5909144973999934, reg_lambda=0.0 will be ignored. Current value: lambda_l2=1.5909144973999934\n",
      "[LightGBM] [Warning] feature_fraction is set=0.782135915688872, colsample_bytree=1.0 will be ignored. Current value: feature_fraction=0.782135915688872\n",
      "[LightGBM] [Warning] lambda_l1 is set=1.261398044551576, reg_alpha=0.0 will be ignored. Current value: lambda_l1=1.261398044551576\n",
      "[LightGBM] [Warning] bagging_fraction is set=0.6955640487618923, subsample=1.0 will be ignored. Current value: bagging_fraction=0.6955640487618923\n",
      "[LightGBM] [Warning] min_sum_hessian_in_leaf is set=0.0001041577484564094, min_child_weight=0.001 will be ignored. Current value: min_sum_hessian_in_leaf=0.0001041577484564094\n",
      "[LightGBM] [Warning] bagging_freq is set=1, subsample_freq=0 will be ignored. Current value: bagging_freq=1\n",
      "[LightGBM] [Warning] lambda_l2 is set=0.11516306724740524, reg_lambda=0.0 will be ignored. Current value: lambda_l2=0.11516306724740524\n",
      "[LightGBM] [Warning] feature_fraction is set=0.6022357972638153, colsample_bytree=1.0 will be ignored. Current value: feature_fraction=0.6022357972638153\n",
      "[LightGBM] [Warning] lambda_l1 is set=0.436571347462061, reg_alpha=0.0 will be ignored. Current value: lambda_l1=0.436571347462061\n",
      "[LightGBM] [Warning] bagging_fraction is set=0.5441165649416986, subsample=1.0 will be ignored. Current value: bagging_fraction=0.5441165649416986\n",
      "[LightGBM] [Warning] min_sum_hessian_in_leaf is set=0.003721616950344956, min_child_weight=0.001 will be ignored. Current value: min_sum_hessian_in_leaf=0.003721616950344956\n",
      "[LightGBM] [Warning] bagging_freq is set=1, subsample_freq=0 will be ignored. Current value: bagging_freq=1\n",
      "[LightGBM] [Warning] lambda_l2 is set=0.016737983263480426, reg_lambda=0.0 will be ignored. Current value: lambda_l2=0.016737983263480426\n",
      "[LightGBM] [Warning] feature_fraction is set=0.5163872942874758, colsample_bytree=1.0 will be ignored. Current value: feature_fraction=0.5163872942874758\n",
      "[LightGBM] [Warning] lambda_l1 is set=5.965343508859252, reg_alpha=0.0 will be ignored. Current value: lambda_l1=5.965343508859252\n",
      "[LightGBM] [Warning] bagging_fraction is set=0.95593532135131, subsample=1.0 will be ignored. Current value: bagging_fraction=0.95593532135131\n",
      "[LightGBM] [Warning] min_sum_hessian_in_leaf is set=1.1101357225698176e-05, min_child_weight=0.001 will be ignored. Current value: min_sum_hessian_in_leaf=1.1101357225698176e-05\n",
      "[LightGBM] [Warning] bagging_freq is set=1, subsample_freq=0 will be ignored. Current value: bagging_freq=1\n",
      "[LightGBM] [Warning] lambda_l2 is set=0.20706220120553695, reg_lambda=0.0 will be ignored. Current value: lambda_l2=0.20706220120553695\n"
     ]
    },
    {
     "name": "stderr",
     "output_type": "stream",
     "text": [
      "\u001b[32m[I 2022-11-01 02:25:47,161]\u001b[0m Trial 3 finished with value: 0.7653039207524232 and parameters: {'num_leaves': 118, 'min_child_samples': 18, 'min_sum_hessian_in_leaf': 0.003721616950344956, 'feature_fraction': 0.6022357972638153, 'bagging_fraction': 0.5441165649416986, 'lambda_l1': 0.436571347462061, 'lambda_l2': 0.016737983263480426}. Best is trial 3 with value: 0.7653039207524232.\u001b[0m\n"
     ]
    },
    {
     "name": "stdout",
     "output_type": "stream",
     "text": [
      "[LightGBM] [Warning] feature_fraction is set=0.6551170723439054, colsample_bytree=1.0 will be ignored. Current value: feature_fraction=0.6551170723439054\n",
      "[LightGBM] [Warning] lambda_l1 is set=13.392532564142021, reg_alpha=0.0 will be ignored. Current value: lambda_l1=13.392532564142021\n",
      "[LightGBM] [Warning] bagging_fraction is set=0.8182758485571343, subsample=1.0 will be ignored. Current value: bagging_fraction=0.8182758485571343\n",
      "[LightGBM] [Warning] min_sum_hessian_in_leaf is set=1.3764937137933532e-05, min_child_weight=0.001 will be ignored. Current value: min_sum_hessian_in_leaf=1.3764937137933532e-05\n",
      "[LightGBM] [Warning] bagging_freq is set=1, subsample_freq=0 will be ignored. Current value: bagging_freq=1\n",
      "[LightGBM] [Warning] lambda_l2 is set=0.28636817994508307, reg_lambda=0.0 will be ignored. Current value: lambda_l2=0.28636817994508307\n"
     ]
    },
    {
     "name": "stderr",
     "output_type": "stream",
     "text": [
      "\u001b[32m[I 2022-11-01 02:26:44,981]\u001b[0m Trial 2 finished with value: 0.7690069191047866 and parameters: {'num_leaves': 140, 'min_child_samples': 126, 'min_sum_hessian_in_leaf': 0.0001041577484564094, 'feature_fraction': 0.782135915688872, 'bagging_fraction': 0.6955640487618923, 'lambda_l1': 1.261398044551576, 'lambda_l2': 0.11516306724740524}. Best is trial 2 with value: 0.7690069191047866.\u001b[0m\n"
     ]
    },
    {
     "name": "stdout",
     "output_type": "stream",
     "text": [
      "[LightGBM] [Warning] feature_fraction is set=0.9692690651608784, colsample_bytree=1.0 will be ignored. Current value: feature_fraction=0.9692690651608784\n",
      "[LightGBM] [Warning] lambda_l1 is set=21.015870621167018, reg_alpha=0.0 will be ignored. Current value: lambda_l1=21.015870621167018\n",
      "[LightGBM] [Warning] bagging_fraction is set=0.8116578984464313, subsample=1.0 will be ignored. Current value: bagging_fraction=0.8116578984464313\n",
      "[LightGBM] [Warning] min_sum_hessian_in_leaf is set=5.013597139267152e-05, min_child_weight=0.001 will be ignored. Current value: min_sum_hessian_in_leaf=5.013597139267152e-05\n",
      "[LightGBM] [Warning] bagging_freq is set=1, subsample_freq=0 will be ignored. Current value: bagging_freq=1\n",
      "[LightGBM] [Warning] lambda_l2 is set=0.029733512668800675, reg_lambda=0.0 will be ignored. Current value: lambda_l2=0.029733512668800675\n"
     ]
    },
    {
     "name": "stderr",
     "output_type": "stream",
     "text": [
      "\u001b[32m[I 2022-11-01 02:27:37,713]\u001b[0m Trial 4 finished with value: 0.7744257344657857 and parameters: {'num_leaves': 46, 'min_child_samples': 62, 'min_sum_hessian_in_leaf': 1.1101357225698176e-05, 'feature_fraction': 0.5163872942874758, 'bagging_fraction': 0.95593532135131, 'lambda_l1': 5.965343508859252, 'lambda_l2': 0.20706220120553695}. Best is trial 4 with value: 0.7744257344657857.\u001b[0m\n"
     ]
    },
    {
     "name": "stdout",
     "output_type": "stream",
     "text": [
      "[LightGBM] [Warning] feature_fraction is set=0.7033024709360329, colsample_bytree=1.0 will be ignored. Current value: feature_fraction=0.7033024709360329\n",
      "[LightGBM] [Warning] lambda_l1 is set=3.0364569725133013, reg_alpha=0.0 will be ignored. Current value: lambda_l1=3.0364569725133013\n",
      "[LightGBM] [Warning] bagging_fraction is set=0.9161166025210515, subsample=1.0 will be ignored. Current value: bagging_fraction=0.9161166025210515\n",
      "[LightGBM] [Warning] min_sum_hessian_in_leaf is set=0.0032844269466265367, min_child_weight=0.001 will be ignored. Current value: min_sum_hessian_in_leaf=0.0032844269466265367\n",
      "[LightGBM] [Warning] bagging_freq is set=1, subsample_freq=0 will be ignored. Current value: bagging_freq=1\n",
      "[LightGBM] [Warning] lambda_l2 is set=0.04558324776312107, reg_lambda=0.0 will be ignored. Current value: lambda_l2=0.04558324776312107\n"
     ]
    },
    {
     "name": "stderr",
     "output_type": "stream",
     "text": [
      "\u001b[32m[I 2022-11-01 02:28:06,388]\u001b[0m Trial 1 finished with value: 0.7716445804418828 and parameters: {'num_leaves': 192, 'min_child_samples': 145, 'min_sum_hessian_in_leaf': 7.53918706663546e-05, 'feature_fraction': 0.7173862404580059, 'bagging_fraction': 0.9742570330953388, 'lambda_l1': 0.03523667998385843, 'lambda_l2': 5.551308877230651}. Best is trial 4 with value: 0.7744257344657857.\u001b[0m\n"
     ]
    },
    {
     "name": "stdout",
     "output_type": "stream",
     "text": [
      "[LightGBM] [Warning] feature_fraction is set=0.6387513990502529, colsample_bytree=1.0 will be ignored. Current value: feature_fraction=0.6387513990502529\n",
      "[LightGBM] [Warning] lambda_l1 is set=3.556671334685309, reg_alpha=0.0 will be ignored. Current value: lambda_l1=3.556671334685309\n",
      "[LightGBM] [Warning] bagging_fraction is set=0.5744521236619495, subsample=1.0 will be ignored. Current value: bagging_fraction=0.5744521236619495\n",
      "[LightGBM] [Warning] min_sum_hessian_in_leaf is set=3.609926703599386e-05, min_child_weight=0.001 will be ignored. Current value: min_sum_hessian_in_leaf=3.609926703599386e-05\n",
      "[LightGBM] [Warning] bagging_freq is set=1, subsample_freq=0 will be ignored. Current value: bagging_freq=1\n",
      "[LightGBM] [Warning] lambda_l2 is set=0.07031787355279097, reg_lambda=0.0 will be ignored. Current value: lambda_l2=0.07031787355279097\n"
     ]
    },
    {
     "name": "stderr",
     "output_type": "stream",
     "text": [
      "\u001b[32m[I 2022-11-01 02:29:00,956]\u001b[0m Trial 0 finished with value: 0.7699728906405827 and parameters: {'num_leaves': 102, 'min_child_samples': 32, 'min_sum_hessian_in_leaf': 1.0146346600714198e-05, 'feature_fraction': 0.9623064898719655, 'bagging_fraction': 0.8068907818287293, 'lambda_l1': 73.29970063323677, 'lambda_l2': 1.5909144973999934}. Best is trial 4 with value: 0.7744257344657857.\u001b[0m\n"
     ]
    },
    {
     "name": "stdout",
     "output_type": "stream",
     "text": [
      "[LightGBM] [Warning] feature_fraction is set=0.9261072011783531, colsample_bytree=1.0 will be ignored. Current value: feature_fraction=0.9261072011783531\n",
      "[LightGBM] [Warning] lambda_l1 is set=39.12105324937943, reg_alpha=0.0 will be ignored. Current value: lambda_l1=39.12105324937943\n",
      "[LightGBM] [Warning] bagging_fraction is set=0.6096925147026322, subsample=1.0 will be ignored. Current value: bagging_fraction=0.6096925147026322\n",
      "[LightGBM] [Warning] min_sum_hessian_in_leaf is set=7.284419045611347e-05, min_child_weight=0.001 will be ignored. Current value: min_sum_hessian_in_leaf=7.284419045611347e-05\n",
      "[LightGBM] [Warning] bagging_freq is set=1, subsample_freq=0 will be ignored. Current value: bagging_freq=1\n",
      "[LightGBM] [Warning] lambda_l2 is set=14.326578942189075, reg_lambda=0.0 will be ignored. Current value: lambda_l2=14.326578942189075\n"
     ]
    },
    {
     "name": "stderr",
     "output_type": "stream",
     "text": [
      "\u001b[32m[I 2022-11-01 02:29:48,066]\u001b[0m Trial 5 finished with value: 0.7733974355206457 and parameters: {'num_leaves': 41, 'min_child_samples': 144, 'min_sum_hessian_in_leaf': 1.3764937137933532e-05, 'feature_fraction': 0.6551170723439054, 'bagging_fraction': 0.8182758485571343, 'lambda_l1': 13.392532564142021, 'lambda_l2': 0.28636817994508307}. Best is trial 4 with value: 0.7744257344657857.\u001b[0m\n"
     ]
    },
    {
     "name": "stdout",
     "output_type": "stream",
     "text": [
      "[LightGBM] [Warning] feature_fraction is set=0.9088850364751726, colsample_bytree=1.0 will be ignored. Current value: feature_fraction=0.9088850364751726\n",
      "[LightGBM] [Warning] lambda_l1 is set=27.13442164447572, reg_alpha=0.0 will be ignored. Current value: lambda_l1=27.13442164447572\n",
      "[LightGBM] [Warning] bagging_fraction is set=0.84464610571984, subsample=1.0 will be ignored. Current value: bagging_fraction=0.84464610571984\n",
      "[LightGBM] [Warning] min_sum_hessian_in_leaf is set=0.0015496748097451488, min_child_weight=0.001 will be ignored. Current value: min_sum_hessian_in_leaf=0.0015496748097451488\n",
      "[LightGBM] [Warning] bagging_freq is set=1, subsample_freq=0 will be ignored. Current value: bagging_freq=1\n",
      "[LightGBM] [Warning] lambda_l2 is set=0.12115385706878644, reg_lambda=0.0 will be ignored. Current value: lambda_l2=0.12115385706878644\n"
     ]
    },
    {
     "name": "stderr",
     "output_type": "stream",
     "text": [
      "\u001b[32m[I 2022-11-01 02:31:22,610]\u001b[0m Trial 8 finished with value: 0.7643234289536822 and parameters: {'num_leaves': 252, 'min_child_samples': 48, 'min_sum_hessian_in_leaf': 3.609926703599386e-05, 'feature_fraction': 0.6387513990502529, 'bagging_fraction': 0.5744521236619495, 'lambda_l1': 3.556671334685309, 'lambda_l2': 0.07031787355279097}. Best is trial 4 with value: 0.7744257344657857.\u001b[0m\n"
     ]
    },
    {
     "name": "stdout",
     "output_type": "stream",
     "text": [
      "[LightGBM] [Warning] feature_fraction is set=0.8354257942897757, colsample_bytree=1.0 will be ignored. Current value: feature_fraction=0.8354257942897757\n",
      "[LightGBM] [Warning] lambda_l1 is set=0.3131993899765362, reg_alpha=0.0 will be ignored. Current value: lambda_l1=0.3131993899765362\n",
      "[LightGBM] [Warning] bagging_fraction is set=0.9791269047963713, subsample=1.0 will be ignored. Current value: bagging_fraction=0.9791269047963713\n",
      "[LightGBM] [Warning] min_sum_hessian_in_leaf is set=0.0002517679925368491, min_child_weight=0.001 will be ignored. Current value: min_sum_hessian_in_leaf=0.0002517679925368491\n",
      "[LightGBM] [Warning] bagging_freq is set=1, subsample_freq=0 will be ignored. Current value: bagging_freq=1\n",
      "[LightGBM] [Warning] lambda_l2 is set=0.02044587747250195, reg_lambda=0.0 will be ignored. Current value: lambda_l2=0.02044587747250195\n"
     ]
    },
    {
     "name": "stderr",
     "output_type": "stream",
     "text": [
      "\u001b[32m[I 2022-11-01 02:31:56,915]\u001b[0m Trial 6 finished with value: 0.7733252901906256 and parameters: {'num_leaves': 27, 'min_child_samples': 45, 'min_sum_hessian_in_leaf': 5.013597139267152e-05, 'feature_fraction': 0.9692690651608784, 'bagging_fraction': 0.8116578984464313, 'lambda_l1': 21.015870621167018, 'lambda_l2': 0.029733512668800675}. Best is trial 4 with value: 0.7744257344657857.\u001b[0m\n"
     ]
    },
    {
     "name": "stdout",
     "output_type": "stream",
     "text": [
      "[LightGBM] [Warning] feature_fraction is set=0.5816124555014457, colsample_bytree=1.0 will be ignored. Current value: feature_fraction=0.5816124555014457\n",
      "[LightGBM] [Warning] lambda_l1 is set=0.12216205029262311, reg_alpha=0.0 will be ignored. Current value: lambda_l1=0.12216205029262311\n",
      "[LightGBM] [Warning] bagging_fraction is set=0.9895401026995844, subsample=1.0 will be ignored. Current value: bagging_fraction=0.9895401026995844\n",
      "[LightGBM] [Warning] min_sum_hessian_in_leaf is set=1.9304712871383336e-05, min_child_weight=0.001 will be ignored. Current value: min_sum_hessian_in_leaf=1.9304712871383336e-05\n",
      "[LightGBM] [Warning] bagging_freq is set=1, subsample_freq=0 will be ignored. Current value: bagging_freq=1\n",
      "[LightGBM] [Warning] lambda_l2 is set=0.6818182283104645, reg_lambda=0.0 will be ignored. Current value: lambda_l2=0.6818182283104645\n"
     ]
    },
    {
     "name": "stderr",
     "output_type": "stream",
     "text": [
      "\u001b[32m[I 2022-11-01 02:32:27,777]\u001b[0m Trial 7 finished with value: 0.7709093977272083 and parameters: {'num_leaves': 199, 'min_child_samples': 162, 'min_sum_hessian_in_leaf': 0.0032844269466265367, 'feature_fraction': 0.7033024709360329, 'bagging_fraction': 0.9161166025210515, 'lambda_l1': 3.0364569725133013, 'lambda_l2': 0.04558324776312107}. Best is trial 4 with value: 0.7744257344657857.\u001b[0m\n"
     ]
    },
    {
     "name": "stdout",
     "output_type": "stream",
     "text": [
      "[LightGBM] [Warning] feature_fraction is set=0.9088781166290808, colsample_bytree=1.0 will be ignored. Current value: feature_fraction=0.9088781166290808\n",
      "[LightGBM] [Warning] lambda_l1 is set=7.257252275410165, reg_alpha=0.0 will be ignored. Current value: lambda_l1=7.257252275410165\n",
      "[LightGBM] [Warning] bagging_fraction is set=0.5442891489455854, subsample=1.0 will be ignored. Current value: bagging_fraction=0.5442891489455854\n",
      "[LightGBM] [Warning] min_sum_hessian_in_leaf is set=3.5582912810946214e-05, min_child_weight=0.001 will be ignored. Current value: min_sum_hessian_in_leaf=3.5582912810946214e-05\n",
      "[LightGBM] [Warning] bagging_freq is set=1, subsample_freq=0 will be ignored. Current value: bagging_freq=1\n",
      "[LightGBM] [Warning] lambda_l2 is set=0.4841181450169909, reg_lambda=0.0 will be ignored. Current value: lambda_l2=0.4841181450169909\n"
     ]
    },
    {
     "name": "stderr",
     "output_type": "stream",
     "text": [
      "\u001b[32m[I 2022-11-01 02:33:32,576]\u001b[0m Trial 9 finished with value: 0.7688488099707611 and parameters: {'num_leaves': 152, 'min_child_samples': 124, 'min_sum_hessian_in_leaf': 7.284419045611347e-05, 'feature_fraction': 0.9261072011783531, 'bagging_fraction': 0.6096925147026322, 'lambda_l1': 39.12105324937943, 'lambda_l2': 14.326578942189075}. Best is trial 4 with value: 0.7744257344657857.\u001b[0m\n"
     ]
    },
    {
     "name": "stdout",
     "output_type": "stream",
     "text": [
      "[LightGBM] [Warning] feature_fraction is set=0.5079332318605906, colsample_bytree=1.0 will be ignored. Current value: feature_fraction=0.5079332318605906\n",
      "[LightGBM] [Warning] lambda_l1 is set=0.0901997052467977, reg_alpha=0.0 will be ignored. Current value: lambda_l1=0.0901997052467977\n",
      "[LightGBM] [Warning] bagging_fraction is set=0.9960853291945045, subsample=1.0 will be ignored. Current value: bagging_fraction=0.9960853291945045\n",
      "[LightGBM] [Warning] min_sum_hessian_in_leaf is set=0.0005488996163725538, min_child_weight=0.001 will be ignored. Current value: min_sum_hessian_in_leaf=0.0005488996163725538\n",
      "[LightGBM] [Warning] bagging_freq is set=1, subsample_freq=0 will be ignored. Current value: bagging_freq=1\n",
      "[LightGBM] [Warning] lambda_l2 is set=81.71523044647883, reg_lambda=0.0 will be ignored. Current value: lambda_l2=81.71523044647883\n"
     ]
    },
    {
     "name": "stderr",
     "output_type": "stream",
     "text": [
      "\u001b[32m[I 2022-11-01 02:35:57,049]\u001b[0m Trial 10 finished with value: 0.7717665812870932 and parameters: {'num_leaves': 51, 'min_child_samples': 130, 'min_sum_hessian_in_leaf': 0.0015496748097451488, 'feature_fraction': 0.9088850364751726, 'bagging_fraction': 0.84464610571984, 'lambda_l1': 27.13442164447572, 'lambda_l2': 0.12115385706878644}. Best is trial 4 with value: 0.7744257344657857.\u001b[0m\n"
     ]
    },
    {
     "name": "stdout",
     "output_type": "stream",
     "text": [
      "[LightGBM] [Warning] feature_fraction is set=0.5039996299599608, colsample_bytree=1.0 will be ignored. Current value: feature_fraction=0.5039996299599608\n",
      "[LightGBM] [Warning] lambda_l1 is set=7.583237282950942, reg_alpha=0.0 will be ignored. Current value: lambda_l1=7.583237282950942\n",
      "[LightGBM] [Warning] bagging_fraction is set=0.9655995317776533, subsample=1.0 will be ignored. Current value: bagging_fraction=0.9655995317776533\n",
      "[LightGBM] [Warning] min_sum_hessian_in_leaf is set=1.0717619069100371e-05, min_child_weight=0.001 will be ignored. Current value: min_sum_hessian_in_leaf=1.0717619069100371e-05\n",
      "[LightGBM] [Warning] bagging_freq is set=1, subsample_freq=0 will be ignored. Current value: bagging_freq=1\n",
      "[LightGBM] [Warning] lambda_l2 is set=0.41706008511122317, reg_lambda=0.0 will be ignored. Current value: lambda_l2=0.41706008511122317\n"
     ]
    },
    {
     "name": "stderr",
     "output_type": "stream",
     "text": [
      "\u001b[32m[I 2022-11-01 02:36:34,010]\u001b[0m Trial 13 finished with value: 0.7667412807263779 and parameters: {'num_leaves': 188, 'min_child_samples': 95, 'min_sum_hessian_in_leaf': 3.5582912810946214e-05, 'feature_fraction': 0.9088781166290808, 'bagging_fraction': 0.5442891489455854, 'lambda_l1': 7.257252275410165, 'lambda_l2': 0.4841181450169909}. Best is trial 4 with value: 0.7744257344657857.\u001b[0m\n"
     ]
    },
    {
     "name": "stdout",
     "output_type": "stream",
     "text": [
      "[LightGBM] [Warning] feature_fraction is set=0.5200055252134665, colsample_bytree=1.0 will be ignored. Current value: feature_fraction=0.5200055252134665\n",
      "[LightGBM] [Warning] lambda_l1 is set=0.268712781840344, reg_alpha=0.0 will be ignored. Current value: lambda_l1=0.268712781840344\n",
      "[LightGBM] [Warning] bagging_fraction is set=0.9101278618704485, subsample=1.0 will be ignored. Current value: bagging_fraction=0.9101278618704485\n",
      "[LightGBM] [Warning] min_sum_hessian_in_leaf is set=1.0981299989475014e-05, min_child_weight=0.001 will be ignored. Current value: min_sum_hessian_in_leaf=1.0981299989475014e-05\n",
      "[LightGBM] [Warning] bagging_freq is set=1, subsample_freq=0 will be ignored. Current value: bagging_freq=1\n",
      "[LightGBM] [Warning] lambda_l2 is set=88.87703187854248, reg_lambda=0.0 will be ignored. Current value: lambda_l2=88.87703187854248\n"
     ]
    },
    {
     "name": "stderr",
     "output_type": "stream",
     "text": [
      "\u001b[32m[I 2022-11-01 02:36:43,902]\u001b[0m Trial 12 finished with value: 0.7701697264130958 and parameters: {'num_leaves': 170, 'min_child_samples': 59, 'min_sum_hessian_in_leaf': 1.9304712871383336e-05, 'feature_fraction': 0.5816124555014457, 'bagging_fraction': 0.9895401026995844, 'lambda_l1': 0.12216205029262311, 'lambda_l2': 0.6818182283104645}. Best is trial 4 with value: 0.7744257344657857.\u001b[0m\n"
     ]
    },
    {
     "name": "stdout",
     "output_type": "stream",
     "text": [
      "[LightGBM] [Warning] feature_fraction is set=0.501764553242751, colsample_bytree=1.0 will be ignored. Current value: feature_fraction=0.501764553242751\n",
      "[LightGBM] [Warning] lambda_l1 is set=9.56838338894332, reg_alpha=0.0 will be ignored. Current value: lambda_l1=9.56838338894332\n",
      "[LightGBM] [Warning] bagging_fraction is set=0.8992133668426198, subsample=1.0 will be ignored. Current value: bagging_fraction=0.8992133668426198\n",
      "[LightGBM] [Warning] min_sum_hessian_in_leaf is set=0.0003904709399950931, min_child_weight=0.001 will be ignored. Current value: min_sum_hessian_in_leaf=0.0003904709399950931\n",
      "[LightGBM] [Warning] bagging_freq is set=1, subsample_freq=0 will be ignored. Current value: bagging_freq=1\n",
      "[LightGBM] [Warning] lambda_l2 is set=0.31315937024068213, reg_lambda=0.0 will be ignored. Current value: lambda_l2=0.31315937024068213\n"
     ]
    },
    {
     "name": "stderr",
     "output_type": "stream",
     "text": [
      "\u001b[32m[I 2022-11-01 02:38:00,426]\u001b[0m Trial 11 finished with value: 0.7725530979048677 and parameters: {'num_leaves': 17, 'min_child_samples': 65, 'min_sum_hessian_in_leaf': 0.0002517679925368491, 'feature_fraction': 0.8354257942897757, 'bagging_fraction': 0.9791269047963713, 'lambda_l1': 0.3131993899765362, 'lambda_l2': 0.02044587747250195}. Best is trial 4 with value: 0.7744257344657857.\u001b[0m\n"
     ]
    },
    {
     "name": "stdout",
     "output_type": "stream",
     "text": [
      "[LightGBM] [Warning] feature_fraction is set=0.5214767626718245, colsample_bytree=1.0 will be ignored. Current value: feature_fraction=0.5214767626718245\n",
      "[LightGBM] [Warning] lambda_l1 is set=8.965019771409157, reg_alpha=0.0 will be ignored. Current value: lambda_l1=8.965019771409157\n",
      "[LightGBM] [Warning] bagging_fraction is set=0.717904898898126, subsample=1.0 will be ignored. Current value: bagging_fraction=0.717904898898126\n",
      "[LightGBM] [Warning] min_sum_hessian_in_leaf is set=1.1013538503754288e-05, min_child_weight=0.001 will be ignored. Current value: min_sum_hessian_in_leaf=1.1013538503754288e-05\n",
      "[LightGBM] [Warning] bagging_freq is set=1, subsample_freq=0 will be ignored. Current value: bagging_freq=1\n",
      "[LightGBM] [Warning] lambda_l2 is set=75.34408246575613, reg_lambda=0.0 will be ignored. Current value: lambda_l2=75.34408246575613\n"
     ]
    },
    {
     "name": "stderr",
     "output_type": "stream",
     "text": [
      "\u001b[32m[I 2022-11-01 02:38:47,078]\u001b[0m Trial 14 finished with value: 0.7729564733743939 and parameters: {'num_leaves': 76, 'min_child_samples': 79, 'min_sum_hessian_in_leaf': 0.0005488996163725538, 'feature_fraction': 0.5079332318605906, 'bagging_fraction': 0.9960853291945045, 'lambda_l1': 0.0901997052467977, 'lambda_l2': 81.71523044647883}. Best is trial 4 with value: 0.7744257344657857.\u001b[0m\n"
     ]
    },
    {
     "name": "stdout",
     "output_type": "stream",
     "text": [
      "[LightGBM] [Warning] feature_fraction is set=0.5179261224519915, colsample_bytree=1.0 will be ignored. Current value: feature_fraction=0.5179261224519915\n",
      "[LightGBM] [Warning] lambda_l1 is set=9.145060132607137, reg_alpha=0.0 will be ignored. Current value: lambda_l1=9.145060132607137\n",
      "[LightGBM] [Warning] bagging_fraction is set=0.7139064024477928, subsample=1.0 will be ignored. Current value: bagging_fraction=0.7139064024477928\n",
      "[LightGBM] [Warning] min_sum_hessian_in_leaf is set=1.0566025205328285e-05, min_child_weight=0.001 will be ignored. Current value: min_sum_hessian_in_leaf=1.0566025205328285e-05\n",
      "[LightGBM] [Warning] bagging_freq is set=1, subsample_freq=0 will be ignored. Current value: bagging_freq=1\n",
      "[LightGBM] [Warning] lambda_l2 is set=0.3108094007221659, reg_lambda=0.0 will be ignored. Current value: lambda_l2=0.3108094007221659\n"
     ]
    },
    {
     "name": "stderr",
     "output_type": "stream",
     "text": [
      "\u001b[32m[I 2022-11-01 02:42:02,627]\u001b[0m Trial 15 finished with value: 0.7742720996816764 and parameters: {'num_leaves': 69, 'min_child_samples': 194, 'min_sum_hessian_in_leaf': 1.0717619069100371e-05, 'feature_fraction': 0.5039996299599608, 'bagging_fraction': 0.9655995317776533, 'lambda_l1': 7.583237282950942, 'lambda_l2': 0.41706008511122317}. Best is trial 4 with value: 0.7744257344657857.\u001b[0m\n"
     ]
    },
    {
     "name": "stdout",
     "output_type": "stream",
     "text": [
      "[LightGBM] [Warning] feature_fraction is set=0.5329484787348077, colsample_bytree=1.0 will be ignored. Current value: feature_fraction=0.5329484787348077\n",
      "[LightGBM] [Warning] lambda_l1 is set=1.4150452402873372, reg_alpha=0.0 will be ignored. Current value: lambda_l1=1.4150452402873372\n",
      "[LightGBM] [Warning] bagging_fraction is set=0.9157840042746674, subsample=1.0 will be ignored. Current value: bagging_fraction=0.9157840042746674\n",
      "[LightGBM] [Warning] min_sum_hessian_in_leaf is set=0.00020376023895565476, min_child_weight=0.001 will be ignored. Current value: min_sum_hessian_in_leaf=0.00020376023895565476\n",
      "[LightGBM] [Warning] bagging_freq is set=1, subsample_freq=0 will be ignored. Current value: bagging_freq=1\n",
      "[LightGBM] [Warning] lambda_l2 is set=2.008532489225577, reg_lambda=0.0 will be ignored. Current value: lambda_l2=2.008532489225577\n"
     ]
    },
    {
     "name": "stderr",
     "output_type": "stream",
     "text": [
      "\u001b[32m[I 2022-11-01 02:42:52,267]\u001b[0m Trial 17 finished with value: 0.7726405543463055 and parameters: {'num_leaves': 74, 'min_child_samples': 195, 'min_sum_hessian_in_leaf': 0.0003904709399950931, 'feature_fraction': 0.501764553242751, 'bagging_fraction': 0.8992133668426198, 'lambda_l1': 9.56838338894332, 'lambda_l2': 0.31315937024068213}. Best is trial 4 with value: 0.7744257344657857.\u001b[0m\n"
     ]
    },
    {
     "name": "stdout",
     "output_type": "stream",
     "text": [
      "[LightGBM] [Warning] feature_fraction is set=0.5658092588722657, colsample_bytree=1.0 will be ignored. Current value: feature_fraction=0.5658092588722657\n",
      "[LightGBM] [Warning] lambda_l1 is set=0.010626566892689999, reg_alpha=0.0 will be ignored. Current value: lambda_l1=0.010626566892689999\n",
      "[LightGBM] [Warning] bagging_fraction is set=0.7143665777651858, subsample=1.0 will be ignored. Current value: bagging_fraction=0.7143665777651858\n",
      "[LightGBM] [Warning] min_sum_hessian_in_leaf is set=0.00016134399310473283, min_child_weight=0.001 will be ignored. Current value: min_sum_hessian_in_leaf=0.00016134399310473283\n",
      "[LightGBM] [Warning] bagging_freq is set=1, subsample_freq=0 will be ignored. Current value: bagging_freq=1\n",
      "[LightGBM] [Warning] lambda_l2 is set=1.996020337058608, reg_lambda=0.0 will be ignored. Current value: lambda_l2=1.996020337058608\n"
     ]
    },
    {
     "name": "stderr",
     "output_type": "stream",
     "text": [
      "\u001b[32m[I 2022-11-01 02:43:22,706]\u001b[0m Trial 16 finished with value: 0.7737483656243535 and parameters: {'num_leaves': 74, 'min_child_samples': 191, 'min_sum_hessian_in_leaf': 1.0981299989475014e-05, 'feature_fraction': 0.5200055252134665, 'bagging_fraction': 0.9101278618704485, 'lambda_l1': 0.268712781840344, 'lambda_l2': 88.87703187854248}. Best is trial 4 with value: 0.7744257344657857.\u001b[0m\n"
     ]
    },
    {
     "name": "stdout",
     "output_type": "stream",
     "text": [
      "[LightGBM] [Warning] feature_fraction is set=0.5601270975914935, colsample_bytree=1.0 will be ignored. Current value: feature_fraction=0.5601270975914935\n",
      "[LightGBM] [Warning] lambda_l1 is set=1.4599197790043443, reg_alpha=0.0 will be ignored. Current value: lambda_l1=1.4599197790043443\n",
      "[LightGBM] [Warning] bagging_fraction is set=0.7178023170261237, subsample=1.0 will be ignored. Current value: bagging_fraction=0.7178023170261237\n",
      "[LightGBM] [Warning] min_sum_hessian_in_leaf is set=0.0001903300486102632, min_child_weight=0.001 will be ignored. Current value: min_sum_hessian_in_leaf=0.0001903300486102632\n",
      "[LightGBM] [Warning] bagging_freq is set=1, subsample_freq=0 will be ignored. Current value: bagging_freq=1\n",
      "[LightGBM] [Warning] lambda_l2 is set=1.8703690617268085, reg_lambda=0.0 will be ignored. Current value: lambda_l2=1.8703690617268085\n"
     ]
    },
    {
     "name": "stderr",
     "output_type": "stream",
     "text": [
      "\u001b[32m[I 2022-11-01 02:44:54,270]\u001b[0m Trial 19 finished with value: 0.7728866186550397 and parameters: {'num_leaves': 72, 'min_child_samples': 102, 'min_sum_hessian_in_leaf': 1.0566025205328285e-05, 'feature_fraction': 0.5179261224519915, 'bagging_fraction': 0.7139064024477928, 'lambda_l1': 9.145060132607137, 'lambda_l2': 0.3108094007221659}. Best is trial 4 with value: 0.7744257344657857.\u001b[0m\n"
     ]
    },
    {
     "name": "stdout",
     "output_type": "stream",
     "text": [
      "[LightGBM] [Warning] feature_fraction is set=0.5676428194128588, colsample_bytree=1.0 will be ignored. Current value: feature_fraction=0.5676428194128588\n",
      "[LightGBM] [Warning] lambda_l1 is set=2.416826846565396, reg_alpha=0.0 will be ignored. Current value: lambda_l1=2.416826846565396\n",
      "[LightGBM] [Warning] bagging_fraction is set=0.883120472988597, subsample=1.0 will be ignored. Current value: bagging_fraction=0.883120472988597\n",
      "[LightGBM] [Warning] min_sum_hessian_in_leaf is set=0.009355430663992777, min_child_weight=0.001 will be ignored. Current value: min_sum_hessian_in_leaf=0.009355430663992777\n",
      "[LightGBM] [Warning] bagging_freq is set=1, subsample_freq=0 will be ignored. Current value: bagging_freq=1\n",
      "[LightGBM] [Warning] lambda_l2 is set=1.860483293316247, reg_lambda=0.0 will be ignored. Current value: lambda_l2=1.860483293316247\n"
     ]
    },
    {
     "name": "stderr",
     "output_type": "stream",
     "text": [
      "\u001b[32m[I 2022-11-01 02:45:49,848]\u001b[0m Trial 18 finished with value: 0.7731133606119058 and parameters: {'num_leaves': 77, 'min_child_samples': 197, 'min_sum_hessian_in_leaf': 1.1013538503754288e-05, 'feature_fraction': 0.5214767626718245, 'bagging_fraction': 0.717904898898126, 'lambda_l1': 8.965019771409157, 'lambda_l2': 75.34408246575613}. Best is trial 4 with value: 0.7744257344657857.\u001b[0m\n"
     ]
    },
    {
     "name": "stdout",
     "output_type": "stream",
     "text": [
      "[LightGBM] [Warning] feature_fraction is set=0.5738102069117577, colsample_bytree=1.0 will be ignored. Current value: feature_fraction=0.5738102069117577\n",
      "[LightGBM] [Warning] lambda_l1 is set=1.3260547367602078, reg_alpha=0.0 will be ignored. Current value: lambda_l1=1.3260547367602078\n",
      "[LightGBM] [Warning] bagging_fraction is set=0.8660845318810947, subsample=1.0 will be ignored. Current value: bagging_fraction=0.8660845318810947\n",
      "[LightGBM] [Warning] min_sum_hessian_in_leaf is set=0.0008104063906650389, min_child_weight=0.001 will be ignored. Current value: min_sum_hessian_in_leaf=0.0008104063906650389\n",
      "[LightGBM] [Warning] bagging_freq is set=1, subsample_freq=0 will be ignored. Current value: bagging_freq=1\n",
      "[LightGBM] [Warning] lambda_l2 is set=1.736160819633697, reg_lambda=0.0 will be ignored. Current value: lambda_l2=1.736160819633697\n"
     ]
    },
    {
     "name": "stderr",
     "output_type": "stream",
     "text": [
      "\u001b[32m[I 2022-11-01 02:46:27,370]\u001b[0m Trial 21 finished with value: 0.7713664760828719 and parameters: {'num_leaves': 77, 'min_child_samples': 190, 'min_sum_hessian_in_leaf': 0.00016134399310473283, 'feature_fraction': 0.5658092588722657, 'bagging_fraction': 0.7143665777651858, 'lambda_l1': 0.010626566892689999, 'lambda_l2': 1.996020337058608}. Best is trial 4 with value: 0.7744257344657857.\u001b[0m\n"
     ]
    },
    {
     "name": "stdout",
     "output_type": "stream",
     "text": [
      "[LightGBM] [Warning] feature_fraction is set=0.558608341545467, colsample_bytree=1.0 will be ignored. Current value: feature_fraction=0.558608341545467\n",
      "[LightGBM] [Warning] lambda_l1 is set=1.1239880880949127, reg_alpha=0.0 will be ignored. Current value: lambda_l1=1.1239880880949127\n",
      "[LightGBM] [Warning] bagging_fraction is set=0.9017227951596727, subsample=1.0 will be ignored. Current value: bagging_fraction=0.9017227951596727\n",
      "[LightGBM] [Warning] min_sum_hessian_in_leaf is set=2.5373712008489578e-05, min_child_weight=0.001 will be ignored. Current value: min_sum_hessian_in_leaf=2.5373712008489578e-05\n",
      "[LightGBM] [Warning] bagging_freq is set=1, subsample_freq=0 will be ignored. Current value: bagging_freq=1\n",
      "[LightGBM] [Warning] lambda_l2 is set=4.520166764995526, reg_lambda=0.0 will be ignored. Current value: lambda_l2=4.520166764995526\n"
     ]
    },
    {
     "name": "stderr",
     "output_type": "stream",
     "text": [
      "\u001b[32m[I 2022-11-01 02:46:31,984]\u001b[0m Trial 20 finished with value: 0.7730789551409729 and parameters: {'num_leaves': 74, 'min_child_samples': 195, 'min_sum_hessian_in_leaf': 0.00020376023895565476, 'feature_fraction': 0.5329484787348077, 'bagging_fraction': 0.9157840042746674, 'lambda_l1': 1.4150452402873372, 'lambda_l2': 2.008532489225577}. Best is trial 4 with value: 0.7744257344657857.\u001b[0m\n"
     ]
    },
    {
     "name": "stdout",
     "output_type": "stream",
     "text": [
      "[LightGBM] [Warning] feature_fraction is set=0.6436941796162339, colsample_bytree=1.0 will be ignored. Current value: feature_fraction=0.6436941796162339\n",
      "[LightGBM] [Warning] lambda_l1 is set=0.6130611642196279, reg_alpha=0.0 will be ignored. Current value: lambda_l1=0.6130611642196279\n",
      "[LightGBM] [Warning] bagging_fraction is set=0.8724954872913451, subsample=1.0 will be ignored. Current value: bagging_fraction=0.8724954872913451\n",
      "[LightGBM] [Warning] min_sum_hessian_in_leaf is set=2.306167467252196e-05, min_child_weight=0.001 will be ignored. Current value: min_sum_hessian_in_leaf=2.306167467252196e-05\n",
      "[LightGBM] [Warning] bagging_freq is set=1, subsample_freq=0 will be ignored. Current value: bagging_freq=1\n",
      "[LightGBM] [Warning] lambda_l2 is set=14.420898031646393, reg_lambda=0.0 will be ignored. Current value: lambda_l2=14.420898031646393\n"
     ]
    },
    {
     "name": "stderr",
     "output_type": "stream",
     "text": [
      "\u001b[32m[I 2022-11-01 02:49:05,893]\u001b[0m Trial 23 finished with value: 0.7721478450608146 and parameters: {'num_leaves': 103, 'min_child_samples': 171, 'min_sum_hessian_in_leaf': 0.009355430663992777, 'feature_fraction': 0.5676428194128588, 'bagging_fraction': 0.883120472988597, 'lambda_l1': 2.416826846565396, 'lambda_l2': 1.860483293316247}. Best is trial 4 with value: 0.7744257344657857.\u001b[0m\n"
     ]
    },
    {
     "name": "stdout",
     "output_type": "stream",
     "text": [
      "[LightGBM] [Warning] feature_fraction is set=0.624682962644563, colsample_bytree=1.0 will be ignored. Current value: feature_fraction=0.624682962644563\n",
      "[LightGBM] [Warning] lambda_l1 is set=0.5575294288419524, reg_alpha=0.0 will be ignored. Current value: lambda_l1=0.5575294288419524\n",
      "[LightGBM] [Warning] bagging_fraction is set=0.9403244348712648, subsample=1.0 will be ignored. Current value: bagging_fraction=0.9403244348712648\n",
      "[LightGBM] [Warning] min_sum_hessian_in_leaf is set=2.3686173653554142e-05, min_child_weight=0.001 will be ignored. Current value: min_sum_hessian_in_leaf=2.3686173653554142e-05\n",
      "[LightGBM] [Warning] bagging_freq is set=1, subsample_freq=0 will be ignored. Current value: bagging_freq=1\n",
      "[LightGBM] [Warning] lambda_l2 is set=19.35623295245607, reg_lambda=0.0 will be ignored. Current value: lambda_l2=19.35623295245607\n"
     ]
    },
    {
     "name": "stderr",
     "output_type": "stream",
     "text": [
      "\u001b[32m[I 2022-11-01 02:49:59,636]\u001b[0m Trial 22 finished with value: 0.774731906820808 and parameters: {'num_leaves': 8, 'min_child_samples': 100, 'min_sum_hessian_in_leaf': 0.0001903300486102632, 'feature_fraction': 0.5601270975914935, 'bagging_fraction': 0.7178023170261237, 'lambda_l1': 1.4599197790043443, 'lambda_l2': 1.8703690617268085}. Best is trial 22 with value: 0.774731906820808.\u001b[0m\n",
      "\u001b[32m[I 2022-11-01 02:50:01,427]\u001b[0m Trial 24 finished with value: 0.7710904414669355 and parameters: {'num_leaves': 107, 'min_child_samples': 6, 'min_sum_hessian_in_leaf': 0.0008104063906650389, 'feature_fraction': 0.5738102069117577, 'bagging_fraction': 0.8660845318810947, 'lambda_l1': 1.3260547367602078, 'lambda_l2': 1.736160819633697}. Best is trial 22 with value: 0.774731906820808.\u001b[0m\n"
     ]
    },
    {
     "name": "stdout",
     "output_type": "stream",
     "text": [
      "[LightGBM] [Warning] feature_fraction is set=0.6182506753001209, colsample_bytree=1.0 will be ignored. Current value: feature_fraction=0.6182506753001209\n",
      "[LightGBM] [Warning] lambda_l1 is set=0.5224664282334281, reg_alpha=0.0 will be ignored. Current value: lambda_l1=0.5224664282334281\n",
      "[LightGBM] [Warning] bagging_fraction is set=0.6553974061472854, subsample=1.0 will be ignored. Current value: bagging_fraction=0.6553974061472854\n",
      "[LightGBM] [Warning] min_sum_hessian_in_leaf is set=2.7739343263081984e-05, min_child_weight=0.001 will be ignored. Current value: min_sum_hessian_in_leaf=2.7739343263081984e-05\n",
      "[LightGBM] [Warning] bagging_freq is set=1, subsample_freq=0 will be ignored. Current value: bagging_freq=1\n",
      "[LightGBM] [Warning] lambda_l2 is set=5.253349153928458, reg_lambda=0.0 will be ignored. Current value: lambda_l2=5.253349153928458\n",
      "[LightGBM] [Warning] feature_fraction is set=0.6308334931021669, colsample_bytree=1.0 will be ignored. Current value: feature_fraction=0.6308334931021669\n",
      "[LightGBM] [Warning] lambda_l1 is set=0.6096078053214884, reg_alpha=0.0 will be ignored. Current value: lambda_l1=0.6096078053214884\n",
      "[LightGBM] [Warning] bagging_fraction is set=0.6592174267732481, subsample=1.0 will be ignored. Current value: bagging_fraction=0.6592174267732481\n",
      "[LightGBM] [Warning] min_sum_hessian_in_leaf is set=2.4793856741635692e-05, min_child_weight=0.001 will be ignored. Current value: min_sum_hessian_in_leaf=2.4793856741635692e-05\n",
      "[LightGBM] [Warning] bagging_freq is set=1, subsample_freq=0 will be ignored. Current value: bagging_freq=1\n",
      "[LightGBM] [Warning] lambda_l2 is set=5.371612542474097, reg_lambda=0.0 will be ignored. Current value: lambda_l2=5.371612542474097\n"
     ]
    },
    {
     "name": "stderr",
     "output_type": "stream",
     "text": [
      "\u001b[32m[I 2022-11-01 02:50:40,497]\u001b[0m Trial 25 finished with value: 0.771981635073517 and parameters: {'num_leaves': 106, 'min_child_samples': 172, 'min_sum_hessian_in_leaf': 2.5373712008489578e-05, 'feature_fraction': 0.558608341545467, 'bagging_fraction': 0.9017227951596727, 'lambda_l1': 1.1239880880949127, 'lambda_l2': 4.520166764995526}. Best is trial 22 with value: 0.774731906820808.\u001b[0m\n"
     ]
    },
    {
     "name": "stdout",
     "output_type": "stream",
     "text": [
      "[LightGBM] [Warning] feature_fraction is set=0.6201211250451174, colsample_bytree=1.0 will be ignored. Current value: feature_fraction=0.6201211250451174\n",
      "[LightGBM] [Warning] lambda_l1 is set=4.924759380727232, reg_alpha=0.0 will be ignored. Current value: lambda_l1=4.924759380727232\n",
      "[LightGBM] [Warning] bagging_fraction is set=0.6390072470640829, subsample=1.0 will be ignored. Current value: bagging_fraction=0.6390072470640829\n",
      "[LightGBM] [Warning] min_sum_hessian_in_leaf is set=2.2879664807188902e-05, min_child_weight=0.001 will be ignored. Current value: min_sum_hessian_in_leaf=2.2879664807188902e-05\n",
      "[LightGBM] [Warning] bagging_freq is set=1, subsample_freq=0 will be ignored. Current value: bagging_freq=1\n",
      "[LightGBM] [Warning] lambda_l2 is set=7.792040227982967, reg_lambda=0.0 will be ignored. Current value: lambda_l2=7.792040227982967\n"
     ]
    },
    {
     "name": "stderr",
     "output_type": "stream",
     "text": [
      "\u001b[32m[I 2022-11-01 02:50:48,232]\u001b[0m Trial 26 finished with value: 0.7725569773372394 and parameters: {'num_leaves': 111, 'min_child_samples': 166, 'min_sum_hessian_in_leaf': 2.306167467252196e-05, 'feature_fraction': 0.6436941796162339, 'bagging_fraction': 0.8724954872913451, 'lambda_l1': 0.6130611642196279, 'lambda_l2': 14.420898031646393}. Best is trial 22 with value: 0.774731906820808.\u001b[0m\n"
     ]
    },
    {
     "name": "stdout",
     "output_type": "stream",
     "text": [
      "[LightGBM] [Warning] feature_fraction is set=0.6159117428658247, colsample_bytree=1.0 will be ignored. Current value: feature_fraction=0.6159117428658247\n",
      "[LightGBM] [Warning] lambda_l1 is set=3.7724856303957695, reg_alpha=0.0 will be ignored. Current value: lambda_l1=3.7724856303957695\n",
      "[LightGBM] [Warning] bagging_fraction is set=0.7647941559256276, subsample=1.0 will be ignored. Current value: bagging_fraction=0.7647941559256276\n",
      "[LightGBM] [Warning] min_sum_hessian_in_leaf is set=0.0001412956616562311, min_child_weight=0.001 will be ignored. Current value: min_sum_hessian_in_leaf=0.0001412956616562311\n",
      "[LightGBM] [Warning] bagging_freq is set=1, subsample_freq=0 will be ignored. Current value: bagging_freq=1\n",
      "[LightGBM] [Warning] lambda_l2 is set=0.12663152692648993, reg_lambda=0.0 will be ignored. Current value: lambda_l2=0.12663152692648993\n"
     ]
    },
    {
     "name": "stderr",
     "output_type": "stream",
     "text": [
      "\u001b[32m[I 2022-11-01 02:53:08,605]\u001b[0m Trial 27 finished with value: 0.7741694033764313 and parameters: {'num_leaves': 49, 'min_child_samples': 172, 'min_sum_hessian_in_leaf': 2.3686173653554142e-05, 'feature_fraction': 0.624682962644563, 'bagging_fraction': 0.9403244348712648, 'lambda_l1': 0.5575294288419524, 'lambda_l2': 19.35623295245607}. Best is trial 22 with value: 0.774731906820808.\u001b[0m\n"
     ]
    },
    {
     "name": "stdout",
     "output_type": "stream",
     "text": [
      "[LightGBM] [Warning] feature_fraction is set=0.6007701517082358, colsample_bytree=1.0 will be ignored. Current value: feature_fraction=0.6007701517082358\n",
      "[LightGBM] [Warning] lambda_l1 is set=4.424066456930606, reg_alpha=0.0 will be ignored. Current value: lambda_l1=4.424066456930606\n",
      "[LightGBM] [Warning] bagging_fraction is set=0.6450797220440333, subsample=1.0 will be ignored. Current value: bagging_fraction=0.6450797220440333\n",
      "[LightGBM] [Warning] min_sum_hessian_in_leaf is set=0.00011740553124594452, min_child_weight=0.001 will be ignored. Current value: min_sum_hessian_in_leaf=0.00011740553124594452\n",
      "[LightGBM] [Warning] bagging_freq is set=1, subsample_freq=0 will be ignored. Current value: bagging_freq=1\n",
      "[LightGBM] [Warning] lambda_l2 is set=0.9175096565905501, reg_lambda=0.0 will be ignored. Current value: lambda_l2=0.9175096565905501\n"
     ]
    },
    {
     "name": "stderr",
     "output_type": "stream",
     "text": [
      "\u001b[32m[I 2022-11-01 02:53:42,970]\u001b[0m Trial 28 finished with value: 0.7741687443360376 and parameters: {'num_leaves': 14, 'min_child_samples': 83, 'min_sum_hessian_in_leaf': 2.7739343263081984e-05, 'feature_fraction': 0.6182506753001209, 'bagging_fraction': 0.6553974061472854, 'lambda_l1': 0.5224664282334281, 'lambda_l2': 5.253349153928458}. Best is trial 22 with value: 0.774731906820808.\u001b[0m\n"
     ]
    },
    {
     "name": "stdout",
     "output_type": "stream",
     "text": [
      "[LightGBM] [Warning] feature_fraction is set=0.7105121097564762, colsample_bytree=1.0 will be ignored. Current value: feature_fraction=0.7105121097564762\n",
      "[LightGBM] [Warning] lambda_l1 is set=71.75256614982968, reg_alpha=0.0 will be ignored. Current value: lambda_l1=71.75256614982968\n",
      "[LightGBM] [Warning] bagging_fraction is set=0.7593061045758498, subsample=1.0 will be ignored. Current value: bagging_fraction=0.7593061045758498\n",
      "[LightGBM] [Warning] min_sum_hessian_in_leaf is set=0.000143880495014633, min_child_weight=0.001 will be ignored. Current value: min_sum_hessian_in_leaf=0.000143880495014633\n",
      "[LightGBM] [Warning] bagging_freq is set=1, subsample_freq=0 will be ignored. Current value: bagging_freq=1\n",
      "[LightGBM] [Warning] lambda_l2 is set=0.158772289545369, reg_lambda=0.0 will be ignored. Current value: lambda_l2=0.158772289545369\n"
     ]
    },
    {
     "name": "stderr",
     "output_type": "stream",
     "text": [
      "\u001b[32m[I 2022-11-01 02:54:31,783]\u001b[0m Trial 29 finished with value: 0.7747016443984043 and parameters: {'num_leaves': 15, 'min_child_samples': 92, 'min_sum_hessian_in_leaf': 2.4793856741635692e-05, 'feature_fraction': 0.6308334931021669, 'bagging_fraction': 0.6592174267732481, 'lambda_l1': 0.6096078053214884, 'lambda_l2': 5.371612542474097}. Best is trial 22 with value: 0.774731906820808.\u001b[0m\n"
     ]
    },
    {
     "name": "stdout",
     "output_type": "stream",
     "text": [
      "[LightGBM] [Warning] feature_fraction is set=0.6774647025498868, colsample_bytree=1.0 will be ignored. Current value: feature_fraction=0.6774647025498868\n",
      "[LightGBM] [Warning] lambda_l1 is set=0.15877987511295905, reg_alpha=0.0 will be ignored. Current value: lambda_l1=0.15877987511295905\n",
      "[LightGBM] [Warning] bagging_fraction is set=0.7586551418377274, subsample=1.0 will be ignored. Current value: bagging_fraction=0.7586551418377274\n",
      "[LightGBM] [Warning] min_sum_hessian_in_leaf is set=0.00010484842522728884, min_child_weight=0.001 will be ignored. Current value: min_sum_hessian_in_leaf=0.00010484842522728884\n",
      "[LightGBM] [Warning] bagging_freq is set=1, subsample_freq=0 will be ignored. Current value: bagging_freq=1\n",
      "[LightGBM] [Warning] lambda_l2 is set=0.9274029110757303, reg_lambda=0.0 will be ignored. Current value: lambda_l2=0.9274029110757303\n"
     ]
    },
    {
     "name": "stderr",
     "output_type": "stream",
     "text": [
      "\u001b[32m[I 2022-11-01 02:54:44,663]\u001b[0m Trial 30 finished with value: 0.7734817250058129 and parameters: {'num_leaves': 15, 'min_child_samples': 85, 'min_sum_hessian_in_leaf': 2.2879664807188902e-05, 'feature_fraction': 0.6201211250451174, 'bagging_fraction': 0.6390072470640829, 'lambda_l1': 4.924759380727232, 'lambda_l2': 7.792040227982967}. Best is trial 22 with value: 0.774731906820808.\u001b[0m\n"
     ]
    },
    {
     "name": "stdout",
     "output_type": "stream",
     "text": [
      "[LightGBM] [Warning] feature_fraction is set=0.6889622583884853, colsample_bytree=1.0 will be ignored. Current value: feature_fraction=0.6889622583884853\n",
      "[LightGBM] [Warning] lambda_l1 is set=54.0006990448841, reg_alpha=0.0 will be ignored. Current value: lambda_l1=54.0006990448841\n",
      "[LightGBM] [Warning] bagging_fraction is set=0.7662043447148346, subsample=1.0 will be ignored. Current value: bagging_fraction=0.7662043447148346\n",
      "[LightGBM] [Warning] min_sum_hessian_in_leaf is set=1.5481056596449657e-05, min_child_weight=0.001 will be ignored. Current value: min_sum_hessian_in_leaf=1.5481056596449657e-05\n",
      "[LightGBM] [Warning] bagging_freq is set=1, subsample_freq=0 will be ignored. Current value: bagging_freq=1\n",
      "[LightGBM] [Warning] lambda_l2 is set=1.0267697441653028, reg_lambda=0.0 will be ignored. Current value: lambda_l2=1.0267697441653028\n"
     ]
    },
    {
     "name": "stderr",
     "output_type": "stream",
     "text": [
      "\u001b[32m[I 2022-11-01 02:56:31,570]\u001b[0m Trial 31 finished with value: 0.7749170864843036 and parameters: {'num_leaves': 8, 'min_child_samples': 82, 'min_sum_hessian_in_leaf': 0.0001412956616562311, 'feature_fraction': 0.6159117428658247, 'bagging_fraction': 0.7647941559256276, 'lambda_l1': 3.7724856303957695, 'lambda_l2': 0.12663152692648993}. Best is trial 31 with value: 0.7749170864843036.\u001b[0m\n"
     ]
    },
    {
     "name": "stdout",
     "output_type": "stream",
     "text": [
      "[LightGBM] [Warning] feature_fraction is set=0.7015125491269648, colsample_bytree=1.0 will be ignored. Current value: feature_fraction=0.7015125491269648\n",
      "[LightGBM] [Warning] lambda_l1 is set=74.50732039620759, reg_alpha=0.0 will be ignored. Current value: lambda_l1=74.50732039620759\n",
      "[LightGBM] [Warning] bagging_fraction is set=0.7576142755899409, subsample=1.0 will be ignored. Current value: bagging_fraction=0.7576142755899409\n",
      "[LightGBM] [Warning] min_sum_hessian_in_leaf is set=0.0001396672064575004, min_child_weight=0.001 will be ignored. Current value: min_sum_hessian_in_leaf=0.0001396672064575004\n",
      "[LightGBM] [Warning] bagging_freq is set=1, subsample_freq=0 will be ignored. Current value: bagging_freq=1\n",
      "[LightGBM] [Warning] lambda_l2 is set=0.8659292644316416, reg_lambda=0.0 will be ignored. Current value: lambda_l2=0.8659292644316416\n"
     ]
    },
    {
     "name": "stderr",
     "output_type": "stream",
     "text": [
      "\u001b[32m[I 2022-11-01 02:57:10,462]\u001b[0m Trial 32 finished with value: 0.7740732084156109 and parameters: {'num_leaves': 8, 'min_child_samples': 84, 'min_sum_hessian_in_leaf': 0.00011740553124594452, 'feature_fraction': 0.6007701517082358, 'bagging_fraction': 0.6450797220440333, 'lambda_l1': 4.424066456930606, 'lambda_l2': 0.9175096565905501}. Best is trial 31 with value: 0.7749170864843036.\u001b[0m\n"
     ]
    },
    {
     "name": "stdout",
     "output_type": "stream",
     "text": [
      "[LightGBM] [Warning] feature_fraction is set=0.68484026753346, colsample_bytree=1.0 will be ignored. Current value: feature_fraction=0.68484026753346\n",
      "[LightGBM] [Warning] lambda_l1 is set=86.46128324374324, reg_alpha=0.0 will be ignored. Current value: lambda_l1=86.46128324374324\n",
      "[LightGBM] [Warning] bagging_fraction is set=0.7777832806939879, subsample=1.0 will be ignored. Current value: bagging_fraction=0.7777832806939879\n",
      "[LightGBM] [Warning] min_sum_hessian_in_leaf is set=5.962760263635491e-05, min_child_weight=0.001 will be ignored. Current value: min_sum_hessian_in_leaf=5.962760263635491e-05\n",
      "[LightGBM] [Warning] bagging_freq is set=1, subsample_freq=0 will be ignored. Current value: bagging_freq=1\n",
      "[LightGBM] [Warning] lambda_l2 is set=0.15621014296446828, reg_lambda=0.0 will be ignored. Current value: lambda_l2=0.15621014296446828\n"
     ]
    },
    {
     "name": "stderr",
     "output_type": "stream",
     "text": [
      "\u001b[32m[I 2022-11-01 02:58:52,979]\u001b[0m Trial 34 finished with value: 0.7738814312234172 and parameters: {'num_leaves': 9, 'min_child_samples': 85, 'min_sum_hessian_in_leaf': 0.00010484842522728884, 'feature_fraction': 0.6774647025498868, 'bagging_fraction': 0.7586551418377274, 'lambda_l1': 0.15877987511295905, 'lambda_l2': 0.9274029110757303}. Best is trial 31 with value: 0.7749170864843036.\u001b[0m\n"
     ]
    },
    {
     "name": "stdout",
     "output_type": "stream",
     "text": [
      "[LightGBM] [Warning] feature_fraction is set=0.6880863213717948, colsample_bytree=1.0 will be ignored. Current value: feature_fraction=0.6880863213717948\n",
      "[LightGBM] [Warning] lambda_l1 is set=2.086831709380685, reg_alpha=0.0 will be ignored. Current value: lambda_l1=2.086831709380685\n",
      "[LightGBM] [Warning] bagging_fraction is set=0.7548980106356918, subsample=1.0 will be ignored. Current value: bagging_fraction=0.7548980106356918\n",
      "[LightGBM] [Warning] min_sum_hessian_in_leaf is set=6.346249235824247e-05, min_child_weight=0.001 will be ignored. Current value: min_sum_hessian_in_leaf=6.346249235824247e-05\n",
      "[LightGBM] [Warning] bagging_freq is set=1, subsample_freq=0 will be ignored. Current value: bagging_freq=1\n",
      "[LightGBM] [Warning] lambda_l2 is set=3.348474063636923, reg_lambda=0.0 will be ignored. Current value: lambda_l2=3.348474063636923\n"
     ]
    },
    {
     "name": "stderr",
     "output_type": "stream",
     "text": [
      "\u001b[32m[I 2022-11-01 03:00:13,556]\u001b[0m Trial 35 finished with value: 0.772595365549579 and parameters: {'num_leaves': 34, 'min_child_samples': 112, 'min_sum_hessian_in_leaf': 1.5481056596449657e-05, 'feature_fraction': 0.6889622583884853, 'bagging_fraction': 0.7662043447148346, 'lambda_l1': 54.0006990448841, 'lambda_l2': 1.0267697441653028}. Best is trial 31 with value: 0.7749170864843036.\u001b[0m\n"
     ]
    },
    {
     "name": "stdout",
     "output_type": "stream",
     "text": [
      "[LightGBM] [Warning] feature_fraction is set=0.7541028056349516, colsample_bytree=1.0 will be ignored. Current value: feature_fraction=0.7541028056349516\n",
      "[LightGBM] [Warning] lambda_l1 is set=2.0790940373886784, reg_alpha=0.0 will be ignored. Current value: lambda_l1=2.0790940373886784\n",
      "[LightGBM] [Warning] bagging_fraction is set=0.7827767753886063, subsample=1.0 will be ignored. Current value: bagging_fraction=0.7827767753886063\n",
      "[LightGBM] [Warning] min_sum_hessian_in_leaf is set=5.448871934812632e-05, min_child_weight=0.001 will be ignored. Current value: min_sum_hessian_in_leaf=5.448871934812632e-05\n",
      "[LightGBM] [Warning] bagging_freq is set=1, subsample_freq=0 will be ignored. Current value: bagging_freq=1\n",
      "[LightGBM] [Warning] lambda_l2 is set=0.14522752513011886, reg_lambda=0.0 will be ignored. Current value: lambda_l2=0.14522752513011886\n"
     ]
    },
    {
     "name": "stderr",
     "output_type": "stream",
     "text": [
      "\u001b[32m[I 2022-11-01 03:01:31,542]\u001b[0m Trial 33 finished with value: 0.7719098032329814 and parameters: {'num_leaves': 30, 'min_child_samples': 85, 'min_sum_hessian_in_leaf': 0.000143880495014633, 'feature_fraction': 0.7105121097564762, 'bagging_fraction': 0.7593061045758498, 'lambda_l1': 71.75256614982968, 'lambda_l2': 0.158772289545369}. Best is trial 31 with value: 0.7749170864843036.\u001b[0m\n"
     ]
    },
    {
     "name": "stdout",
     "output_type": "stream",
     "text": [
      "[LightGBM] [Warning] feature_fraction is set=0.7661433715591288, colsample_bytree=1.0 will be ignored. Current value: feature_fraction=0.7661433715591288\n",
      "[LightGBM] [Warning] lambda_l1 is set=1.7759221458923427, reg_alpha=0.0 will be ignored. Current value: lambda_l1=1.7759221458923427\n",
      "[LightGBM] [Warning] bagging_fraction is set=0.6667137106590266, subsample=1.0 will be ignored. Current value: bagging_fraction=0.6667137106590266\n",
      "[LightGBM] [Warning] min_sum_hessian_in_leaf is set=6.188453888469134e-05, min_child_weight=0.001 will be ignored. Current value: min_sum_hessian_in_leaf=6.188453888469134e-05\n",
      "[LightGBM] [Warning] bagging_freq is set=1, subsample_freq=0 will be ignored. Current value: bagging_freq=1\n",
      "[LightGBM] [Warning] lambda_l2 is set=3.241845098544399, reg_lambda=0.0 will be ignored. Current value: lambda_l2=3.241845098544399\n"
     ]
    },
    {
     "name": "stderr",
     "output_type": "stream",
     "text": [
      "\u001b[32m[I 2022-11-01 03:02:38,455]\u001b[0m Trial 36 finished with value: 0.7729381841128731 and parameters: {'num_leaves': 34, 'min_child_samples': 111, 'min_sum_hessian_in_leaf': 0.0001396672064575004, 'feature_fraction': 0.7015125491269648, 'bagging_fraction': 0.7576142755899409, 'lambda_l1': 74.50732039620759, 'lambda_l2': 0.8659292644316416}. Best is trial 31 with value: 0.7749170864843036.\u001b[0m\n"
     ]
    },
    {
     "name": "stdout",
     "output_type": "stream",
     "text": [
      "[LightGBM] [Warning] feature_fraction is set=0.7423475607814158, colsample_bytree=1.0 will be ignored. Current value: feature_fraction=0.7423475607814158\n",
      "[LightGBM] [Warning] lambda_l1 is set=1.9443608464468995, reg_alpha=0.0 will be ignored. Current value: lambda_l1=1.9443608464468995\n",
      "[LightGBM] [Warning] bagging_fraction is set=0.681397560581009, subsample=1.0 will be ignored. Current value: bagging_fraction=0.681397560581009\n",
      "[LightGBM] [Warning] min_sum_hessian_in_leaf is set=6.479451121875727e-05, min_child_weight=0.001 will be ignored. Current value: min_sum_hessian_in_leaf=6.479451121875727e-05\n",
      "[LightGBM] [Warning] bagging_freq is set=1, subsample_freq=0 will be ignored. Current value: bagging_freq=1\n",
      "[LightGBM] [Warning] lambda_l2 is set=0.2057418457641208, reg_lambda=0.0 will be ignored. Current value: lambda_l2=0.2057418457641208\n"
     ]
    },
    {
     "name": "stderr",
     "output_type": "stream",
     "text": [
      "\u001b[32m[I 2022-11-01 03:03:09,315]\u001b[0m Trial 38 finished with value: 0.7738139953604268 and parameters: {'num_leaves': 35, 'min_child_samples': 115, 'min_sum_hessian_in_leaf': 6.346249235824247e-05, 'feature_fraction': 0.6880863213717948, 'bagging_fraction': 0.7548980106356918, 'lambda_l1': 2.086831709380685, 'lambda_l2': 3.348474063636923}. Best is trial 31 with value: 0.7749170864843036.\u001b[0m\n"
     ]
    },
    {
     "name": "stdout",
     "output_type": "stream",
     "text": [
      "[LightGBM] [Warning] feature_fraction is set=0.7333215226304909, colsample_bytree=1.0 will be ignored. Current value: feature_fraction=0.7333215226304909\n",
      "[LightGBM] [Warning] lambda_l1 is set=0.8635654058010898, reg_alpha=0.0 will be ignored. Current value: lambda_l1=0.8635654058010898\n",
      "[LightGBM] [Warning] bagging_fraction is set=0.6909107030524742, subsample=1.0 will be ignored. Current value: bagging_fraction=0.6909107030524742\n",
      "[LightGBM] [Warning] min_sum_hessian_in_leaf is set=4.997511336526356e-05, min_child_weight=0.001 will be ignored. Current value: min_sum_hessian_in_leaf=4.997511336526356e-05\n",
      "[LightGBM] [Warning] bagging_freq is set=1, subsample_freq=0 will be ignored. Current value: bagging_freq=1\n",
      "[LightGBM] [Warning] lambda_l2 is set=0.2034280707295092, reg_lambda=0.0 will be ignored. Current value: lambda_l2=0.2034280707295092\n"
     ]
    },
    {
     "name": "stderr",
     "output_type": "stream",
     "text": [
      "\u001b[32m[I 2022-11-01 03:03:55,331]\u001b[0m Trial 37 finished with value: 0.7719060734205909 and parameters: {'num_leaves': 38, 'min_child_samples': 114, 'min_sum_hessian_in_leaf': 5.962760263635491e-05, 'feature_fraction': 0.68484026753346, 'bagging_fraction': 0.7777832806939879, 'lambda_l1': 86.46128324374324, 'lambda_l2': 0.15621014296446828}. Best is trial 31 with value: 0.7749170864843036.\u001b[0m\n"
     ]
    },
    {
     "name": "stdout",
     "output_type": "stream",
     "text": [
      "[LightGBM] [Warning] feature_fraction is set=0.5465538078219976, colsample_bytree=1.0 will be ignored. Current value: feature_fraction=0.5465538078219976\n",
      "[LightGBM] [Warning] lambda_l1 is set=21.1683761938986, reg_alpha=0.0 will be ignored. Current value: lambda_l1=21.1683761938986\n",
      "[LightGBM] [Warning] bagging_fraction is set=0.6791561818365981, subsample=1.0 will be ignored. Current value: bagging_fraction=0.6791561818365981\n",
      "[LightGBM] [Warning] min_sum_hessian_in_leaf is set=4.2665943608409e-05, min_child_weight=0.001 will be ignored. Current value: min_sum_hessian_in_leaf=4.2665943608409e-05\n",
      "[LightGBM] [Warning] bagging_freq is set=1, subsample_freq=0 will be ignored. Current value: bagging_freq=1\n",
      "[LightGBM] [Warning] lambda_l2 is set=0.061439073878648075, reg_lambda=0.0 will be ignored. Current value: lambda_l2=0.061439073878648075\n"
     ]
    },
    {
     "name": "stderr",
     "output_type": "stream",
     "text": [
      "\u001b[32m[I 2022-11-01 03:04:31,095]\u001b[0m Trial 40 finished with value: 0.7710822016808236 and parameters: {'num_leaves': 55, 'min_child_samples': 69, 'min_sum_hessian_in_leaf': 6.188453888469134e-05, 'feature_fraction': 0.7661433715591288, 'bagging_fraction': 0.6667137106590266, 'lambda_l1': 1.7759221458923427, 'lambda_l2': 3.241845098544399}. Best is trial 31 with value: 0.7749170864843036.\u001b[0m\n"
     ]
    },
    {
     "name": "stdout",
     "output_type": "stream",
     "text": [
      "[LightGBM] [Warning] feature_fraction is set=0.5445954326977858, colsample_bytree=1.0 will be ignored. Current value: feature_fraction=0.5445954326977858\n",
      "[LightGBM] [Warning] lambda_l1 is set=17.306389798856976, reg_alpha=0.0 will be ignored. Current value: lambda_l1=17.306389798856976\n",
      "[LightGBM] [Warning] bagging_fraction is set=0.5876332847148488, subsample=1.0 will be ignored. Current value: bagging_fraction=0.5876332847148488\n",
      "[LightGBM] [Warning] min_sum_hessian_in_leaf is set=0.00037170847621819704, min_child_weight=0.001 will be ignored. Current value: min_sum_hessian_in_leaf=0.00037170847621819704\n",
      "[LightGBM] [Warning] bagging_freq is set=1, subsample_freq=0 will be ignored. Current value: bagging_freq=1\n",
      "[LightGBM] [Warning] lambda_l2 is set=0.0756046356073124, reg_lambda=0.0 will be ignored. Current value: lambda_l2=0.0756046356073124\n"
     ]
    },
    {
     "name": "stderr",
     "output_type": "stream",
     "text": [
      "\u001b[32m[I 2022-11-01 03:04:48,121]\u001b[0m Trial 39 finished with value: 0.7723736002382805 and parameters: {'num_leaves': 54, 'min_child_samples': 70, 'min_sum_hessian_in_leaf': 5.448871934812632e-05, 'feature_fraction': 0.7541028056349516, 'bagging_fraction': 0.7827767753886063, 'lambda_l1': 2.0790940373886784, 'lambda_l2': 0.14522752513011886}. Best is trial 31 with value: 0.7749170864843036.\u001b[0m\n"
     ]
    },
    {
     "name": "stdout",
     "output_type": "stream",
     "text": [
      "[LightGBM] [Warning] feature_fraction is set=0.5455116530346666, colsample_bytree=1.0 will be ignored. Current value: feature_fraction=0.5455116530346666\n",
      "[LightGBM] [Warning] lambda_l1 is set=15.682016082466644, reg_alpha=0.0 will be ignored. Current value: lambda_l1=15.682016082466644\n",
      "[LightGBM] [Warning] bagging_fraction is set=0.9591246725535754, subsample=1.0 will be ignored. Current value: bagging_fraction=0.9591246725535754\n",
      "[LightGBM] [Warning] min_sum_hessian_in_leaf is set=1.6293095635961432e-05, min_child_weight=0.001 will be ignored. Current value: min_sum_hessian_in_leaf=1.6293095635961432e-05\n",
      "[LightGBM] [Warning] bagging_freq is set=1, subsample_freq=0 will be ignored. Current value: bagging_freq=1\n",
      "[LightGBM] [Warning] lambda_l2 is set=0.04351695269673103, reg_lambda=0.0 will be ignored. Current value: lambda_l2=0.04351695269673103\n"
     ]
    },
    {
     "name": "stderr",
     "output_type": "stream",
     "text": [
      "\u001b[32m[I 2022-11-01 03:05:41,768]\u001b[0m Trial 41 finished with value: 0.7710868399002434 and parameters: {'num_leaves': 50, 'min_child_samples': 68, 'min_sum_hessian_in_leaf': 6.479451121875727e-05, 'feature_fraction': 0.7423475607814158, 'bagging_fraction': 0.681397560581009, 'lambda_l1': 1.9443608464468995, 'lambda_l2': 0.2057418457641208}. Best is trial 31 with value: 0.7749170864843036.\u001b[0m\n"
     ]
    },
    {
     "name": "stdout",
     "output_type": "stream",
     "text": [
      "[LightGBM] [Warning] feature_fraction is set=0.5429079012757987, colsample_bytree=1.0 will be ignored. Current value: feature_fraction=0.5429079012757987\n",
      "[LightGBM] [Warning] lambda_l1 is set=17.16225232624328, reg_alpha=0.0 will be ignored. Current value: lambda_l1=17.16225232624328\n",
      "[LightGBM] [Warning] bagging_fraction is set=0.950063069861047, subsample=1.0 will be ignored. Current value: bagging_fraction=0.950063069861047\n",
      "[LightGBM] [Warning] min_sum_hessian_in_leaf is set=1.5121804150349985e-05, min_child_weight=0.001 will be ignored. Current value: min_sum_hessian_in_leaf=1.5121804150349985e-05\n",
      "[LightGBM] [Warning] bagging_freq is set=1, subsample_freq=0 will be ignored. Current value: bagging_freq=1\n",
      "[LightGBM] [Warning] lambda_l2 is set=0.06981445370555651, reg_lambda=0.0 will be ignored. Current value: lambda_l2=0.06981445370555651\n"
     ]
    },
    {
     "name": "stderr",
     "output_type": "stream",
     "text": [
      "\u001b[32m[I 2022-11-01 03:06:13,991]\u001b[0m Trial 42 finished with value: 0.7714118608105264 and parameters: {'num_leaves': 51, 'min_child_samples': 63, 'min_sum_hessian_in_leaf': 4.997511336526356e-05, 'feature_fraction': 0.7333215226304909, 'bagging_fraction': 0.6909107030524742, 'lambda_l1': 0.8635654058010898, 'lambda_l2': 0.2034280707295092}. Best is trial 31 with value: 0.7749170864843036.\u001b[0m\n"
     ]
    },
    {
     "name": "stdout",
     "output_type": "stream",
     "text": [
      "[LightGBM] [Warning] feature_fraction is set=0.5347869878189304, colsample_bytree=1.0 will be ignored. Current value: feature_fraction=0.5347869878189304\n",
      "[LightGBM] [Warning] lambda_l1 is set=16.698293020300294, reg_alpha=0.0 will be ignored. Current value: lambda_l1=16.698293020300294\n",
      "[LightGBM] [Warning] bagging_fraction is set=0.9460465321115168, subsample=1.0 will be ignored. Current value: bagging_fraction=0.9460465321115168\n",
      "[LightGBM] [Warning] min_sum_hessian_in_leaf is set=1.6095634185747283e-05, min_child_weight=0.001 will be ignored. Current value: min_sum_hessian_in_leaf=1.6095634185747283e-05\n",
      "[LightGBM] [Warning] bagging_freq is set=1, subsample_freq=0 will be ignored. Current value: bagging_freq=1\n",
      "[LightGBM] [Warning] lambda_l2 is set=0.07324459660242409, reg_lambda=0.0 will be ignored. Current value: lambda_l2=0.07324459660242409\n"
     ]
    },
    {
     "name": "stderr",
     "output_type": "stream",
     "text": [
      "\u001b[32m[I 2022-11-01 03:07:16,912]\u001b[0m Trial 43 finished with value: 0.7711264998824237 and parameters: {'num_leaves': 57, 'min_child_samples': 37, 'min_sum_hessian_in_leaf': 4.2665943608409e-05, 'feature_fraction': 0.5465538078219976, 'bagging_fraction': 0.6791561818365981, 'lambda_l1': 21.1683761938986, 'lambda_l2': 0.061439073878648075}. Best is trial 31 with value: 0.7749170864843036.\u001b[0m\n"
     ]
    },
    {
     "name": "stdout",
     "output_type": "stream",
     "text": [
      "[LightGBM] [Warning] feature_fraction is set=0.6022746646399147, colsample_bytree=1.0 will be ignored. Current value: feature_fraction=0.6022746646399147\n",
      "[LightGBM] [Warning] lambda_l1 is set=13.58038860795589, reg_alpha=0.0 will be ignored. Current value: lambda_l1=13.58038860795589\n",
      "[LightGBM] [Warning] bagging_fraction is set=0.9475003177140017, subsample=1.0 will be ignored. Current value: bagging_fraction=0.9475003177140017\n",
      "[LightGBM] [Warning] min_sum_hessian_in_leaf is set=1.522255396703723e-05, min_child_weight=0.001 will be ignored. Current value: min_sum_hessian_in_leaf=1.522255396703723e-05\n",
      "[LightGBM] [Warning] bagging_freq is set=1, subsample_freq=0 will be ignored. Current value: bagging_freq=1\n",
      "[LightGBM] [Warning] lambda_l2 is set=0.033664641956380574, reg_lambda=0.0 will be ignored. Current value: lambda_l2=0.033664641956380574\n"
     ]
    },
    {
     "name": "stderr",
     "output_type": "stream",
     "text": [
      "\u001b[32m[I 2022-11-01 03:08:41,216]\u001b[0m Trial 44 finished with value: 0.7700339819038907 and parameters: {'num_leaves': 131, 'min_child_samples': 32, 'min_sum_hessian_in_leaf': 0.00037170847621819704, 'feature_fraction': 0.5445954326977858, 'bagging_fraction': 0.5876332847148488, 'lambda_l1': 17.306389798856976, 'lambda_l2': 0.0756046356073124}. Best is trial 31 with value: 0.7749170864843036.\u001b[0m\n"
     ]
    },
    {
     "name": "stdout",
     "output_type": "stream",
     "text": [
      "[LightGBM] [Warning] feature_fraction is set=0.5866849657852664, colsample_bytree=1.0 will be ignored. Current value: feature_fraction=0.5866849657852664\n",
      "[LightGBM] [Warning] lambda_l1 is set=5.462973414300302, reg_alpha=0.0 will be ignored. Current value: lambda_l1=5.462973414300302\n",
      "[LightGBM] [Warning] bagging_fraction is set=0.9524077219294796, subsample=1.0 will be ignored. Current value: bagging_fraction=0.9524077219294796\n",
      "[LightGBM] [Warning] min_sum_hessian_in_leaf is set=1.599801996902157e-05, min_child_weight=0.001 will be ignored. Current value: min_sum_hessian_in_leaf=1.599801996902157e-05\n",
      "[LightGBM] [Warning] bagging_freq is set=1, subsample_freq=0 will be ignored. Current value: bagging_freq=1\n",
      "[LightGBM] [Warning] lambda_l2 is set=0.5275647266456817, reg_lambda=0.0 will be ignored. Current value: lambda_l2=0.5275647266456817\n"
     ]
    },
    {
     "name": "stderr",
     "output_type": "stream",
     "text": [
      "\u001b[32m[I 2022-11-01 03:10:40,850]\u001b[0m Trial 46 finished with value: 0.7743574685681371 and parameters: {'num_leaves': 24, 'min_child_samples': 36, 'min_sum_hessian_in_leaf': 1.5121804150349985e-05, 'feature_fraction': 0.5429079012757987, 'bagging_fraction': 0.950063069861047, 'lambda_l1': 17.16225232624328, 'lambda_l2': 0.06981445370555651}. Best is trial 31 with value: 0.7749170864843036.\u001b[0m\n",
      "\u001b[32m[I 2022-11-01 03:11:20,276]\u001b[0m Trial 45 finished with value: 0.774779200984414 and parameters: {'num_leaves': 23, 'min_child_samples': 34, 'min_sum_hessian_in_leaf': 1.6293095635961432e-05, 'feature_fraction': 0.5455116530346666, 'bagging_fraction': 0.9591246725535754, 'lambda_l1': 15.682016082466644, 'lambda_l2': 0.04351695269673103}. Best is trial 31 with value: 0.7749170864843036.\u001b[0m\n",
      "\u001b[32m[I 2022-11-01 03:12:17,860]\u001b[0m Trial 47 finished with value: 0.7745125603658735 and parameters: {'num_leaves': 25, 'min_child_samples': 39, 'min_sum_hessian_in_leaf': 1.6095634185747283e-05, 'feature_fraction': 0.5347869878189304, 'bagging_fraction': 0.9460465321115168, 'lambda_l1': 16.698293020300294, 'lambda_l2': 0.07324459660242409}. Best is trial 31 with value: 0.7749170864843036.\u001b[0m\n",
      "\u001b[32m[I 2022-11-01 03:12:23,621]\u001b[0m Trial 48 finished with value: 0.7749974466637718 and parameters: {'num_leaves': 23, 'min_child_samples': 50, 'min_sum_hessian_in_leaf': 1.522255396703723e-05, 'feature_fraction': 0.6022746646399147, 'bagging_fraction': 0.9475003177140017, 'lambda_l1': 13.58038860795589, 'lambda_l2': 0.033664641956380574}. Best is trial 48 with value: 0.7749974466637718.\u001b[0m\n",
      "\u001b[32m[I 2022-11-01 03:13:00,360]\u001b[0m Trial 49 finished with value: 0.7751760537352327 and parameters: {'num_leaves': 19, 'min_child_samples': 145, 'min_sum_hessian_in_leaf': 1.599801996902157e-05, 'feature_fraction': 0.5866849657852664, 'bagging_fraction': 0.9524077219294796, 'lambda_l1': 5.462973414300302, 'lambda_l2': 0.5275647266456817}. Best is trial 49 with value: 0.7751760537352327.\u001b[0m\n"
     ]
    }
   ],
   "source": [
    "# 最適化処理（探索の実行）\n",
    "sampler = optuna.samplers.TPESampler(seed = 123)\n",
    "study = optuna.create_study(sampler = sampler, direction = \"maximize\")\n",
    "study.optimize(objective, n_trials = 50, n_jobs = 5)"
   ]
  },
  {
   "cell_type": "code",
   "execution_count": null,
   "id": "48f27739",
   "metadata": {
    "papermill": {
     "duration": 0.028152,
     "end_time": "2022-11-01T03:13:00.452377",
     "exception": false,
     "start_time": "2022-11-01T03:13:00.424225",
     "status": "completed"
    },
    "tags": []
   },
   "outputs": [],
   "source": []
  }
 ],
 "metadata": {
  "kernelspec": {
   "display_name": "Python 3",
   "language": "python",
   "name": "python3"
  },
  "language_info": {
   "codemirror_mode": {
    "name": "ipython",
    "version": 3
   },
   "file_extension": ".py",
   "mimetype": "text/x-python",
   "name": "python",
   "nbconvert_exporter": "python",
   "pygments_lexer": "ipython3",
   "version": "3.7.12"
  },
  "papermill": {
   "default_parameters": {},
   "duration": 3692.382567,
   "end_time": "2022-11-01T03:13:02.321880",
   "environment_variables": {},
   "exception": null,
   "input_path": "__notebook__.ipynb",
   "output_path": "__notebook__.ipynb",
   "parameters": {},
   "start_time": "2022-11-01T02:11:29.939313",
   "version": "2.3.4"
  }
 },
 "nbformat": 4,
 "nbformat_minor": 5
}
